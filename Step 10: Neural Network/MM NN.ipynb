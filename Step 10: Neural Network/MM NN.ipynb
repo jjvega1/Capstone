{
 "cells": [
  {
   "cell_type": "markdown",
   "id": "7863c6ac",
   "metadata": {},
   "source": [
    "# The Deep Learning Approach"
   ]
  },
  {
   "cell_type": "markdown",
   "id": "f68b7d36",
   "metadata": {},
   "source": [
    "Although I did not use Deep Learning for this project because we do not have a lot of data (I'm talking at least a million), but here is an approach on what it will look like."
   ]
  },
  {
   "cell_type": "markdown",
   "id": "efca605a",
   "metadata": {},
   "source": [
    "First we will load the data and stuff."
   ]
  },
  {
   "cell_type": "code",
   "execution_count": 1,
   "id": "8124d11b",
   "metadata": {},
   "outputs": [],
   "source": [
    "import pandas as pd\n",
    "import numpy as np\n",
    "import collections"
   ]
  },
  {
   "cell_type": "code",
   "execution_count": 2,
   "id": "a84264f6",
   "metadata": {},
   "outputs": [],
   "source": [
    "# Regular Season Results since 1985 (Only includes who won and the points)\n",
    "reg_season_compact_pd = pd.read_csv('Data/MRegularSeasonCompactResults.csv') \\\n",
    "\n",
    "# Regular Season Results since 2003 but includes useful stats like Rebounds, Assists, etc.\n",
    "reg_season_detailed_pd = pd.read_csv('Data/MRegularSeasonDetailedResults.csv')\n",
    "\n",
    "# List of teams who are/was in Division I along with their ID\n",
    "teams_pd = pd.read_csv('Data/MTeams.csv')\n",
    "\n",
    "# Like the first two DataFrames but for the tournament\n",
    "tourney_compact_pd = pd.read_csv('Data/MNCAATourneyCompactResults.csv')\n",
    "tourney_detailed_pd = pd.read_csv('Data/MNCAATourneyDetailedResults.csv')\n",
    "\n",
    "# The Conference Tourney Detailed Results since 2003\n",
    "conference_tourney_results_pd = pd.read_csv('Data/MConferenceTourneyGames.csv')\n",
    "\n",
    "# List of Teams along with their Conferences and ID per Year\n",
    "conferences_pd = pd.read_csv('Data/MTeamConferences.csv')\n",
    "\n",
    "# Seeds \n",
    "seeds_pd = pd.read_csv('Data/MNCAATourneySeeds.csv')\n",
    "\n",
    "# List of Conference Tourney Winners since 2001\n",
    "l = []\n",
    "for i in range(len(conference_tourney_results_pd) - 1):\n",
    "    if conference_tourney_results_pd.iloc[i, 1] != conference_tourney_results_pd.iloc[i + 1, 1]:\n",
    "        season = conference_tourney_results_pd.iloc[i, 0]\n",
    "        conference = conference_tourney_results_pd.iloc[i, 1]\n",
    "        winner = conference_tourney_results_pd.iloc[i, 3]\n",
    "        l.append({'Season': season, 'Conference': conference, 'Winner': winner})\n",
    "        \n",
    "conference_tourney_winners_pd = pd.DataFrame(l)"
   ]
  },
  {
   "cell_type": "code",
   "execution_count": 3,
   "id": "bfc73afc",
   "metadata": {},
   "outputs": [
    {
     "name": "stdout",
     "output_type": "stream",
     "text": [
      "ID for Baylor is 1124\n",
      "The team with ID 1124 is Baylor\n"
     ]
    }
   ],
   "source": [
    "# Get ID given Name\n",
    "def getTeamID(name):\n",
    "    return teams_pd[teams_pd['TeamName'] == name].values[0][0]\n",
    "\n",
    "# Get Name given ID\n",
    "def getTeamName(team_id):\n",
    "    return teams_pd[teams_pd['TeamID'] == team_id].values[0][1]\n",
    "\n",
    "print(\"ID for Baylor is\", getTeamID(\"Baylor\"))\n",
    "print(\"The team with ID 1124 is\", getTeamName(1124))"
   ]
  },
  {
   "cell_type": "code",
   "execution_count": 4,
   "id": "9d85e1fc",
   "metadata": {},
   "outputs": [
    {
     "name": "stdout",
     "output_type": "stream",
     "text": [
      "In 2022, Baylor won 26 games.\n",
      "They averaged 76.5 points per game.\n",
      "While holding opponents to 63.62 points per game.\n"
     ]
    }
   ],
   "source": [
    "# How many wins did a Team win in a given Season\n",
    "def getRegSeasonWins(team_id, year):\n",
    "    c1 = reg_season_compact_pd['WTeamID'] == team_id\n",
    "    c2 = reg_season_compact_pd['Season'] == year\n",
    "    return len(reg_season_compact_pd[c1 & c2])\n",
    "\n",
    "# What was a team's Points per Game in a given Season\n",
    "def getPPG(team_id, year):\n",
    "    ppg = 0\n",
    "    c1 = reg_season_compact_pd['WTeamID'] == team_id\n",
    "    c2 = reg_season_compact_pd['Season'] == year\n",
    "    c3 = reg_season_compact_pd['LTeamID'] == team_id\n",
    "    gamesWon = reg_season_compact_pd[c1 & c2]\n",
    "    ppg = gamesWon['WScore'].sum()\n",
    "    gamesLost = reg_season_compact_pd[c2 & c3]\n",
    "    ppg += gamesLost['LScore'].sum()\n",
    "    total_games = len(gamesWon) + len(gamesLost)\n",
    "    ppg /= total_games\n",
    "    return round(ppg, 2)\n",
    "\n",
    "# In a given season, how many points did a given team give up per game\n",
    "def getOPPG(team_id, year):\n",
    "    oppg = 0\n",
    "    c1 = reg_season_compact_pd['WTeamID'] == team_id\n",
    "    c2 = reg_season_compact_pd['Season'] == year\n",
    "    c3 = reg_season_compact_pd['LTeamID'] == team_id\n",
    "    gamesWon = reg_season_compact_pd[c1 & c2]\n",
    "    oppg = gamesWon['LScore'].sum()\n",
    "    gamesLost = reg_season_compact_pd[c2 & c3]\n",
    "    oppg += gamesLost['WScore'].sum()\n",
    "    total_games = len(gamesWon) + len(gamesLost)\n",
    "    oppg /= total_games\n",
    "    return round(oppg, 2)\n",
    "\n",
    "baylor_id = getTeamID(\"Baylor\")\n",
    "print(\"In 2022, Baylor won\", getRegSeasonWins(baylor_id, 2022), \"games.\")\n",
    "print(\"They averaged\", getPPG(baylor_id, 2022), \"points per game.\")\n",
    "print(\"While holding opponents to\", getOPPG(baylor_id, 2022), \"points per game.\")"
   ]
  },
  {
   "cell_type": "code",
   "execution_count": 5,
   "id": "9f718cec",
   "metadata": {},
   "outputs": [
    {
     "name": "stdout",
     "output_type": "stream",
     "text": [
      "BYU is NOT in a Power 6 conference.\n",
      "Duke is in a Power 6 conference.\n"
     ]
    }
   ],
   "source": [
    "# Hardcoded the divisions as of 2022\n",
    "ACC = [1181, 1314, 1323, 1274, 1448, 1438, 1439, 1199, 1393, 1155, 1257, 1130, 1338, 1210, 1301]\n",
    "Big12 = [1242, 1124, 1403, 1400, 1395, 1329, 1235, 1328, 1243, 1452]\n",
    "BigEast = [1437, 1344, 1163, 1166, 1371, 1266, 1462, 1385, 1177, 1139, 1207]\n",
    "Big10 = [1458, 1228, 1345, 1234, 1326, 1353, 1276, 1277, 1321, 1231, 1268, 1336, 1278, 1304]\n",
    "Pac12 = [1112, 1113, 1417, 1425, 1160, 1450, 1449, 1332, 1333, 1143, 1390, 1428]\n",
    "SEC = [1120, 1397, 1246, 1116, 1401, 1261, 1196, 1376, 1104, 1280, 1435, 1281, 1279, 1208]\n",
    "\n",
    "# Quick function to check if a team's ID is in these lists\n",
    "def getPower6(team_id):\n",
    "    if team_id in ACC or team_id in Big12 or team_id in BigEast or team_id in Big10 or team_id in Pac12 or team_id in SEC:\n",
    "        return 1\n",
    "    else:\n",
    "        return 0\n",
    "\n",
    "if getPower6(getTeamID(\"BYU\")):\n",
    "    print(\"BYU is in a Power 6 conference.\")\n",
    "else:\n",
    "    print(\"BYU is NOT in a Power 6 conference.\")\n",
    "    \n",
    "if getPower6(getTeamID(\"Duke\")):\n",
    "    print(\"Duke is in a Power 6 conference.\")\n",
    "else:\n",
    "    print(\"Duke is NOT in a Power 6 conference.\")"
   ]
  },
  {
   "cell_type": "code",
   "execution_count": 6,
   "id": "3d6cb298",
   "metadata": {},
   "outputs": [
    {
     "name": "stdout",
     "output_type": "stream",
     "text": [
      "In 2009, ETSU averaged 5.94 threes per game.\n",
      "While committing 14.0 turnovers per game.\n"
     ]
    }
   ],
   "source": [
    "# How many three's did a team make per game in a given season\n",
    "def get3PT(team_id, year):\n",
    "    if year < 2003:\n",
    "        return 0\n",
    "    threes = 0\n",
    "    c1 = reg_season_detailed_pd['WTeamID'] == team_id\n",
    "    c2 = reg_season_detailed_pd['Season'] == year\n",
    "    c3 = reg_season_detailed_pd['LTeamID'] == team_id\n",
    "    gamesWon = reg_season_detailed_pd[c1 & c2]\n",
    "    threes = gamesWon['WFGM3'].sum()\n",
    "    gamesLost = reg_season_detailed_pd[c2 & c3]\n",
    "    threes += gamesLost['LFGM3'].sum()\n",
    "    total_games = len(gamesWon) + len(gamesLost)\n",
    "    threes /= total_games\n",
    "    return round(threes, 2)\n",
    "\n",
    "# How many turnovers did a team make per game in a given season\n",
    "def getTO(team_id, year):\n",
    "    if year < 2003:\n",
    "        return 0\n",
    "    to = 0\n",
    "    c1 = reg_season_detailed_pd['WTeamID'] == team_id\n",
    "    c2 = reg_season_detailed_pd['Season'] == year\n",
    "    c3 = reg_season_detailed_pd['LTeamID'] == team_id\n",
    "    gamesWon = reg_season_detailed_pd[c1 & c2]\n",
    "    to = gamesWon['WTO'].sum()\n",
    "    gamesLost = reg_season_detailed_pd[c2 & c3]\n",
    "    to += gamesLost['LTO'].sum()\n",
    "    total_games = len(gamesWon) + len(gamesLost)\n",
    "    to /= total_games\n",
    "    return round(to, 2)\n",
    "\n",
    "ETSU_id = getTeamID(\"ETSU\")\n",
    "print(\"In 2009, ETSU averaged\", get3PT(ETSU_id, 2009), \"threes per game.\")\n",
    "print(\"While committing\", getTO(ETSU_id, 2009), \"turnovers per game.\")"
   ]
  },
  {
   "cell_type": "code",
   "execution_count": 7,
   "id": "fadcea76",
   "metadata": {},
   "outputs": [],
   "source": [
    "# How many Assists did a team make per game\n",
    "def getAST(team_id, year):\n",
    "    if year < 2003:\n",
    "        return 0\n",
    "    ast = 0\n",
    "    c1 = reg_season_detailed_pd['WTeamID'] == team_id\n",
    "    c2 = reg_season_detailed_pd['Season'] == year\n",
    "    c3 = reg_season_detailed_pd['LTeamID'] == team_id\n",
    "    gamesWon = reg_season_detailed_pd[c1 & c2]\n",
    "    ast = gamesWon['WAst'].sum()\n",
    "    gamesLost = reg_season_detailed_pd[c2 & c3]\n",
    "    ast += gamesLost['LAst'].sum()\n",
    "    total_games = len(gamesWon) + len(gamesLost)\n",
    "    ast /= total_games\n",
    "    return round(ast, 2)\n",
    "\n",
    "# Determine if a team was the conference champion in their division in a given year\n",
    "def getTourneyConferenceChampion(team_id, year):\n",
    "    if year < 2001:\n",
    "        return 0\n",
    "    conf = getConference(team_id, year)\n",
    "    c1 = conference_tourney_winners_pd['Season'] == year\n",
    "    c2 = conference_tourney_winners_pd['Conference'] == conf\n",
    "    if len(conference_tourney_winners_pd[c1 & c2]) == 0:\n",
    "        return 0\n",
    "    if team_id == conference_tourney_winners_pd[c1 & c2]['Winner'].values[0]:\n",
    "        return 1\n",
    "    else:\n",
    "        return 0"
   ]
  },
  {
   "cell_type": "code",
   "execution_count": 8,
   "id": "af278f53",
   "metadata": {},
   "outputs": [],
   "source": [
    "# Easy way to get a team's conference in a given year\n",
    "def getConference(team_id, year):\n",
    "    c1 = conferences_pd['TeamID'] == team_id\n",
    "    c2 = conferences_pd['Season'] == year\n",
    "    c3 = conferences_pd[c1 & c2]\n",
    "    if len(c3) == 0:\n",
    "        return conferences_pd[c1].values[0][2]\n",
    "    return c3['ConfAbbrev'].values[0]\n",
    "\n",
    "# Get the seed of the team in a given year\n",
    "def getSeed(team_id, year):\n",
    "    c1 = seeds_pd['TeamID'] == team_id\n",
    "    c2 = seeds_pd['Season'] == year\n",
    "    if len(seeds_pd[c1 & c2]) == 0:\n",
    "        return 0\n",
    "    return int(seeds_pd[c1 & c2]['Seed'].values[0][1:3])\n",
    "\n",
    "# Get rebounds per game in a given year\n",
    "def getRPG(team_id, year):\n",
    "    if year < 2003:\n",
    "        return 0\n",
    "    reb = 0\n",
    "    c1 = reg_season_detailed_pd['WTeamID'] == team_id\n",
    "    c2 = reg_season_detailed_pd['Season'] == year\n",
    "    c3 = reg_season_detailed_pd['LTeamID'] == team_id\n",
    "    gamesWon = reg_season_detailed_pd[c1 & c2]\n",
    "    reb = gamesWon['WOR'].sum()\n",
    "    reb += gamesWon['WDR'].sum()\n",
    "    gamesLost = reg_season_detailed_pd[c2 & c3]\n",
    "    reb += gamesLost['LOR'].sum()\n",
    "    reb += gamesLost['LDR'].sum()\n",
    "    total_games = len(gamesWon) + len(gamesLost)\n",
    "    reb /= total_games\n",
    "    return round(reb, 2)"
   ]
  },
  {
   "cell_type": "code",
   "execution_count": 9,
   "id": "9cc934f6",
   "metadata": {},
   "outputs": [],
   "source": [
    "# Steals per game\n",
    "def getSTL(team_id, year):\n",
    "    if year < 2003:\n",
    "        return 0\n",
    "    stl = 0\n",
    "    c1 = reg_season_detailed_pd['WTeamID'] == team_id\n",
    "    c2 = reg_season_detailed_pd['Season'] == year\n",
    "    c3 = reg_season_detailed_pd['LTeamID'] == team_id\n",
    "    gamesWon = reg_season_detailed_pd[c1 & c2]\n",
    "    stl = gamesWon['WStl'].sum()\n",
    "    gamesLost = reg_season_detailed_pd[c2 & c3]\n",
    "    stl += gamesLost['LStl'].sum()\n",
    "    total_games = len(gamesWon) + len(gamesLost)\n",
    "    stl /= total_games\n",
    "    return round(stl, 2)\n",
    "\n",
    "# How many times did a team appear in the tournament as of 2022\n",
    "def getNumOfAppearances(team_id):\n",
    "    return len(seeds_pd[seeds_pd['TeamID'] == team_id])\n",
    "\n",
    "# Helper function for below\n",
    "def getHomeStat(row):\n",
    "    if (row == 'H'):\n",
    "        home = 1\n",
    "    if (row == 'A'):\n",
    "        home = -1\n",
    "    if (row == 'N'):\n",
    "        home = 0\n",
    "    return home"
   ]
  },
  {
   "cell_type": "code",
   "execution_count": 10,
   "id": "2067e0c5",
   "metadata": {},
   "outputs": [
    {
     "data": {
      "text/plain": [
       "[15, 68.86, 68.25, 0, 5.93, 12.0, 13.04, 0, 0, 32.82, 7.04, 0]"
      ]
     },
     "execution_count": 10,
     "metadata": {},
     "output_type": "execute_result"
    }
   ],
   "source": [
    "# Build the vector\n",
    "def getSeasonData(team_id, year):\n",
    "    # Check first if the team was Division 1 at the time\n",
    "    c1 = teams_pd[teams_pd['TeamID'] == team_id]['FirstD1Season'].values[0] <= year\n",
    "    c2 = teams_pd[teams_pd['TeamID'] == team_id]['LastD1Season'].values[0] >= year\n",
    "    if ~c1 or ~c2:\n",
    "        return []\n",
    "    return [getRegSeasonWins(team_id, year),\n",
    "            getPPG(team_id, year),\n",
    "            getOPPG(team_id, year),\n",
    "            getPower6(team_id),\n",
    "            get3PT(team_id, year),\n",
    "            getTO(team_id, year),\n",
    "            getAST(team_id, year),\n",
    "            getTourneyConferenceChampion(team_id, year),\n",
    "            getSeed(team_id, year),\n",
    "            getRPG(team_id, year),\n",
    "            getSTL(team_id, year),\n",
    "            getNumOfAppearances(team_id)]\n",
    "\n",
    "# Build vectors for every team in a given season\n",
    "def createSeasonDict(year):\n",
    "    seasonDictionary = collections.defaultdict(list)\n",
    "    for team in teams_pd['TeamName'].tolist():\n",
    "        team_id = teams_pd[teams_pd['TeamName'] == team].values[0][0]\n",
    "        team_vector = getSeasonData(team_id, year)\n",
    "        seasonDictionary[team_id] = team_vector\n",
    "    return seasonDictionary\n",
    "\n",
    "# Below is the season data for Toledo in 2013\n",
    "getSeasonData(1405, 2013)"
   ]
  },
  {
   "cell_type": "code",
   "execution_count": 11,
   "id": "50f3eb5f",
   "metadata": {},
   "outputs": [],
   "source": [
    "# Basically run the function directly above this one on a set of years\n",
    "def createTrainingSet(years):\n",
    "    totalNumGames = 0\n",
    "    for year in years:\n",
    "        season = reg_season_compact_pd[reg_season_compact_pd['Season'] == year]\n",
    "        totalNumGames += len(season.index)\n",
    "        tourney = tourney_compact_pd[tourney_compact_pd['Season'] == year]\n",
    "        totalNumGames += len(tourney.index)\n",
    "    numFeatures = len(getSeasonData(1181,2012)) #Just choosing a random team and seeing the dimensionality of the vector\n",
    "    xTrain = np.zeros(( totalNumGames, numFeatures + 1))\n",
    "    yTrain = np.zeros(( totalNumGames ))\n",
    "    indexCounter = 0\n",
    "    for year in years:\n",
    "        team_vectors = createSeasonDict(year)\n",
    "        season = reg_season_compact_pd[reg_season_compact_pd['Season'] == year]\n",
    "        numGamesInSeason = len(season.index)\n",
    "        tourney = tourney_compact_pd[tourney_compact_pd['Season'] == year]\n",
    "        numGamesInSeason += len(tourney.index)\n",
    "        xTrainSeason = np.zeros(( numGamesInSeason, numFeatures + 1))\n",
    "        yTrainSeason = np.zeros(( numGamesInSeason ))\n",
    "        counter = 0\n",
    "        for index, row in season.iterrows():\n",
    "            w_team = row['WTeamID']\n",
    "            w_vector = team_vectors[w_team]\n",
    "            l_team = row['LTeamID']\n",
    "            l_vector = team_vectors[l_team]\n",
    "            diff = [a - b for a, b in zip(w_vector, l_vector)]\n",
    "            home = getHomeStat(row['WLoc'])\n",
    "            if (counter % 2 == 0):\n",
    "                diff.append(home) \n",
    "                xTrainSeason[counter] = diff\n",
    "                yTrainSeason[counter] = 1\n",
    "            else:\n",
    "                diff.append(-home)\n",
    "                xTrainSeason[counter] = [ -p for p in diff]\n",
    "                yTrainSeason[counter] = 0\n",
    "            counter += 1\n",
    "        for index, row in tourney.iterrows():\n",
    "            w_team = row['WTeamID']\n",
    "            w_vector = team_vectors[w_team]\n",
    "            l_team = row['LTeamID']\n",
    "            l_vector = team_vectors[l_team]\n",
    "            diff = [a - b for a, b in zip(w_vector, l_vector)]\n",
    "            home = 0 #All tournament games are neutral\n",
    "            if (counter % 2 == 0):\n",
    "                diff.append(home) \n",
    "                xTrainSeason[counter] = diff\n",
    "                yTrainSeason[counter] = 1\n",
    "            else:\n",
    "                diff.append(-home)\n",
    "                xTrainSeason[counter] = [ -p for p in diff]\n",
    "                yTrainSeason[counter] = 0\n",
    "            counter += 1\n",
    "        xTrain[indexCounter:numGamesInSeason+indexCounter] = xTrainSeason\n",
    "        yTrain[indexCounter:numGamesInSeason+indexCounter] = yTrainSeason\n",
    "        indexCounter += numGamesInSeason\n",
    "    return xTrain, yTrain"
   ]
  },
  {
   "cell_type": "code",
   "execution_count": 15,
   "id": "b27d0607",
   "metadata": {},
   "outputs": [
    {
     "name": "stderr",
     "output_type": "stream",
     "text": [
      "/var/folders/fp/ldkzpcgs2vn05s1syqr7rjz40000gp/T/ipykernel_18835/3285972439.py:18: RuntimeWarning: invalid value encountered in long_scalars\n",
      "  ppg /= total_games\n",
      "/var/folders/fp/ldkzpcgs2vn05s1syqr7rjz40000gp/T/ipykernel_18835/3285972439.py:32: RuntimeWarning: invalid value encountered in long_scalars\n",
      "  oppg /= total_games\n",
      "/var/folders/fp/ldkzpcgs2vn05s1syqr7rjz40000gp/T/ipykernel_18835/3906272968.py:14: RuntimeWarning: invalid value encountered in long_scalars\n",
      "  threes /= total_games\n",
      "/var/folders/fp/ldkzpcgs2vn05s1syqr7rjz40000gp/T/ipykernel_18835/3906272968.py:30: RuntimeWarning: invalid value encountered in long_scalars\n",
      "  to /= total_games\n",
      "/var/folders/fp/ldkzpcgs2vn05s1syqr7rjz40000gp/T/ipykernel_18835/3490263934.py:33: RuntimeWarning: invalid value encountered in long_scalars\n",
      "  reb /= total_games\n"
     ]
    }
   ],
   "source": [
    "x_data, y_data = createTrainingSet([i for i in range(1985, 2022)])\n",
    "np.save('x_dataset', x_data)\n",
    "np.save('y_dataset', y_data)"
   ]
  },
  {
   "cell_type": "code",
   "execution_count": 16,
   "id": "9e1839d1",
   "metadata": {},
   "outputs": [
    {
     "data": {
      "text/plain": [
       "(173052, 13)"
      ]
     },
     "execution_count": 16,
     "metadata": {},
     "output_type": "execute_result"
    }
   ],
   "source": [
    "xTrain = np.load('x_dataset.npy')\n",
    "yTrain = np.load('y_dataset.npy')\n",
    "xTrain.shape"
   ]
  },
  {
   "cell_type": "markdown",
   "id": "e95c4d41",
   "metadata": {},
   "source": [
    "We will use a simple DNN model to determine if using every regular season game to predict the 2022 March Madness is viable."
   ]
  },
  {
   "cell_type": "code",
   "execution_count": 17,
   "id": "85b8f518",
   "metadata": {},
   "outputs": [
    {
     "name": "stderr",
     "output_type": "stream",
     "text": [
      "2023-07-19 22:18:31.562534: I tensorflow/core/platform/cpu_feature_guard.cc:182] This TensorFlow binary is optimized to use available CPU instructions in performance-critical operations.\n",
      "To enable the following instructions: AVX2 FMA, in other operations, rebuild TensorFlow with the appropriate compiler flags.\n"
     ]
    }
   ],
   "source": [
    "import tensorflow as tf"
   ]
  },
  {
   "cell_type": "code",
   "execution_count": 101,
   "id": "e0da830c",
   "metadata": {},
   "outputs": [],
   "source": [
    "# Set up the layers\n",
    "dnn = tf.keras.Sequential([\n",
    "    tf.keras.layers.Flatten(input_shape = (13, )),\n",
    "    tf.keras.layers.Dense(64, activation='relu'),\n",
    "    tf.keras.layers.Dense(1, activation = 'sigmoid')])"
   ]
  },
  {
   "cell_type": "code",
   "execution_count": 102,
   "id": "fef69503",
   "metadata": {},
   "outputs": [],
   "source": [
    "# Compile\n",
    "dnn.compile(optimizer = 'adam',\n",
    "            loss = tf.keras.losses.BinaryCrossentropy(from_logits = True),\n",
    "            metrics = ['accuracy'])"
   ]
  },
  {
   "cell_type": "code",
   "execution_count": 119,
   "id": "304f5f4c",
   "metadata": {},
   "outputs": [
    {
     "name": "stdout",
     "output_type": "stream",
     "text": [
      "Epoch 1/38\n",
      "3786/3786 [==============================] - 5s 1ms/step - loss: 0.6211 - accuracy: 0.7425\n",
      "Epoch 2/38\n",
      "3786/3786 [==============================] - 4s 1ms/step - loss: 0.6177 - accuracy: 0.7387\n",
      "Epoch 3/38\n",
      "3786/3786 [==============================] - 4s 1ms/step - loss: 0.6173 - accuracy: 0.7380\n",
      "Epoch 4/38\n",
      "3786/3786 [==============================] - 5s 1ms/step - loss: 0.6172 - accuracy: 0.7385\n",
      "Epoch 5/38\n",
      "3786/3786 [==============================] - 5s 1ms/step - loss: 0.6171 - accuracy: 0.7388\n",
      "Epoch 6/38\n",
      "3786/3786 [==============================] - 5s 1ms/step - loss: 0.6170 - accuracy: 0.7391\n",
      "Epoch 7/38\n",
      "3786/3786 [==============================] - 5s 1ms/step - loss: 0.6169 - accuracy: 0.7398\n",
      "Epoch 8/38\n",
      "3786/3786 [==============================] - 5s 1ms/step - loss: 0.6168 - accuracy: 0.7391\n",
      "Epoch 9/38\n",
      "3786/3786 [==============================] - 5s 1ms/step - loss: 0.6168 - accuracy: 0.7406\n",
      "Epoch 10/38\n",
      "3786/3786 [==============================] - 5s 1ms/step - loss: 0.6167 - accuracy: 0.7399\n",
      "Epoch 11/38\n",
      "3786/3786 [==============================] - 5s 1ms/step - loss: 0.6167 - accuracy: 0.7401\n",
      "Epoch 12/38\n",
      "3786/3786 [==============================] - 5s 1ms/step - loss: 0.6166 - accuracy: 0.7406\n",
      "Epoch 13/38\n",
      "3786/3786 [==============================] - 5s 1ms/step - loss: 0.6165 - accuracy: 0.7405\n",
      "Epoch 14/38\n",
      "3786/3786 [==============================] - 5s 1ms/step - loss: 0.6166 - accuracy: 0.7412\n",
      "Epoch 15/38\n",
      "3786/3786 [==============================] - 5s 1ms/step - loss: 0.6165 - accuracy: 0.7404\n",
      "Epoch 16/38\n",
      "3786/3786 [==============================] - 5s 1ms/step - loss: 0.6165 - accuracy: 0.7400\n",
      "Epoch 17/38\n",
      "3786/3786 [==============================] - 5s 1ms/step - loss: 0.6164 - accuracy: 0.7414\n",
      "Epoch 18/38\n",
      "3786/3786 [==============================] - 5s 1ms/step - loss: 0.6164 - accuracy: 0.7412\n",
      "Epoch 19/38\n",
      "3786/3786 [==============================] - 5s 1ms/step - loss: 0.6162 - accuracy: 0.7415\n",
      "Epoch 20/38\n",
      "3786/3786 [==============================] - 5s 1ms/step - loss: 0.6164 - accuracy: 0.7406\n",
      "Epoch 21/38\n",
      "3786/3786 [==============================] - 6s 1ms/step - loss: 0.6162 - accuracy: 0.7414\n",
      "Epoch 22/38\n",
      "3786/3786 [==============================] - 5s 1ms/step - loss: 0.6163 - accuracy: 0.7405\n",
      "Epoch 23/38\n",
      "3786/3786 [==============================] - 5s 1ms/step - loss: 0.6162 - accuracy: 0.7412\n",
      "Epoch 24/38\n",
      "3786/3786 [==============================] - 5s 1ms/step - loss: 0.6162 - accuracy: 0.7412\n",
      "Epoch 25/38\n",
      "3786/3786 [==============================] - 5s 1ms/step - loss: 0.6162 - accuracy: 0.7419\n",
      "Epoch 26/38\n",
      "3786/3786 [==============================] - 5s 1ms/step - loss: 0.6161 - accuracy: 0.7419\n",
      "Epoch 27/38\n",
      "3786/3786 [==============================] - 5s 1ms/step - loss: 0.6161 - accuracy: 0.7426\n",
      "Epoch 28/38\n",
      "3786/3786 [==============================] - 4s 1ms/step - loss: 0.6160 - accuracy: 0.7423\n",
      "Epoch 29/38\n",
      "3786/3786 [==============================] - 5s 1ms/step - loss: 0.6160 - accuracy: 0.7419\n",
      "Epoch 30/38\n",
      "3786/3786 [==============================] - 6s 2ms/step - loss: 0.6161 - accuracy: 0.7420\n",
      "Epoch 31/38\n",
      "3786/3786 [==============================] - 8s 2ms/step - loss: 0.6158 - accuracy: 0.7426\n",
      "Epoch 32/38\n",
      "3786/3786 [==============================] - 5s 1ms/step - loss: 0.6159 - accuracy: 0.7419\n",
      "Epoch 33/38\n",
      "3786/3786 [==============================] - 5s 1ms/step - loss: 0.6159 - accuracy: 0.7428\n",
      "Epoch 34/38\n",
      "3786/3786 [==============================] - 5s 1ms/step - loss: 0.6158 - accuracy: 0.7428\n",
      "Epoch 35/38\n",
      "3786/3786 [==============================] - 5s 1ms/step - loss: 0.6158 - accuracy: 0.7429\n",
      "Epoch 36/38\n",
      "3786/3786 [==============================] - 5s 1ms/step - loss: 0.6157 - accuracy: 0.7425\n",
      "Epoch 37/38\n",
      "3786/3786 [==============================] - 4s 1ms/step - loss: 0.6158 - accuracy: 0.7431\n",
      "Epoch 38/38\n",
      "3786/3786 [==============================] - 5s 1ms/step - loss: 0.6157 - accuracy: 0.7430\n"
     ]
    },
    {
     "data": {
      "text/plain": [
       "<keras.src.callbacks.History at 0x7fd7dd4958d0>"
      ]
     },
     "execution_count": 119,
     "metadata": {},
     "output_type": "execute_result"
    }
   ],
   "source": [
    "# Train it\n",
    "from sklearn.model_selection import train_test_split\n",
    "X_train, X_val, y_train, y_val = train_test_split(xTrain, yTrain, test_size = .3, random_state = 254)\n",
    "\n",
    "dnn.fit(X_train, y_train, epochs = 38)"
   ]
  },
  {
   "cell_type": "code",
   "execution_count": 120,
   "id": "2af7fd67",
   "metadata": {},
   "outputs": [
    {
     "data": {
      "text/plain": [
       "0.7336400747299194"
      ]
     },
     "execution_count": 120,
     "metadata": {},
     "output_type": "execute_result"
    }
   ],
   "source": [
    "# Accuracy on Validation set\n",
    "val_loss, val_acc = dnn.evaluate(X_val, y_val, verbose = 4)\n",
    "val_acc"
   ]
  },
  {
   "cell_type": "code",
   "execution_count": 136,
   "id": "c1a15991",
   "metadata": {},
   "outputs": [
    {
     "name": "stdout",
     "output_type": "stream",
     "text": [
      "1/1 [==============================] - 0s 29ms/step\n",
      "1/1 [==============================] - 0s 30ms/step\n",
      "1/1 [==============================] - 0s 29ms/step\n",
      "1/1 [==============================] - 0s 31ms/step\n",
      "1/1 [==============================] - 0s 31ms/step\n",
      "1/1 [==============================] - 0s 30ms/step\n",
      "1/1 [==============================] - 0s 31ms/step\n",
      "1/1 [==============================] - 0s 30ms/step\n",
      "1/1 [==============================] - 0s 29ms/step\n",
      "1/1 [==============================] - 0s 31ms/step\n",
      "1/1 [==============================] - 0s 32ms/step\n",
      "1/1 [==============================] - 0s 31ms/step\n",
      "1/1 [==============================] - 0s 30ms/step\n",
      "1/1 [==============================] - 0s 30ms/step\n",
      "1/1 [==============================] - 0s 33ms/step\n",
      "1/1 [==============================] - 0s 33ms/step\n",
      "1/1 [==============================] - 0s 30ms/step\n",
      "1/1 [==============================] - 0s 30ms/step\n",
      "1/1 [==============================] - 0s 29ms/step\n",
      "1/1 [==============================] - 0s 29ms/step\n",
      "1/1 [==============================] - 0s 29ms/step\n",
      "1/1 [==============================] - 0s 32ms/step\n",
      "1/1 [==============================] - 0s 32ms/step\n",
      "1/1 [==============================] - 0s 31ms/step\n",
      "1/1 [==============================] - 0s 30ms/step\n",
      "1/1 [==============================] - 0s 30ms/step\n",
      "1/1 [==============================] - 0s 33ms/step\n",
      "1/1 [==============================] - 0s 31ms/step\n",
      "1/1 [==============================] - 0s 30ms/step\n",
      "1/1 [==============================] - 0s 30ms/step\n",
      "1/1 [==============================] - 0s 29ms/step\n",
      "1/1 [==============================] - 0s 29ms/step\n"
     ]
    }
   ],
   "source": [
    "# Accuracy on Test set\n",
    "c1 = tourney_detailed_pd['DayNum'] == 136\n",
    "c2 = tourney_detailed_pd['DayNum'] == 137\n",
    "c3 = tourney_detailed_pd['Season'] == 2022\n",
    "first_round_2022_pd = tourney_detailed_pd[(c1 | c2) & c3]\n",
    "\n",
    "d = {'WTeamID': first_round_2022_pd['WTeamID'].tolist(),\n",
    "     'LTeamID': first_round_2022_pd['LTeamID'].tolist(),\n",
    "     'WTeamWin': 0\n",
    "    }\n",
    "\n",
    "first_round_2022_prediction_pd = pd.DataFrame(d)\n",
    "first_round_2022_prediction_pd.head()\n",
    "\n",
    "def predictOutcome(w_data, l_data):\n",
    "    diff = [a - b for a, b in zip(w_data, l_data)]\n",
    "    diff.append(0)\n",
    "    prediction = dnn.predict([diff])\n",
    "    if prediction < .5:\n",
    "        return 0\n",
    "    else:\n",
    "        return 1\n",
    "    \n",
    "X_test = getSeasonData\n",
    "results = []\n",
    "\n",
    "for i in range(32):\n",
    "    w_team = first_round_2022_prediction_pd.iloc[i, 0]\n",
    "    l_team = first_round_2022_prediction_pd.iloc[i, 1]\n",
    "    w_data = getSeasonData(w_team, 2022)\n",
    "    l_data = getSeasonData(l_team, 2022)\n",
    "    results.append(predictOutcome(w_data, l_data)) "
   ]
  },
  {
   "cell_type": "code",
   "execution_count": 139,
   "id": "4fc7670f",
   "metadata": {},
   "outputs": [
    {
     "data": {
      "text/plain": [
       "0.625"
      ]
     },
     "execution_count": 139,
     "metadata": {},
     "output_type": "execute_result"
    }
   ],
   "source": [
    "results.count(1) / 32"
   ]
  },
  {
   "cell_type": "markdown",
   "id": "0e8c0243",
   "metadata": {},
   "source": [
    "With only a 62.5% accuracy score in Round 1, DNN's are not it."
   ]
  },
  {
   "cell_type": "code",
   "execution_count": null,
   "id": "95ce3c1c",
   "metadata": {},
   "outputs": [],
   "source": []
  }
 ],
 "metadata": {
  "kernelspec": {
   "display_name": "Python 3 (ipykernel)",
   "language": "python",
   "name": "python3"
  },
  "language_info": {
   "codemirror_mode": {
    "name": "ipython",
    "version": 3
   },
   "file_extension": ".py",
   "mimetype": "text/x-python",
   "name": "python",
   "nbconvert_exporter": "python",
   "pygments_lexer": "ipython3",
   "version": "3.10.9"
  }
 },
 "nbformat": 4,
 "nbformat_minor": 5
}
