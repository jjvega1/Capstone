{
 "cells": [
  {
   "cell_type": "markdown",
   "id": "971d456a",
   "metadata": {},
   "source": [
    "# Logistic Regression is the Way to Go"
   ]
  },
  {
   "cell_type": "markdown",
   "id": "825400a1",
   "metadata": {},
   "source": [
    "After some deliberation, we chose basic Logisitc Regression as our model of choice."
   ]
  },
  {
   "cell_type": "markdown",
   "id": "b41789be",
   "metadata": {},
   "source": [
    "## Data Preparation and Feature Selection"
   ]
  },
  {
   "cell_type": "markdown",
   "id": "18a6ec83",
   "metadata": {},
   "source": [
    "This part of the code was copied directly from the previous step."
   ]
  },
  {
   "cell_type": "code",
   "execution_count": 1,
   "id": "e4d10028",
   "metadata": {},
   "outputs": [],
   "source": [
    "import pandas as pd\n",
    "import numpy as np\n",
    "import collections"
   ]
  },
  {
   "cell_type": "code",
   "execution_count": 2,
   "id": "b2bccc28",
   "metadata": {},
   "outputs": [],
   "source": [
    "# Regular Season Results since 1985 (Only includes who won and the points)\n",
    "reg_season_compact_pd = pd.read_csv('Data/MRegularSeasonCompactResults.csv') \\\n",
    "\n",
    "# Regular Season Results since 2003 but includes useful stats like Rebounds, Assists, etc.\n",
    "reg_season_detailed_pd = pd.read_csv('Data/MRegularSeasonDetailedResults.csv')\n",
    "\n",
    "# List of teams who are/was in Division I along with their ID\n",
    "teams_pd = pd.read_csv('Data/MTeams.csv')\n",
    "\n",
    "# Like the first two DataFrames but for the tournament\n",
    "tourney_compact_pd = pd.read_csv('Data/MNCAATourneyCompactResults.csv')\n",
    "tourney_detailed_pd = pd.read_csv('Data/MNCAATourneyDetailedResults.csv')\n",
    "\n",
    "# The Conference Tourney Detailed Results since 2003\n",
    "conference_tourney_results_pd = pd.read_csv('Data/MConferenceTourneyGames.csv')\n",
    "\n",
    "# List of Teams along with their Conferences and ID per Year\n",
    "conferences_pd = pd.read_csv('Data/MTeamConferences.csv')\n",
    "\n",
    "# Seeds \n",
    "seeds_pd = pd.read_csv('Data/MNCAATourneySeeds.csv')\n",
    "\n",
    "# List of Conference Tourney Winners since 2001\n",
    "l = []\n",
    "for i in range(len(conference_tourney_results_pd) - 1):\n",
    "    if conference_tourney_results_pd.iloc[i, 1] != conference_tourney_results_pd.iloc[i + 1, 1]:\n",
    "        season = conference_tourney_results_pd.iloc[i, 0]\n",
    "        conference = conference_tourney_results_pd.iloc[i, 1]\n",
    "        winner = conference_tourney_results_pd.iloc[i, 3]\n",
    "        l.append({'Season': season, 'Conference': conference, 'Winner': winner})\n",
    "        \n",
    "conference_tourney_winners_pd = pd.DataFrame(l)"
   ]
  },
  {
   "cell_type": "markdown",
   "id": "35d92263",
   "metadata": {},
   "source": [
    "We will unfortunately not use a lot of the features presented last time, but we will use the following:\n",
    "\n",
    "- Regular Season Wins\n",
    "- Points per game season average\n",
    "- Points per game allowed season average\n",
    "- Whether or not in Power 6 conference (ACC, Big Ten, Big 12, SEC, Pac 12, Big East) - Binary label\n",
    "- Number of 3's per game\n",
    "- Turnovers per game average\n",
    "- Assists per game average\n",
    "- Conference Tournament Championship - binary label\n",
    "- Tournament Seed\n",
    "- Rebounds per game average\n",
    "- Steals per game average\n",
    "- Number of NCAA appearances since 1985"
   ]
  },
  {
   "cell_type": "code",
   "execution_count": 3,
   "id": "49122ee7",
   "metadata": {},
   "outputs": [
    {
     "name": "stdout",
     "output_type": "stream",
     "text": [
      "ID for Baylor is 1124\n",
      "The team with ID 1124 is Baylor\n"
     ]
    }
   ],
   "source": [
    "# Get ID given Name\n",
    "def getTeamID(name):\n",
    "    return teams_pd[teams_pd['TeamName'] == name].values[0][0]\n",
    "\n",
    "# Get Name given ID\n",
    "def getTeamName(team_id):\n",
    "    return teams_pd[teams_pd['TeamID'] == team_id].values[0][1]\n",
    "\n",
    "print(\"ID for Baylor is\", getTeamID(\"Baylor\"))\n",
    "print(\"The team with ID 1124 is\", getTeamName(1124))"
   ]
  },
  {
   "cell_type": "code",
   "execution_count": 4,
   "id": "29b70c71",
   "metadata": {},
   "outputs": [
    {
     "name": "stdout",
     "output_type": "stream",
     "text": [
      "In 2022, Baylor won 26 games.\n",
      "They averaged 76.5 points per game.\n",
      "While holding opponents to 63.62 points per game.\n"
     ]
    }
   ],
   "source": [
    "# How many wins did a Team win in a given Season\n",
    "def getRegSeasonWins(team_id, year):\n",
    "    c1 = reg_season_compact_pd['WTeamID'] == team_id\n",
    "    c2 = reg_season_compact_pd['Season'] == year\n",
    "    return len(reg_season_compact_pd[c1 & c2])\n",
    "\n",
    "# What was a team's Points per Game in a given Season\n",
    "def getPPG(team_id, year):\n",
    "    ppg = 0\n",
    "    c1 = reg_season_compact_pd['WTeamID'] == team_id\n",
    "    c2 = reg_season_compact_pd['Season'] == year\n",
    "    c3 = reg_season_compact_pd['LTeamID'] == team_id\n",
    "    gamesWon = reg_season_compact_pd[c1 & c2]\n",
    "    ppg = gamesWon['WScore'].sum()\n",
    "    gamesLost = reg_season_compact_pd[c2 & c3]\n",
    "    ppg += gamesLost['LScore'].sum()\n",
    "    total_games = len(gamesWon) + len(gamesLost)\n",
    "    ppg /= total_games\n",
    "    return round(ppg, 2)\n",
    "\n",
    "# In a given season, how many points did a given team give up per game\n",
    "def getOPPG(team_id, year):\n",
    "    oppg = 0\n",
    "    c1 = reg_season_compact_pd['WTeamID'] == team_id\n",
    "    c2 = reg_season_compact_pd['Season'] == year\n",
    "    c3 = reg_season_compact_pd['LTeamID'] == team_id\n",
    "    gamesWon = reg_season_compact_pd[c1 & c2]\n",
    "    oppg = gamesWon['LScore'].sum()\n",
    "    gamesLost = reg_season_compact_pd[c2 & c3]\n",
    "    oppg += gamesLost['WScore'].sum()\n",
    "    total_games = len(gamesWon) + len(gamesLost)\n",
    "    oppg /= total_games\n",
    "    return round(oppg, 2)\n",
    "\n",
    "baylor_id = getTeamID(\"Baylor\")\n",
    "print(\"In 2022, Baylor won\", getRegSeasonWins(baylor_id, 2022), \"games.\")\n",
    "print(\"They averaged\", getPPG(baylor_id, 2022), \"points per game.\")\n",
    "print(\"While holding opponents to\", getOPPG(baylor_id, 2022), \"points per game.\")"
   ]
  },
  {
   "cell_type": "code",
   "execution_count": 5,
   "id": "2cca12a7",
   "metadata": {},
   "outputs": [
    {
     "name": "stdout",
     "output_type": "stream",
     "text": [
      "BYU is NOT in a Power 6 conference.\n",
      "Duke is in a Power 6 conference.\n"
     ]
    }
   ],
   "source": [
    "# Hardcoded the divisions as of 2022\n",
    "ACC = [1181, 1314, 1323, 1274, 1448, 1438, 1439, 1199, 1393, 1155, 1257, 1130, 1338, 1210, 1301]\n",
    "Big12 = [1242, 1124, 1403, 1400, 1395, 1329, 1235, 1328, 1243, 1452]\n",
    "BigEast = [1437, 1344, 1163, 1166, 1371, 1266, 1462, 1385, 1177, 1139, 1207]\n",
    "Big10 = [1458, 1228, 1345, 1234, 1326, 1353, 1276, 1277, 1321, 1231, 1268, 1336, 1278, 1304]\n",
    "Pac12 = [1112, 1113, 1417, 1425, 1160, 1450, 1449, 1332, 1333, 1143, 1390, 1428]\n",
    "SEC = [1120, 1397, 1246, 1116, 1401, 1261, 1196, 1376, 1104, 1280, 1435, 1281, 1279, 1208]\n",
    "\n",
    "# Quick function to check if a team's ID is in these lists\n",
    "def getPower6(team_id):\n",
    "    if team_id in ACC or team_id in Big12 or team_id in BigEast or team_id in Big10 or team_id in Pac12 or team_id in SEC:\n",
    "        return 1\n",
    "    else:\n",
    "        return 0\n",
    "\n",
    "if getPower6(getTeamID(\"BYU\")):\n",
    "    print(\"BYU is in a Power 6 conference.\")\n",
    "else:\n",
    "    print(\"BYU is NOT in a Power 6 conference.\")\n",
    "    \n",
    "if getPower6(getTeamID(\"Duke\")):\n",
    "    print(\"Duke is in a Power 6 conference.\")\n",
    "else:\n",
    "    print(\"Duke is NOT in a Power 6 conference.\")"
   ]
  },
  {
   "cell_type": "code",
   "execution_count": 6,
   "id": "6c9f55f1",
   "metadata": {},
   "outputs": [
    {
     "name": "stdout",
     "output_type": "stream",
     "text": [
      "In 2009, ETSU averaged 5.94 threes per game.\n",
      "While committing 14.0 turnovers per game.\n"
     ]
    }
   ],
   "source": [
    "# How many three's did a team make per game in a given season\n",
    "def get3PT(team_id, year):\n",
    "    if year < 2003:\n",
    "        return 0\n",
    "    threes = 0\n",
    "    c1 = reg_season_detailed_pd['WTeamID'] == team_id\n",
    "    c2 = reg_season_detailed_pd['Season'] == year\n",
    "    c3 = reg_season_detailed_pd['LTeamID'] == team_id\n",
    "    gamesWon = reg_season_detailed_pd[c1 & c2]\n",
    "    threes = gamesWon['WFGM3'].sum()\n",
    "    gamesLost = reg_season_detailed_pd[c2 & c3]\n",
    "    threes += gamesLost['LFGM3'].sum()\n",
    "    total_games = len(gamesWon) + len(gamesLost)\n",
    "    threes /= total_games\n",
    "    return round(threes, 2)\n",
    "\n",
    "# How many turnovers did a team make per game in a given season\n",
    "def getTO(team_id, year):\n",
    "    if year < 2003:\n",
    "        return 0\n",
    "    to = 0\n",
    "    c1 = reg_season_detailed_pd['WTeamID'] == team_id\n",
    "    c2 = reg_season_detailed_pd['Season'] == year\n",
    "    c3 = reg_season_detailed_pd['LTeamID'] == team_id\n",
    "    gamesWon = reg_season_detailed_pd[c1 & c2]\n",
    "    to = gamesWon['WTO'].sum()\n",
    "    gamesLost = reg_season_detailed_pd[c2 & c3]\n",
    "    to += gamesLost['LTO'].sum()\n",
    "    total_games = len(gamesWon) + len(gamesLost)\n",
    "    to /= total_games\n",
    "    return round(to, 2)\n",
    "\n",
    "ETSU_id = getTeamID(\"ETSU\")\n",
    "print(\"In 2009, ETSU averaged\", get3PT(ETSU_id, 2009), \"threes per game.\")\n",
    "print(\"While committing\", getTO(ETSU_id, 2009), \"turnovers per game.\")"
   ]
  },
  {
   "cell_type": "code",
   "execution_count": 7,
   "id": "dda01e09",
   "metadata": {},
   "outputs": [],
   "source": [
    "# How many Assists did a team make per game\n",
    "def getAST(team_id, year):\n",
    "    if year < 2003:\n",
    "        return 0\n",
    "    ast = 0\n",
    "    c1 = reg_season_detailed_pd['WTeamID'] == team_id\n",
    "    c2 = reg_season_detailed_pd['Season'] == year\n",
    "    c3 = reg_season_detailed_pd['LTeamID'] == team_id\n",
    "    gamesWon = reg_season_detailed_pd[c1 & c2]\n",
    "    ast = gamesWon['WAst'].sum()\n",
    "    gamesLost = reg_season_detailed_pd[c2 & c3]\n",
    "    ast += gamesLost['LAst'].sum()\n",
    "    total_games = len(gamesWon) + len(gamesLost)\n",
    "    ast /= total_games\n",
    "    return round(ast, 2)\n",
    "\n",
    "# Determine if a team was the conference champion in their division in a given year\n",
    "def getTourneyConferenceChampion(team_id, year):\n",
    "    if year < 2001:\n",
    "        return 0\n",
    "    conf = getConference(team_id, year)\n",
    "    c1 = conference_tourney_winners_pd['Season'] == year\n",
    "    c2 = conference_tourney_winners_pd['Conference'] == conf\n",
    "    if len(conference_tourney_winners_pd[c1 & c2]) == 0:\n",
    "        return 0\n",
    "    if team_id == conference_tourney_winners_pd[c1 & c2]['Winner'].values[0]:\n",
    "        return 1\n",
    "    else:\n",
    "        return 0"
   ]
  },
  {
   "cell_type": "code",
   "execution_count": 8,
   "id": "564df47f",
   "metadata": {},
   "outputs": [],
   "source": [
    "# Easy way to get a team's conference in a given year\n",
    "def getConference(team_id, year):\n",
    "    c1 = conferences_pd['TeamID'] == team_id\n",
    "    c2 = conferences_pd['Season'] == year\n",
    "    c3 = conferences_pd[c1 & c2]\n",
    "    if len(c3) == 0:\n",
    "        return conferences_pd[c1].values[0][2]\n",
    "    return c3['ConfAbbrev'].values[0]\n",
    "\n",
    "# Get the seed of the team in a given year\n",
    "def getSeed(team_id, year):\n",
    "    c1 = seeds_pd['TeamID'] == team_id\n",
    "    c2 = seeds_pd['Season'] == year\n",
    "    if len(seeds_pd[c1 & c2]) == 0:\n",
    "        return 0\n",
    "    return int(seeds_pd[c1 & c2]['Seed'].values[0][1:3])\n",
    "\n",
    "# Get rebounds per game in a given year\n",
    "def getRPG(team_id, year):\n",
    "    if year < 2003:\n",
    "        return 0\n",
    "    reb = 0\n",
    "    c1 = reg_season_detailed_pd['WTeamID'] == team_id\n",
    "    c2 = reg_season_detailed_pd['Season'] == year\n",
    "    c3 = reg_season_detailed_pd['LTeamID'] == team_id\n",
    "    gamesWon = reg_season_detailed_pd[c1 & c2]\n",
    "    reb = gamesWon['WOR'].sum()\n",
    "    reb += gamesWon['WDR'].sum()\n",
    "    gamesLost = reg_season_detailed_pd[c2 & c3]\n",
    "    reb += gamesLost['LOR'].sum()\n",
    "    reb += gamesLost['LDR'].sum()\n",
    "    total_games = len(gamesWon) + len(gamesLost)\n",
    "    reb /= total_games\n",
    "    return round(reb, 2)"
   ]
  },
  {
   "cell_type": "code",
   "execution_count": 9,
   "id": "5a3b7ac8",
   "metadata": {},
   "outputs": [],
   "source": [
    "# Steals per game\n",
    "def getSTL(team_id, year):\n",
    "    if year < 2003:\n",
    "        return 0\n",
    "    stl = 0\n",
    "    c1 = reg_season_detailed_pd['WTeamID'] == team_id\n",
    "    c2 = reg_season_detailed_pd['Season'] == year\n",
    "    c3 = reg_season_detailed_pd['LTeamID'] == team_id\n",
    "    gamesWon = reg_season_detailed_pd[c1 & c2]\n",
    "    stl = gamesWon['WStl'].sum()\n",
    "    gamesLost = reg_season_detailed_pd[c2 & c3]\n",
    "    stl += gamesLost['LStl'].sum()\n",
    "    total_games = len(gamesWon) + len(gamesLost)\n",
    "    stl /= total_games\n",
    "    return round(stl, 2)\n",
    "\n",
    "# How many times did a team appear in the tournament as of 2022\n",
    "def getNumOfAppearances(team_id):\n",
    "    return len(seeds_pd[seeds_pd['TeamID'] == team_id])\n",
    "\n",
    "# Helper function for below\n",
    "def getHomeStat(row):\n",
    "    if (row == 'H'):\n",
    "        home = 1\n",
    "    if (row == 'A'):\n",
    "        home = -1\n",
    "    if (row == 'N'):\n",
    "        home = 0\n",
    "    return home"
   ]
  },
  {
   "cell_type": "code",
   "execution_count": 10,
   "id": "ea05eeff",
   "metadata": {},
   "outputs": [
    {
     "data": {
      "text/plain": [
       "[15, 68.86, 68.25, 0, 5.93, 12.0, 13.04, 0, 0, 32.82, 7.04, 0]"
      ]
     },
     "execution_count": 10,
     "metadata": {},
     "output_type": "execute_result"
    }
   ],
   "source": [
    "# Build the vector\n",
    "def getSeasonData(team_id, year):\n",
    "    # Check first if the team was Division 1 at the time\n",
    "    c1 = teams_pd[teams_pd['TeamID'] == team_id]['FirstD1Season'].values[0] <= year\n",
    "    c2 = teams_pd[teams_pd['TeamID'] == team_id]['LastD1Season'].values[0] >= year\n",
    "    if ~c1 or ~c2:\n",
    "        return []\n",
    "    return [getRegSeasonWins(team_id, year),\n",
    "            getPPG(team_id, year),\n",
    "            getOPPG(team_id, year),\n",
    "            getPower6(team_id),\n",
    "            get3PT(team_id, year),\n",
    "            getTO(team_id, year),\n",
    "            getAST(team_id, year),\n",
    "            getTourneyConferenceChampion(team_id, year),\n",
    "            getSeed(team_id, year),\n",
    "            getRPG(team_id, year),\n",
    "            getSTL(team_id, year),\n",
    "            getNumOfAppearances(team_id)]\n",
    "\n",
    "# Build vectors for every team in a given season\n",
    "def createSeasonDict(year):\n",
    "    seasonDictionary = collections.defaultdict(list)\n",
    "    for team in teams_pd['TeamName'].tolist():\n",
    "        team_id = teams_pd[teams_pd['TeamName'] == team].values[0][0]\n",
    "        team_vector = getSeasonData(team_id, year)\n",
    "        seasonDictionary[team_id] = team_vector\n",
    "    return seasonDictionary\n",
    "\n",
    "# Below is the season data for Toledo in 2013\n",
    "getSeasonData(1405, 2013)"
   ]
  },
  {
   "cell_type": "code",
   "execution_count": 11,
   "id": "4186c4d6",
   "metadata": {},
   "outputs": [],
   "source": [
    "# Basically run the function directly above this one on a set of years\n",
    "def createTrainingSet(years):\n",
    "    totalNumGames = 0\n",
    "    for year in years:\n",
    "        season = reg_season_compact_pd[reg_season_compact_pd['Season'] == year]\n",
    "        totalNumGames += len(season.index)\n",
    "        tourney = tourney_compact_pd[tourney_compact_pd['Season'] == year]\n",
    "        totalNumGames += len(tourney.index)\n",
    "    numFeatures = len(getSeasonData(1181,2012)) #Just choosing a random team and seeing the dimensionality of the vector\n",
    "    xTrain = np.zeros(( totalNumGames, numFeatures + 1))\n",
    "    yTrain = np.zeros(( totalNumGames ))\n",
    "    indexCounter = 0\n",
    "    for year in years:\n",
    "        team_vectors = createSeasonDict(year)\n",
    "        season = reg_season_compact_pd[reg_season_compact_pd['Season'] == year]\n",
    "        numGamesInSeason = len(season.index)\n",
    "        tourney = tourney_compact_pd[tourney_compact_pd['Season'] == year]\n",
    "        numGamesInSeason += len(tourney.index)\n",
    "        xTrainSeason = np.zeros(( numGamesInSeason, numFeatures + 1))\n",
    "        yTrainSeason = np.zeros(( numGamesInSeason ))\n",
    "        counter = 0\n",
    "        for index, row in season.iterrows():\n",
    "            w_team = row['WTeamID']\n",
    "            w_vector = team_vectors[w_team]\n",
    "            l_team = row['LTeamID']\n",
    "            l_vector = team_vectors[l_team]\n",
    "            diff = [a - b for a, b in zip(w_vector, l_vector)]\n",
    "            home = getHomeStat(row['WLoc'])\n",
    "            if (counter % 2 == 0):\n",
    "                diff.append(home) \n",
    "                xTrainSeason[counter] = diff\n",
    "                yTrainSeason[counter] = 1\n",
    "            else:\n",
    "                diff.append(-home)\n",
    "                xTrainSeason[counter] = [ -p for p in diff]\n",
    "                yTrainSeason[counter] = 0\n",
    "            counter += 1\n",
    "        for index, row in tourney.iterrows():\n",
    "            w_team = row['WTeamID']\n",
    "            w_vector = team_vectors[w_team]\n",
    "            l_team = row['LTeamID']\n",
    "            l_vector = team_vectors[l_team]\n",
    "            diff = [a - b for a, b in zip(w_vector, l_vector)]\n",
    "            home = 0 #All tournament games are neutral\n",
    "            if (counter % 2 == 0):\n",
    "                diff.append(home) \n",
    "                xTrainSeason[counter] = diff\n",
    "                yTrainSeason[counter] = 1\n",
    "            else:\n",
    "                diff.append(-home)\n",
    "                xTrainSeason[counter] = [ -p for p in diff]\n",
    "                yTrainSeason[counter] = 0\n",
    "            counter += 1\n",
    "        xTrain[indexCounter:numGamesInSeason+indexCounter] = xTrainSeason\n",
    "        yTrain[indexCounter:numGamesInSeason+indexCounter] = yTrainSeason\n",
    "        indexCounter += numGamesInSeason\n",
    "    return xTrain, yTrain"
   ]
  },
  {
   "cell_type": "code",
   "execution_count": 12,
   "id": "7e686b3a",
   "metadata": {},
   "outputs": [],
   "source": [
    "x_data, y_data = createTrainingSet([2022])\n",
    "np.save('x_dataset', x_data)\n",
    "np.save('y_dataset', y_data)"
   ]
  },
  {
   "cell_type": "code",
   "execution_count": 13,
   "id": "e768b0e1",
   "metadata": {},
   "outputs": [
    {
     "data": {
      "text/plain": [
       "(5412, 13)"
      ]
     },
     "execution_count": 13,
     "metadata": {},
     "output_type": "execute_result"
    }
   ],
   "source": [
    "xTrain = np.load('x_dataset.npy')\n",
    "yTrain = np.load('y_dataset.npy')\n",
    "xTrain.shape"
   ]
  },
  {
   "cell_type": "markdown",
   "id": "7f32d656",
   "metadata": {},
   "source": [
    "## Setting Up the Predictions for 2022"
   ]
  },
  {
   "cell_type": "markdown",
   "id": "1bc313fa",
   "metadata": {},
   "source": [
    "The ways we are going to \"score\" this model is by first creating a DataFrame that contains the first round games. We will order them in a way such that the second round matchups can be easily constructed by the model. We will use the seeds below to properly format the results DataFrame. I will not go into detail as to why we should order this way, but just know that this will prevent impossible matchups at any point in the tournament."
   ]
  },
  {
   "cell_type": "code",
   "execution_count": 125,
   "id": "07f849a6",
   "metadata": {},
   "outputs": [
    {
     "data": {
      "text/html": [
       "<div>\n",
       "<style scoped>\n",
       "    .dataframe tbody tr th:only-of-type {\n",
       "        vertical-align: middle;\n",
       "    }\n",
       "\n",
       "    .dataframe tbody tr th {\n",
       "        vertical-align: top;\n",
       "    }\n",
       "\n",
       "    .dataframe thead th {\n",
       "        text-align: right;\n",
       "    }\n",
       "</style>\n",
       "<table border=\"1\" class=\"dataframe\">\n",
       "  <thead>\n",
       "    <tr style=\"text-align: right;\">\n",
       "      <th></th>\n",
       "      <th>Season</th>\n",
       "      <th>Seed</th>\n",
       "      <th>TeamID</th>\n",
       "    </tr>\n",
       "  </thead>\n",
       "  <tbody>\n",
       "    <tr>\n",
       "      <th>2354</th>\n",
       "      <td>2022</td>\n",
       "      <td>W01</td>\n",
       "      <td>1124</td>\n",
       "    </tr>\n",
       "    <tr>\n",
       "      <th>2355</th>\n",
       "      <td>2022</td>\n",
       "      <td>W02</td>\n",
       "      <td>1246</td>\n",
       "    </tr>\n",
       "    <tr>\n",
       "      <th>2356</th>\n",
       "      <td>2022</td>\n",
       "      <td>W03</td>\n",
       "      <td>1345</td>\n",
       "    </tr>\n",
       "    <tr>\n",
       "      <th>2357</th>\n",
       "      <td>2022</td>\n",
       "      <td>W04</td>\n",
       "      <td>1417</td>\n",
       "    </tr>\n",
       "    <tr>\n",
       "      <th>2358</th>\n",
       "      <td>2022</td>\n",
       "      <td>W05</td>\n",
       "      <td>1388</td>\n",
       "    </tr>\n",
       "    <tr>\n",
       "      <th>...</th>\n",
       "      <td>...</td>\n",
       "      <td>...</td>\n",
       "      <td>...</td>\n",
       "    </tr>\n",
       "    <tr>\n",
       "      <th>2417</th>\n",
       "      <td>2022</td>\n",
       "      <td>Z13</td>\n",
       "      <td>1151</td>\n",
       "    </tr>\n",
       "    <tr>\n",
       "      <th>2418</th>\n",
       "      <td>2022</td>\n",
       "      <td>Z14</td>\n",
       "      <td>1255</td>\n",
       "    </tr>\n",
       "    <tr>\n",
       "      <th>2419</th>\n",
       "      <td>2022</td>\n",
       "      <td>Z15</td>\n",
       "      <td>1174</td>\n",
       "    </tr>\n",
       "    <tr>\n",
       "      <th>2420</th>\n",
       "      <td>2022</td>\n",
       "      <td>Z16a</td>\n",
       "      <td>1136</td>\n",
       "    </tr>\n",
       "    <tr>\n",
       "      <th>2421</th>\n",
       "      <td>2022</td>\n",
       "      <td>Z16b</td>\n",
       "      <td>1460</td>\n",
       "    </tr>\n",
       "  </tbody>\n",
       "</table>\n",
       "<p>68 rows × 3 columns</p>\n",
       "</div>"
      ],
      "text/plain": [
       "      Season  Seed  TeamID\n",
       "2354    2022   W01    1124\n",
       "2355    2022   W02    1246\n",
       "2356    2022   W03    1345\n",
       "2357    2022   W04    1417\n",
       "2358    2022   W05    1388\n",
       "...      ...   ...     ...\n",
       "2417    2022   Z13    1151\n",
       "2418    2022   Z14    1255\n",
       "2419    2022   Z15    1174\n",
       "2420    2022  Z16a    1136\n",
       "2421    2022  Z16b    1460\n",
       "\n",
       "[68 rows x 3 columns]"
      ]
     },
     "execution_count": 125,
     "metadata": {},
     "output_type": "execute_result"
    }
   ],
   "source": [
    "tourney_2022 = tourney_compact_pd[tourney_compact_pd[\"Season\"] == 2022]\n",
    "seeds_2022 = seeds_pd[seeds_pd[\"Season\"] == 2022]\n",
    "seeds_2022"
   ]
  },
  {
   "cell_type": "markdown",
   "id": "a94930aa",
   "metadata": {},
   "source": [
    "First we need to know which 'region' faces who (i.e. does W face X, Y, or Z?). We can do that by looking at the final 4 matchups."
   ]
  },
  {
   "cell_type": "code",
   "execution_count": 126,
   "id": "0dc1eddd",
   "metadata": {},
   "outputs": [
    {
     "name": "stdout",
     "output_type": "stream",
     "text": [
      "      Season Seed  TeamID\n",
      "2361    2022  W08    1314\n",
      "      Season Seed  TeamID\n",
      "2372    2022  X02    1181\n"
     ]
    }
   ],
   "source": [
    "id1 = tourney_2022.iloc[-2, 2]\n",
    "id2 = tourney_2022.iloc[-2, 4]\n",
    "print(seeds_2022[seeds_2022[\"TeamID\"] == id1])\n",
    "print(seeds_2022[seeds_2022[\"TeamID\"] == id2])"
   ]
  },
  {
   "cell_type": "markdown",
   "id": "efece0ba",
   "metadata": {},
   "source": [
    "So W faces X, so we must make sure that after the W02 and W15 matchup comes the X01 and X16 matchup."
   ]
  },
  {
   "cell_type": "markdown",
   "id": "9ac7102f",
   "metadata": {},
   "source": [
    "Second we need to deal with the pesky play in game (i.e. those seeds Z16a and Z16b). We can make a list below that contains the play-in winners and add the appropiate team to the matchup."
   ]
  },
  {
   "cell_type": "code",
   "execution_count": 127,
   "id": "8c3c6de8",
   "metadata": {},
   "outputs": [
    {
     "data": {
      "text/plain": [
       "[1231, 1411, 1323, 1460]"
      ]
     },
     "execution_count": 127,
     "metadata": {},
     "output_type": "execute_result"
    }
   ],
   "source": [
    "playin = []\n",
    "for i in range(4):\n",
    "    playin.append(tourney_2022.iloc[i, 2])\n",
    "    \n",
    "playin"
   ]
  },
  {
   "cell_type": "markdown",
   "id": "009e7ffb",
   "metadata": {},
   "source": [
    "Now we construct the DataFrame."
   ]
  },
  {
   "cell_type": "code",
   "execution_count": 128,
   "id": "5dd01668",
   "metadata": {},
   "outputs": [],
   "source": [
    "# Helper function\n",
    "def swap_it(m, x1, x2):\n",
    "    m[x1], m[x2] = m[x2], m[x1]\n",
    "    return m"
   ]
  },
  {
   "cell_type": "code",
   "execution_count": 129,
   "id": "bd6711f4",
   "metadata": {},
   "outputs": [
    {
     "data": {
      "text/plain": [
       "[{'Round': 1, 'Team1ID': 1124, 'Team2ID': 1313},\n",
       " {'Round': 1, 'Team1ID': 1314, 'Team2ID': 1266},\n",
       " {'Round': 1, 'Team1ID': 1388, 'Team2ID': 1231},\n",
       " {'Round': 1, 'Team1ID': 1417, 'Team2ID': 1103},\n",
       " {'Round': 1, 'Team1ID': 1345, 'Team2ID': 1463},\n",
       " {'Round': 1, 'Team1ID': 1400, 'Team2ID': 1439},\n",
       " {'Round': 1, 'Team1ID': 1293, 'Team2ID': 1362},\n",
       " {'Round': 1, 'Team1ID': 1246, 'Team2ID': 1389},\n",
       " {'Round': 1, 'Team1ID': 1211, 'Team2ID': 1209},\n",
       " {'Round': 1, 'Team1ID': 1129, 'Team2ID': 1272},\n",
       " {'Round': 1, 'Team1ID': 1163, 'Team2ID': 1308},\n",
       " {'Round': 1, 'Team1ID': 1116, 'Team2ID': 1436},\n",
       " {'Round': 1, 'Team1ID': 1403, 'Team2ID': 1286},\n",
       " {'Round': 1, 'Team1ID': 1104, 'Team2ID': 1323},\n",
       " {'Round': 1, 'Team1ID': 1277, 'Team2ID': 1172},\n",
       " {'Round': 1, 'Team1ID': 1181, 'Team2ID': 1168},\n",
       " {'Round': 1, 'Team1ID': 1242, 'Team2ID': 1411},\n",
       " {'Round': 1, 'Team1ID': 1361, 'Team2ID': 1166},\n",
       " {'Round': 1, 'Team1ID': 1234, 'Team2ID': 1350},\n",
       " {'Round': 1, 'Team1ID': 1344, 'Team2ID': 1355},\n",
       " {'Round': 1, 'Team1ID': 1458, 'Team2ID': 1159},\n",
       " {'Round': 1, 'Team1ID': 1261, 'Team2ID': 1235},\n",
       " {'Round': 1, 'Team1ID': 1425, 'Team2ID': 1274},\n",
       " {'Round': 1, 'Team1ID': 1120, 'Team2ID': 1240},\n",
       " {'Round': 1, 'Team1ID': 1112, 'Team2ID': 1460},\n",
       " {'Round': 1, 'Team1ID': 1371, 'Team2ID': 1395},\n",
       " {'Round': 1, 'Team1ID': 1222, 'Team2ID': 1412},\n",
       " {'Round': 1, 'Team1ID': 1228, 'Team2ID': 1151},\n",
       " {'Round': 1, 'Team1ID': 1397, 'Team2ID': 1255},\n",
       " {'Round': 1, 'Team1ID': 1161, 'Team2ID': 1276},\n",
       " {'Round': 1, 'Team1ID': 1326, 'Team2ID': 1260},\n",
       " {'Round': 1, 'Team1ID': 1437, 'Team2ID': 1174}]"
      ]
     },
     "execution_count": 129,
     "metadata": {},
     "output_type": "execute_result"
    }
   ],
   "source": [
    "matchups = []\n",
    "k = 0\n",
    "\n",
    "for i in range(8):\n",
    "    if len(seeds_2022.iloc[16 - i, 1]) == 4:\n",
    "        if seeds_2022.iloc[16 - i, 2] not in playin:\n",
    "            k = 1\n",
    "    matchups.append({'Round': 1, 'Team1ID': seeds_2022.iloc[i, 2], 'Team2ID': seeds_2022.iloc[16 - i - k, 2]})\n",
    "\n",
    "k = 0\n",
    "\n",
    "for i in range(17, 25):\n",
    "    if len(seeds_2022.iloc[50 - i, 1]) == 4:\n",
    "        if seeds_2022.iloc[50 - i, 2] not in playin:\n",
    "            k = 1\n",
    "    matchups.append({'Round': 1, 'Team1ID': seeds_2022.iloc[i, 2], 'Team2ID': seeds_2022.iloc[50 - i - k, 2]})\n",
    "    \n",
    "k = 0\n",
    "\n",
    "for i in range(34, 42):\n",
    "    if len(seeds_2022.iloc[84 - i, 1]) == 4:\n",
    "        if seeds_2022.iloc[84 - i, 2] not in playin:\n",
    "            k = 1\n",
    "    matchups.append({'Round': 1, 'Team1ID': seeds_2022.iloc[i, 2], 'Team2ID': seeds_2022.iloc[84 - i - k, 2]})\n",
    "\n",
    "k = 0\n",
    "\n",
    "for i in range(51, 59):\n",
    "    if len(seeds_2022.iloc[118 - i, 1]) == 4:\n",
    "        if seeds_2022.iloc[118 - i, 2] not in playin:\n",
    "            k = 1\n",
    "    matchups.append({'Round': 1, 'Team1ID': seeds_2022.iloc[i, 2], 'Team2ID': seeds_2022.iloc[118 - i - k, 2]})\n",
    "\n",
    "for i in range(0, 4):\n",
    "    matchups = swap_it(matchups, 8 * i + 1, 8 * i + 7)\n",
    "    matchups = swap_it(matchups, 8 * i + 2, 8 * i + 4)\n",
    "    \n",
    "matchups"
   ]
  },
  {
   "cell_type": "markdown",
   "id": "eda1f708",
   "metadata": {},
   "source": [
    "Now let us start fitting our Logisitc Regression model. This time, we will refer to our test set as the 2022 tournament, so we will rename our 'X_test' and 'y_test' to 'X_val' and 'y_val'."
   ]
  },
  {
   "cell_type": "code",
   "execution_count": 130,
   "id": "59d0c084",
   "metadata": {},
   "outputs": [
    {
     "data": {
      "text/plain": [
       "0.7389162561576355"
      ]
     },
     "execution_count": 130,
     "metadata": {},
     "output_type": "execute_result"
    }
   ],
   "source": [
    "from sklearn.linear_model import LogisticRegression\n",
    "from sklearn.model_selection import train_test_split\n",
    "from sklearn.metrics import accuracy_score\n",
    "\n",
    "X_train, X_val, y_train, y_val = train_test_split(xTrain, yTrain, test_size = .3, random_state = 1239)\n",
    "\n",
    "lr = LogisticRegression()\n",
    "lr = lr.fit(X_train, y_train)\n",
    "y_pred = lr.predict(X_val)\n",
    "accuracy_score(y_val, y_pred)"
   ]
  },
  {
   "cell_type": "markdown",
   "id": "ce8764cb",
   "metadata": {},
   "source": [
    "Let us bring back our function that will give a difference vector."
   ]
  },
  {
   "cell_type": "code",
   "execution_count": 131,
   "id": "9cb654be",
   "metadata": {},
   "outputs": [
    {
     "data": {
      "text/plain": [
       "False"
      ]
     },
     "execution_count": 131,
     "metadata": {},
     "output_type": "execute_result"
    }
   ],
   "source": [
    "# Functions to predict probability that Team 1 wins\n",
    "def predictOutcome(team_data1, team_data2):\n",
    "    diff = [a - b for a, b in zip(team_data1, team_data2)]\n",
    "    diff.append(0)\n",
    "    return lr.predict([diff])\n",
    "\n",
    "# Will the model predict St. Peter's will win? (St. Peter's ID = 1389, Kentucky's ID = 1246)\n",
    "predictOutcome(getSeasonData(1389, 2022), getSeasonData(1246, 2022))[0] == 1"
   ]
  },
  {
   "cell_type": "markdown",
   "id": "c8b97225",
   "metadata": {},
   "source": [
    "If `predictOutcome(getSeasonData(team1, year = 2022), getSeasonData(team2, year = 2022))[0] == 1`, then we would predict Team 1 will advance. Otherwise, it will be Team 2. So now let us predict the whole tournament."
   ]
  },
  {
   "cell_type": "code",
   "execution_count": 132,
   "id": "7f342b7a",
   "metadata": {},
   "outputs": [
    {
     "data": {
      "text/plain": [
       "[{'Round': 1, 'Team1ID': 1124, 'Team2ID': 1313, 'Predicted_Winner': 1124},\n",
       " {'Round': 1, 'Team1ID': 1314, 'Team2ID': 1266, 'Predicted_Winner': 1314},\n",
       " {'Round': 1, 'Team1ID': 1388, 'Team2ID': 1231, 'Predicted_Winner': 1231},\n",
       " {'Round': 1, 'Team1ID': 1417, 'Team2ID': 1103, 'Predicted_Winner': 1417},\n",
       " {'Round': 1, 'Team1ID': 1345, 'Team2ID': 1463, 'Predicted_Winner': 1345},\n",
       " {'Round': 1, 'Team1ID': 1400, 'Team2ID': 1439, 'Predicted_Winner': 1400},\n",
       " {'Round': 1, 'Team1ID': 1293, 'Team2ID': 1362, 'Predicted_Winner': 1293},\n",
       " {'Round': 1, 'Team1ID': 1246, 'Team2ID': 1389, 'Predicted_Winner': 1246},\n",
       " {'Round': 1, 'Team1ID': 1211, 'Team2ID': 1209, 'Predicted_Winner': 1211},\n",
       " {'Round': 1, 'Team1ID': 1129, 'Team2ID': 1272, 'Predicted_Winner': 1129},\n",
       " {'Round': 1, 'Team1ID': 1163, 'Team2ID': 1308, 'Predicted_Winner': 1163},\n",
       " {'Round': 1, 'Team1ID': 1116, 'Team2ID': 1436, 'Predicted_Winner': 1116},\n",
       " {'Round': 1, 'Team1ID': 1403, 'Team2ID': 1286, 'Predicted_Winner': 1403},\n",
       " {'Round': 1, 'Team1ID': 1104, 'Team2ID': 1323, 'Predicted_Winner': 1323},\n",
       " {'Round': 1, 'Team1ID': 1277, 'Team2ID': 1172, 'Predicted_Winner': 1277},\n",
       " {'Round': 1, 'Team1ID': 1181, 'Team2ID': 1168, 'Predicted_Winner': 1181},\n",
       " {'Round': 1, 'Team1ID': 1242, 'Team2ID': 1411, 'Predicted_Winner': 1242},\n",
       " {'Round': 1, 'Team1ID': 1361, 'Team2ID': 1166, 'Predicted_Winner': 1166},\n",
       " {'Round': 1, 'Team1ID': 1234, 'Team2ID': 1350, 'Predicted_Winner': 1234},\n",
       " {'Round': 1, 'Team1ID': 1344, 'Team2ID': 1355, 'Predicted_Winner': 1344},\n",
       " {'Round': 1, 'Team1ID': 1458, 'Team2ID': 1159, 'Predicted_Winner': 1458},\n",
       " {'Round': 1, 'Team1ID': 1261, 'Team2ID': 1235, 'Predicted_Winner': 1261},\n",
       " {'Round': 1, 'Team1ID': 1425, 'Team2ID': 1274, 'Predicted_Winner': 1425},\n",
       " {'Round': 1, 'Team1ID': 1120, 'Team2ID': 1240, 'Predicted_Winner': 1120},\n",
       " {'Round': 1, 'Team1ID': 1112, 'Team2ID': 1460, 'Predicted_Winner': 1112},\n",
       " {'Round': 1, 'Team1ID': 1371, 'Team2ID': 1395, 'Predicted_Winner': 1371},\n",
       " {'Round': 1, 'Team1ID': 1222, 'Team2ID': 1412, 'Predicted_Winner': 1222},\n",
       " {'Round': 1, 'Team1ID': 1228, 'Team2ID': 1151, 'Predicted_Winner': 1228},\n",
       " {'Round': 1, 'Team1ID': 1397, 'Team2ID': 1255, 'Predicted_Winner': 1397},\n",
       " {'Round': 1, 'Team1ID': 1161, 'Team2ID': 1276, 'Predicted_Winner': 1276},\n",
       " {'Round': 1, 'Team1ID': 1326, 'Team2ID': 1260, 'Predicted_Winner': 1326},\n",
       " {'Round': 1, 'Team1ID': 1437, 'Team2ID': 1174, 'Predicted_Winner': 1437},\n",
       " {'Round': 2, 'Team1ID': 1124, 'Team2ID': 1314, 'Predicted_Winner': 1124},\n",
       " {'Round': 2, 'Team1ID': 1388, 'Team2ID': 1417, 'Predicted_Winner': 1417},\n",
       " {'Round': 2, 'Team1ID': 1345, 'Team2ID': 1400, 'Predicted_Winner': 1345},\n",
       " {'Round': 2, 'Team1ID': 1293, 'Team2ID': 1246, 'Predicted_Winner': 1246},\n",
       " {'Round': 2, 'Team1ID': 1211, 'Team2ID': 1129, 'Predicted_Winner': 1211},\n",
       " {'Round': 2, 'Team1ID': 1163, 'Team2ID': 1116, 'Predicted_Winner': 1116},\n",
       " {'Round': 2, 'Team1ID': 1403, 'Team2ID': 1323, 'Predicted_Winner': 1403},\n",
       " {'Round': 2, 'Team1ID': 1277, 'Team2ID': 1181, 'Predicted_Winner': 1181},\n",
       " {'Round': 2, 'Team1ID': 1242, 'Team2ID': 1166, 'Predicted_Winner': 1242},\n",
       " {'Round': 2, 'Team1ID': 1234, 'Team2ID': 1344, 'Predicted_Winner': 1234},\n",
       " {'Round': 2, 'Team1ID': 1458, 'Team2ID': 1261, 'Predicted_Winner': 1458},\n",
       " {'Round': 2, 'Team1ID': 1425, 'Team2ID': 1120, 'Predicted_Winner': 1120},\n",
       " {'Round': 2, 'Team1ID': 1112, 'Team2ID': 1371, 'Predicted_Winner': 1112},\n",
       " {'Round': 2, 'Team1ID': 1222, 'Team2ID': 1228, 'Predicted_Winner': 1228},\n",
       " {'Round': 2, 'Team1ID': 1397, 'Team2ID': 1276, 'Predicted_Winner': 1397},\n",
       " {'Round': 2, 'Team1ID': 1326, 'Team2ID': 1437, 'Predicted_Winner': 1437},\n",
       " {'Round': 3, 'Team1ID': 1124, 'Team2ID': 1417, 'Predicted_Winner': 1124},\n",
       " {'Round': 3, 'Team1ID': 1345, 'Team2ID': 1246, 'Predicted_Winner': 1345},\n",
       " {'Round': 3, 'Team1ID': 1211, 'Team2ID': 1116, 'Predicted_Winner': 1116},\n",
       " {'Round': 3, 'Team1ID': 1403, 'Team2ID': 1181, 'Predicted_Winner': 1181},\n",
       " {'Round': 3, 'Team1ID': 1242, 'Team2ID': 1234, 'Predicted_Winner': 1242},\n",
       " {'Round': 3, 'Team1ID': 1458, 'Team2ID': 1120, 'Predicted_Winner': 1120},\n",
       " {'Round': 3, 'Team1ID': 1112, 'Team2ID': 1228, 'Predicted_Winner': 1112},\n",
       " {'Round': 3, 'Team1ID': 1397, 'Team2ID': 1437, 'Predicted_Winner': 1437},\n",
       " {'Round': 4, 'Team1ID': 1124, 'Team2ID': 1345, 'Predicted_Winner': 1345},\n",
       " {'Round': 4, 'Team1ID': 1211, 'Team2ID': 1181, 'Predicted_Winner': 1181},\n",
       " {'Round': 4, 'Team1ID': 1242, 'Team2ID': 1120, 'Predicted_Winner': 1242},\n",
       " {'Round': 4, 'Team1ID': 1112, 'Team2ID': 1437, 'Predicted_Winner': 1112},\n",
       " {'Round': 5, 'Team1ID': 1124, 'Team2ID': 1181, 'Predicted_Winner': 1181},\n",
       " {'Round': 5, 'Team1ID': 1242, 'Team2ID': 1112, 'Predicted_Winner': 1112},\n",
       " {'Round': 6, 'Team1ID': 1124, 'Team2ID': 1112, 'Predicted_Winner': 1112}]"
      ]
     },
     "execution_count": 132,
     "metadata": {},
     "output_type": "execute_result"
    }
   ],
   "source": [
    "# These variables will be used to increment the round appropiately\n",
    "r = 2\n",
    "threshold = 32\n",
    "\n",
    "# store the odd team\n",
    "odd_team = 0\n",
    "\n",
    "for i in range(63):\n",
    "    # First get the IDs\n",
    "    team1 = matchups[i]['Team1ID']\n",
    "    team2 = matchups[i]['Team2ID']\n",
    "    \n",
    "    # Then get their data\n",
    "    t1_data = getSeasonData(team1, 2022)\n",
    "    t2_data = getSeasonData(team2, 2022)\n",
    "    \n",
    "    # Get 0 or 1 value by running the above function\n",
    "    prob = predictOutcome(t1_data, t2_data)\n",
    "    \n",
    "    # Predict team\n",
    "    if prob: \n",
    "        matchups[i]['Predicted_Winner'] = team1\n",
    "    else:\n",
    "        matchups[i]['Predicted_Winner'] = team2\n",
    "        \n",
    "    # Add a new row to the matchups once two games are complete until we have 63 games\n",
    "    if len(matchups) < 64:\n",
    "        if i % 2 == 1:\n",
    "            matchups.append({'Round': r, 'Team1ID': odd_team, 'Team2ID': matchups[i]['Predicted_Winner']})\n",
    "            odd_team = 0\n",
    "        else:\n",
    "            odd_team = team1\n",
    "            \n",
    "    if i == threshold:\n",
    "        threshold += (32 / 2**(r - 1))\n",
    "        r += 1\n",
    "        \n",
    "matchups"
   ]
  },
  {
   "cell_type": "markdown",
   "id": "10324f02",
   "metadata": {},
   "source": [
    "Next we are going to make a list of lists containing the winners per round in the test dataset."
   ]
  },
  {
   "cell_type": "code",
   "execution_count": 133,
   "id": "975f65cb",
   "metadata": {},
   "outputs": [],
   "source": [
    "tourney_2022 = tourney_compact_pd[tourney_compact_pd[\"Season\"] == 2022]\n",
    "actual_winners_2022 = []\n",
    "r1 = []\n",
    "r2 = []\n",
    "r3 = []\n",
    "r4 = []\n",
    "r5 = []\n",
    "r6 = []\n",
    "\n",
    "# Make Round 1 list\n",
    "for i in range(4, 36):\n",
    "    r1.append(tourney_2022.iloc[i, 2])\n",
    "    \n",
    "# Round 2\n",
    "for i in range(36, 52):\n",
    "    r2.append(tourney_2022.iloc[i, 2])   \n",
    "    \n",
    "# Round 3\n",
    "for i in range(52, 60):\n",
    "    r3.append(tourney_2022.iloc[i, 2]) \n",
    "    \n",
    "# Round 4\n",
    "for i in range(60, 64):\n",
    "    r4.append(tourney_2022.iloc[i, 2]) \n",
    "    \n",
    "# Round 5\n",
    "for i in range(64, 66):\n",
    "    r5.append(tourney_2022.iloc[i, 2]) \n",
    "    \n",
    "# Round 6\n",
    "r6.append(tourney_2022.iloc[66, 2]) \n",
    "    \n",
    "actual_winners_2022.append(r1)\n",
    "actual_winners_2022.append(r2)\n",
    "actual_winners_2022.append(r3)\n",
    "actual_winners_2022.append(r4)\n",
    "actual_winners_2022.append(r5)\n",
    "actual_winners_2022.append(r6)"
   ]
  },
  {
   "cell_type": "markdown",
   "id": "f2451da7",
   "metadata": {},
   "source": [
    "So now we are going to check if each projected winner was in their respective list."
   ]
  },
  {
   "cell_type": "code",
   "execution_count": 134,
   "id": "cb794f25",
   "metadata": {},
   "outputs": [],
   "source": [
    "for i in range(len(matchups)):\n",
    "    predicted_winner = matchups[i]['Predicted_Winner']\n",
    "    r = matchups[i]['Round']\n",
    "    if predicted_winner in actual_winners_2022[r - 1]:\n",
    "        matchups[i]['Correct'] = 1\n",
    "    else:\n",
    "        matchups[i]['Correct'] = 0"
   ]
  },
  {
   "cell_type": "markdown",
   "id": "b985bdef",
   "metadata": {},
   "source": [
    "Finally, let us look at how many correct predictions we made in predicting March Madness 2022."
   ]
  },
  {
   "cell_type": "code",
   "execution_count": 149,
   "id": "237951b8",
   "metadata": {},
   "outputs": [
    {
     "name": "stdout",
     "output_type": "stream",
     "text": [
      "39\n"
     ]
    },
    {
     "data": {
      "text/html": [
       "<div>\n",
       "<style scoped>\n",
       "    .dataframe tbody tr th:only-of-type {\n",
       "        vertical-align: middle;\n",
       "    }\n",
       "\n",
       "    .dataframe tbody tr th {\n",
       "        vertical-align: top;\n",
       "    }\n",
       "\n",
       "    .dataframe thead th {\n",
       "        text-align: right;\n",
       "    }\n",
       "</style>\n",
       "<table border=\"1\" class=\"dataframe\">\n",
       "  <thead>\n",
       "    <tr style=\"text-align: right;\">\n",
       "      <th></th>\n",
       "      <th>Round</th>\n",
       "      <th>Team1ID</th>\n",
       "      <th>Team2ID</th>\n",
       "      <th>Predicted_Winner</th>\n",
       "      <th>Correct</th>\n",
       "    </tr>\n",
       "  </thead>\n",
       "  <tbody>\n",
       "    <tr>\n",
       "      <th>0</th>\n",
       "      <td>1</td>\n",
       "      <td>1124</td>\n",
       "      <td>1313</td>\n",
       "      <td>1124</td>\n",
       "      <td>1</td>\n",
       "    </tr>\n",
       "    <tr>\n",
       "      <th>1</th>\n",
       "      <td>1</td>\n",
       "      <td>1314</td>\n",
       "      <td>1266</td>\n",
       "      <td>1314</td>\n",
       "      <td>1</td>\n",
       "    </tr>\n",
       "    <tr>\n",
       "      <th>2</th>\n",
       "      <td>1</td>\n",
       "      <td>1388</td>\n",
       "      <td>1231</td>\n",
       "      <td>1231</td>\n",
       "      <td>0</td>\n",
       "    </tr>\n",
       "    <tr>\n",
       "      <th>3</th>\n",
       "      <td>1</td>\n",
       "      <td>1417</td>\n",
       "      <td>1103</td>\n",
       "      <td>1417</td>\n",
       "      <td>1</td>\n",
       "    </tr>\n",
       "    <tr>\n",
       "      <th>4</th>\n",
       "      <td>1</td>\n",
       "      <td>1345</td>\n",
       "      <td>1463</td>\n",
       "      <td>1345</td>\n",
       "      <td>1</td>\n",
       "    </tr>\n",
       "    <tr>\n",
       "      <th>...</th>\n",
       "      <td>...</td>\n",
       "      <td>...</td>\n",
       "      <td>...</td>\n",
       "      <td>...</td>\n",
       "      <td>...</td>\n",
       "    </tr>\n",
       "    <tr>\n",
       "      <th>58</th>\n",
       "      <td>4</td>\n",
       "      <td>1242</td>\n",
       "      <td>1120</td>\n",
       "      <td>1242</td>\n",
       "      <td>1</td>\n",
       "    </tr>\n",
       "    <tr>\n",
       "      <th>59</th>\n",
       "      <td>4</td>\n",
       "      <td>1112</td>\n",
       "      <td>1437</td>\n",
       "      <td>1112</td>\n",
       "      <td>0</td>\n",
       "    </tr>\n",
       "    <tr>\n",
       "      <th>60</th>\n",
       "      <td>5</td>\n",
       "      <td>1124</td>\n",
       "      <td>1181</td>\n",
       "      <td>1181</td>\n",
       "      <td>0</td>\n",
       "    </tr>\n",
       "    <tr>\n",
       "      <th>61</th>\n",
       "      <td>5</td>\n",
       "      <td>1242</td>\n",
       "      <td>1112</td>\n",
       "      <td>1112</td>\n",
       "      <td>0</td>\n",
       "    </tr>\n",
       "    <tr>\n",
       "      <th>62</th>\n",
       "      <td>6</td>\n",
       "      <td>1124</td>\n",
       "      <td>1112</td>\n",
       "      <td>1112</td>\n",
       "      <td>0</td>\n",
       "    </tr>\n",
       "  </tbody>\n",
       "</table>\n",
       "<p>63 rows × 5 columns</p>\n",
       "</div>"
      ],
      "text/plain": [
       "    Round  Team1ID  Team2ID  Predicted_Winner  Correct\n",
       "0       1     1124     1313              1124        1\n",
       "1       1     1314     1266              1314        1\n",
       "2       1     1388     1231              1231        0\n",
       "3       1     1417     1103              1417        1\n",
       "4       1     1345     1463              1345        1\n",
       "..    ...      ...      ...               ...      ...\n",
       "58      4     1242     1120              1242        1\n",
       "59      4     1112     1437              1112        0\n",
       "60      5     1124     1181              1181        0\n",
       "61      5     1242     1112              1112        0\n",
       "62      6     1124     1112              1112        0\n",
       "\n",
       "[63 rows x 5 columns]"
      ]
     },
     "execution_count": 149,
     "metadata": {},
     "output_type": "execute_result"
    }
   ],
   "source": [
    "prediction_2022_pd = pd.DataFrame(matchups)\n",
    "\n",
    "correct = prediction_2022_pd[prediction_2022_pd['Correct'] == 1]\n",
    "incorrect = prediction_2022_pd[prediction_2022_pd['Correct'] == 0]\n",
    "\n",
    "print(len(correct))\n",
    "prediction_2022_pd"
   ]
  },
  {
   "cell_type": "markdown",
   "id": "0cd9ca56",
   "metadata": {},
   "source": [
    "So 39 correct predictions out of 63. Let us see the round-by-round breakdown."
   ]
  },
  {
   "cell_type": "code",
   "execution_count": 153,
   "id": "80800986",
   "metadata": {},
   "outputs": [
    {
     "name": "stdout",
     "output_type": "stream",
     "text": [
      "In round 1, we had 24 correct\n",
      "In round 2, we had 9 correct\n",
      "In round 3, we had 4 correct\n",
      "In round 4, we had 2 correct\n",
      "In round 5, we had 0 correct\n",
      "In round 6, we had 0 correct\n"
     ]
    }
   ],
   "source": [
    "correct_per_round = []\n",
    "for i in range(1, 7):\n",
    "    c1 = prediction_2022_pd['Round'] == i\n",
    "    cor = prediction_2022_pd['Correct'] == 1\n",
    "    inc = prediction_2022_pd['Correct'] == 0\n",
    "    correct_per_round.append((i, len(prediction_2022_pd[c1 & cor])))\n",
    "    \n",
    "for i in range(len(correct_per_round)):\n",
    "    print(\"In round %d, we had %d correct\" % (correct_per_round[i][0], correct_per_round[i][1]))"
   ]
  },
  {
   "cell_type": "markdown",
   "id": "55fba4a2",
   "metadata": {},
   "source": [
    "In short, we predicted 2 Final Four teams in 2022. Very impressive. With a 61.9% accuracy along with our Final Four prediction, this makes Logistic Regression a great model to move forward."
   ]
  },
  {
   "cell_type": "code",
   "execution_count": null,
   "id": "53d93a43",
   "metadata": {},
   "outputs": [],
   "source": []
  }
 ],
 "metadata": {
  "kernelspec": {
   "display_name": "Python 3 (ipykernel)",
   "language": "python",
   "name": "python3"
  },
  "language_info": {
   "codemirror_mode": {
    "name": "ipython",
    "version": 3
   },
   "file_extension": ".py",
   "mimetype": "text/x-python",
   "name": "python",
   "nbconvert_exporter": "python",
   "pygments_lexer": "ipython3",
   "version": "3.10.9"
  }
 },
 "nbformat": 4,
 "nbformat_minor": 5
}
