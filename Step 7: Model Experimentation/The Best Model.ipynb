{
 "cells": [
  {
   "cell_type": "markdown",
   "id": "9c099335",
   "metadata": {},
   "source": [
    "# Choosing the Best Model"
   ]
  },
  {
   "cell_type": "markdown",
   "id": "eba6a3b2",
   "metadata": {},
   "source": [
    "In the previous step, we looked at an attempt to predict the 2017 Tournament and examined the SVC model. Here, we will use the most recent year, 2023 to do our model experimentation. Because of that, we will use a more extensive [dataset folder](https://www.kaggle.com/competitions/march-machine-learning-mania-2023/data)."
   ]
  },
  {
   "cell_type": "markdown",
   "id": "dcd5d7d4",
   "metadata": {},
   "source": [
    "## Data Preparation and Feature Selection"
   ]
  },
  {
   "cell_type": "markdown",
   "id": "a1727ee4",
   "metadata": {},
   "source": [
    "We mill mainly use code from the 2017 [example from before](https://github.com/adeshpande3/March-Madness-2017) and adjust it to 2023."
   ]
  },
  {
   "cell_type": "code",
   "execution_count": 244,
   "id": "aabd0284",
   "metadata": {},
   "outputs": [],
   "source": [
    "import pandas as pd\n",
    "import numpy as np\n",
    "import collections"
   ]
  },
  {
   "cell_type": "code",
   "execution_count": 395,
   "id": "63fe8504",
   "metadata": {},
   "outputs": [],
   "source": [
    "reg_season_compact_pd = pd.read_csv('Data/MRegularSeasonCompactResults.csv') \n",
    "reg_season_detailed_pd = pd.read_csv('Data/MRegularSeasonDetailedResults.csv')\n",
    "teams_pd = pd.read_csv('Data/MTeams.csv')\n",
    "tourney_compact_pd = pd.read_csv('Data/MNCAATourneyCompactResults.csv')\n",
    "tourney_detailed_pd = pd.read_csv('Data/MNCAATourneyDetailedResults.csv')\n",
    "tourney_seeds_pd = pd.read_csv('Data/MNCAATourneySeeds.csv')\n",
    "conference_tourney_results_pd = pd.read_csv('Data/MConferenceTourneyGames.csv')\n",
    "conferences_pd = pd.read_csv('Data/MTeamConferences.csv')\n",
    "seeds_pd = pd.read_csv('Data/MNCAATourneySeeds.csv')\n",
    "\n",
    "l = []\n",
    "for i in range(len(conference_tourney_results_pd) - 1):\n",
    "    if conference_tourney_results_pd.iloc[i, 1] != conference_tourney_results_pd.iloc[i + 1, 1]:\n",
    "        season = conference_tourney_results_pd.iloc[i, 0]\n",
    "        conference = conference_tourney_results_pd.iloc[i, 1]\n",
    "        winner = conference_tourney_results_pd.iloc[i, 3]\n",
    "        l.append({'Season': season, 'Conference': conference, 'Winner': winner})\n",
    "        \n",
    "conference_tourney_winners_pd = pd.DataFrame(l)"
   ]
  },
  {
   "cell_type": "markdown",
   "id": "b418037e",
   "metadata": {},
   "source": [
    "We will unfortunately not use a lot of the features presented last time, but we will use the following:\n",
    "\n",
    "- Regular Season Wins\n",
    "- Points per game season average\n",
    "- Points per game allowed season average\n",
    "- Whether or not in Power 6 conference (ACC, Big Ten, Big 12, SEC, Pac 12, Big East) - Binary label\n",
    "- Number of 3's per game\n",
    "- Turnovers per game average\n",
    "- Assists per game average\n",
    "- Conference Tournament Championship - binary label\n",
    "- Tournament Seed\n",
    "- Rebounds per game average\n",
    "- Steals per game average\n",
    "- Number of NCAA appearances since 1985"
   ]
  },
  {
   "cell_type": "code",
   "execution_count": 453,
   "id": "8ced2756",
   "metadata": {},
   "outputs": [],
   "source": [
    "def getTeamID(name):\n",
    "    return teams_pd[teams_pd['TeamName'] == name].values[0][0]\n",
    "\n",
    "def getTeamName(team_id):\n",
    "    return teams_pd[teams_pd['TeamID'] == team_id].values[0][1]\n",
    "\n",
    "def getRegSeasonWins(team_id, year):\n",
    "    c1 = reg_season_compact_pd['WTeamID'] == team_id\n",
    "    c2 = reg_season_compact_pd['Season'] == year\n",
    "    return len(reg_season_compact_pd[c1 & c2])\n",
    "\n",
    "def getPPG(team_id, year):\n",
    "    ppg = 0\n",
    "    c1 = reg_season_compact_pd['WTeamID'] == team_id\n",
    "    c2 = reg_season_compact_pd['Season'] == year\n",
    "    c3 = reg_season_compact_pd['LTeamID'] == team_id\n",
    "    gamesWon = reg_season_compact_pd[c1 & c2]\n",
    "    ppg = gamesWon['WScore'].sum()\n",
    "    gamesLost = reg_season_compact_pd[c2 & c3]\n",
    "    ppg += gamesLost['LScore'].sum()\n",
    "    total_games = len(gamesWon) + len(gamesLost)\n",
    "    ppg /= total_games\n",
    "    return round(ppg, 2)\n",
    "\n",
    "def getOPPG(team_id, year):\n",
    "    oppg = 0\n",
    "    c1 = reg_season_compact_pd['WTeamID'] == team_id\n",
    "    c2 = reg_season_compact_pd['Season'] == year\n",
    "    c3 = reg_season_compact_pd['LTeamID'] == team_id\n",
    "    gamesWon = reg_season_compact_pd[c1 & c2]\n",
    "    oppg = gamesWon['LScore'].sum()\n",
    "    gamesLost = reg_season_compact_pd[c2 & c3]\n",
    "    oppg += gamesLost['WScore'].sum()\n",
    "    total_games = len(gamesWon) + len(gamesLost)\n",
    "    oppg /= total_games\n",
    "    return round(oppg, 2)\n",
    "\n",
    "ACC = [1181, 1314, 1323, 1274, 1448, 1438, 1439, 1199, 1393, 1155, 1257, 1130, 1338, 1210, 1301]\n",
    "Big12 = [1242, 1124, 1403, 1400, 1395, 1329, 1235, 1328, 1243, 1452]\n",
    "BigEast = [1437, 1344, 1163, 1166, 1371, 1266, 1462, 1385, 1177, 1139, 1207]\n",
    "Big10 = [1458, 1228, 1345, 1234, 1326, 1353, 1276, 1277, 1321, 1231, 1268, 1336, 1278, 1304]\n",
    "Pac12 = [1112, 1113, 1417, 1425, 1160, 1450, 1449, 1332, 1333, 1143, 1390, 1428]\n",
    "SEC = [1120, 1397, 1246, 1116, 1401, 1261, 1196, 1376, 1104, 1280, 1435, 1281, 1279, 1208]\n",
    "\n",
    "def getPower6(team_id):\n",
    "    if team_id in ACC or team_id in Big12 or team_id in BigEast or team_id in Big10 or team_id in Pac12 or team_id in SEC:\n",
    "        return 1\n",
    "    else:\n",
    "        return 0\n",
    "\n",
    "def get3PT(team_id, year):\n",
    "    if year < 2003:\n",
    "        return 0\n",
    "    threes = 0\n",
    "    c1 = reg_season_detailed_pd['WTeamID'] == team_id\n",
    "    c2 = reg_season_detailed_pd['Season'] == year\n",
    "    c3 = reg_season_detailed_pd['LTeamID'] == team_id\n",
    "    gamesWon = reg_season_detailed_pd[c1 & c2]\n",
    "    threes = gamesWon['WFGM3'].sum()\n",
    "    gamesLost = reg_season_detailed_pd[c2 & c3]\n",
    "    threes += gamesLost['LFGM3'].sum()\n",
    "    total_games = len(gamesWon) + len(gamesLost)\n",
    "    threes /= total_games\n",
    "    return round(threes, 2)\n",
    "    \n",
    "def getTO(team_id, year):\n",
    "    if year < 2003:\n",
    "        return 0\n",
    "    to = 0\n",
    "    c1 = reg_season_detailed_pd['WTeamID'] == team_id\n",
    "    c2 = reg_season_detailed_pd['Season'] == year\n",
    "    c3 = reg_season_detailed_pd['LTeamID'] == team_id\n",
    "    gamesWon = reg_season_detailed_pd[c1 & c2]\n",
    "    to = gamesWon['WTO'].sum()\n",
    "    gamesLost = reg_season_detailed_pd[c2 & c3]\n",
    "    to += gamesLost['LTO'].sum()\n",
    "    total_games = len(gamesWon) + len(gamesLost)\n",
    "    to /= total_games\n",
    "    return round(to, 2)\n",
    "\n",
    "def getAST(team_id, year):\n",
    "    if year < 2003:\n",
    "        return 0\n",
    "    ast = 0\n",
    "    c1 = reg_season_detailed_pd['WTeamID'] == team_id\n",
    "    c2 = reg_season_detailed_pd['Season'] == year\n",
    "    c3 = reg_season_detailed_pd['LTeamID'] == team_id\n",
    "    gamesWon = reg_season_detailed_pd[c1 & c2]\n",
    "    ast = gamesWon['WAst'].sum()\n",
    "    gamesLost = reg_season_detailed_pd[c2 & c3]\n",
    "    ast += gamesLost['LAst'].sum()\n",
    "    total_games = len(gamesWon) + len(gamesLost)\n",
    "    ast /= total_games\n",
    "    return round(ast, 2)\n",
    "\n",
    "def getTourneyConferenceChampion(team_id, year):\n",
    "    if year < 2001:\n",
    "        return 0\n",
    "    conf = getConference(team_id, year)\n",
    "    c1 = conference_tourney_winners_pd['Season'] == year\n",
    "    c2 = conference_tourney_winners_pd['Conference'] == conf\n",
    "    if len(conference_tourney_winners_pd[c1 & c2]) == 0:\n",
    "        return 0\n",
    "    if team_id == conference_tourney_winners_pd[c1 & c2]['Winner'].values[0]:\n",
    "        return 1\n",
    "    else:\n",
    "        return 0\n",
    "\n",
    "def getConference(team_id, year):\n",
    "    c1 = conferences_pd['TeamID'] == team_id\n",
    "    c2 = conferences_pd['Season'] == year\n",
    "    c3 = conferences_pd[c1 & c2]\n",
    "    if len(c3) == 0:\n",
    "        return conferences_pd[c1].values[0][2]\n",
    "    return c3['ConfAbbrev'].values[0]\n",
    "    \n",
    "def getSeed(team_id, year):\n",
    "    c1 = seeds_pd['TeamID'] == team_id\n",
    "    c2 = seeds_pd['Season'] == year\n",
    "    if len(seeds_pd[c1 & c2]) == 0:\n",
    "        return 0\n",
    "    return int(seeds_pd[c1 & c2]['Seed'].values[0][1:3])\n",
    "\n",
    "def getRPG(team_id, year):\n",
    "    if year < 2003:\n",
    "        return 0\n",
    "    reb = 0\n",
    "    c1 = reg_season_detailed_pd['WTeamID'] == team_id\n",
    "    c2 = reg_season_detailed_pd['Season'] == year\n",
    "    c3 = reg_season_detailed_pd['LTeamID'] == team_id\n",
    "    gamesWon = reg_season_detailed_pd[c1 & c2]\n",
    "    reb = gamesWon['WOR'].sum()\n",
    "    reb += gamesWon['WDR'].sum()\n",
    "    gamesLost = reg_season_detailed_pd[c2 & c3]\n",
    "    reb += gamesLost['LOR'].sum()\n",
    "    reb += gamesLost['LDR'].sum()\n",
    "    total_games = len(gamesWon) + len(gamesLost)\n",
    "    reb /= total_games\n",
    "    return round(reb, 2)\n",
    "\n",
    "def getSTL(team_id, year):\n",
    "    if year < 2003:\n",
    "        return 0\n",
    "    stl = 0\n",
    "    c1 = reg_season_detailed_pd['WTeamID'] == team_id\n",
    "    c2 = reg_season_detailed_pd['Season'] == year\n",
    "    c3 = reg_season_detailed_pd['LTeamID'] == team_id\n",
    "    gamesWon = reg_season_detailed_pd[c1 & c2]\n",
    "    stl = gamesWon['WStl'].sum()\n",
    "    gamesLost = reg_season_detailed_pd[c2 & c3]\n",
    "    stl += gamesLost['LStl'].sum()\n",
    "    total_games = len(gamesWon) + len(gamesLost)\n",
    "    stl /= total_games\n",
    "    return round(stl, 2)\n",
    "\n",
    "def getNumOfAppearances(team_id):\n",
    "    return len(tourney_seeds_pd[tourney_seeds_pd['TeamID'] == team_id])\n",
    "\n",
    "def getHomeStat(row):\n",
    "    if (row == 'H'):\n",
    "        home = 1\n",
    "    if (row == 'A'):\n",
    "        home = -1\n",
    "    if (row == 'N'):\n",
    "        home = 0\n",
    "    return home\n",
    "\n",
    "def getSeasonData(team_id, year):\n",
    "    # Check first if the team was Division 1 at the time\n",
    "    c1 = teams_pd[teams_pd['TeamID'] == team_id]['FirstD1Season'].values[0] <= year\n",
    "    c2 = teams_pd[teams_pd['TeamID'] == team_id]['LastD1Season'].values[0] >= year\n",
    "    if ~c1 or ~c2:\n",
    "        return []\n",
    "    return [getRegSeasonWins(team_id, year),\n",
    "            getPPG(team_id, year),\n",
    "            getOPPG(team_id, year),\n",
    "            getPower6(team_id),\n",
    "            get3PT(team_id, year),\n",
    "            getTO(team_id, year),\n",
    "            getAST(team_id, year),\n",
    "            getTourneyConferenceChampion(team_id, year),\n",
    "            getSeed(team_id, year),\n",
    "            getRPG(team_id, year),\n",
    "            getSTL(team_id, year),\n",
    "            getNumOfAppearances(team_id)]\n",
    "\n",
    "def createSeasonDict(year):\n",
    "    seasonDictionary = collections.defaultdict(list)\n",
    "    for team in teams_pd['TeamName'].tolist():\n",
    "        team_id = teams_pd[teams_pd['TeamName'] == team].values[0][0]\n",
    "        team_vector = getSeasonData(team_id, year)\n",
    "        seasonDictionary[team_id] = team_vector\n",
    "    return seasonDictionary"
   ]
  },
  {
   "cell_type": "code",
   "execution_count": 466,
   "id": "f48b1095",
   "metadata": {},
   "outputs": [],
   "source": [
    "def createTrainingSet(years):\n",
    "    totalNumGames = 0\n",
    "    for year in years:\n",
    "        season = reg_season_compact_pd[reg_season_compact_pd['Season'] == year]\n",
    "        totalNumGames += len(season.index)\n",
    "        tourney = tourney_compact_pd[tourney_compact_pd['Season'] == year]\n",
    "        totalNumGames += len(tourney.index)\n",
    "    numFeatures = len(getSeasonData(1181,2012)) #Just choosing a random team and seeing the dimensionality of the vector\n",
    "    xTrain = np.zeros(( totalNumGames, numFeatures + 1))\n",
    "    yTrain = np.zeros(( totalNumGames ))\n",
    "    indexCounter = 0\n",
    "    for year in years:\n",
    "        team_vectors = createSeasonDict(year)\n",
    "        season = reg_season_compact_pd[reg_season_compact_pd['Season'] == year]\n",
    "        numGamesInSeason = len(season.index)\n",
    "        tourney = tourney_compact_pd[tourney_compact_pd['Season'] == year]\n",
    "        numGamesInSeason += len(tourney.index)\n",
    "        xTrainSeason = np.zeros(( numGamesInSeason, numFeatures + 1))\n",
    "        yTrainSeason = np.zeros(( numGamesInSeason ))\n",
    "        counter = 0\n",
    "        for index, row in season.iterrows():\n",
    "            w_team = row['WTeamID']\n",
    "            w_vector = team_vectors[w_team]\n",
    "            l_team = row['LTeamID']\n",
    "            l_vector = team_vectors[l_team]\n",
    "            diff = [a - b for a, b in zip(w_vector, l_vector)]\n",
    "            home = getHomeStat(row['WLoc'])\n",
    "            if (counter % 2 == 0):\n",
    "                diff.append(home) \n",
    "                xTrainSeason[counter] = diff\n",
    "                yTrainSeason[counter] = 1\n",
    "            else:\n",
    "                diff.append(-home)\n",
    "                xTrainSeason[counter] = [ -p for p in diff]\n",
    "                yTrainSeason[counter] = 0\n",
    "            counter += 1\n",
    "        for index, row in tourney.iterrows():\n",
    "            w_team = row['WTeamID']\n",
    "            w_vector = team_vectors[w_team]\n",
    "            l_team = row['LTeamID']\n",
    "            l_vector = team_vectors[l_team]\n",
    "            diff = [a - b for a, b in zip(w_vector, l_vector)]\n",
    "            home = 0 #All tournament games are neutral\n",
    "            if (counter % 2 == 0):\n",
    "                diff.append(home) \n",
    "                xTrainSeason[counter] = diff\n",
    "                yTrainSeason[counter] = 1\n",
    "            else:\n",
    "                diff.append(-home)\n",
    "                xTrainSeason[counter] = [ -p for p in diff]\n",
    "                yTrainSeason[counter] = 0\n",
    "            counter += 1\n",
    "        xTrain[indexCounter:numGamesInSeason+indexCounter] = xTrainSeason\n",
    "        yTrain[indexCounter:numGamesInSeason+indexCounter] = yTrainSeason\n",
    "        indexCounter += numGamesInSeason\n",
    "    return xTrain, yTrain"
   ]
  },
  {
   "cell_type": "markdown",
   "id": "01701895",
   "metadata": {},
   "source": [
    "We will not use the entire dataset since we will be using lots of models, and that will be time consuming trying to fit those models (*cough* SVC *cough*). But we should still get a very good idea on how these models will fare for the newer data, and it should translate well historically. In Step 9 when we scale our dataset, we will use the entire dataset, but for now, we will use the previous year. "
   ]
  },
  {
   "cell_type": "code",
   "execution_count": 501,
   "id": "f8432fbb",
   "metadata": {},
   "outputs": [],
   "source": [
    "x_data, y_data = createTrainingSet([2022])\n",
    "np.save('x_dataset', x_data)\n",
    "np.save('y_dataset', y_data)"
   ]
  },
  {
   "cell_type": "code",
   "execution_count": 502,
   "id": "10bc2143",
   "metadata": {},
   "outputs": [
    {
     "data": {
      "text/plain": [
       "(5412, 13)"
      ]
     },
     "execution_count": 502,
     "metadata": {},
     "output_type": "execute_result"
    }
   ],
   "source": [
    "xTrain = np.load('x_dataset.npy')\n",
    "yTrain = np.load('y_dataset.npy')\n",
    "xTrain.shape"
   ]
  },
  {
   "cell_type": "markdown",
   "id": "7e593395",
   "metadata": {},
   "source": [
    "## Testing Various Models"
   ]
  },
  {
   "cell_type": "markdown",
   "id": "7d560f56",
   "metadata": {},
   "source": [
    "Now we enter the point where we look into the various classification models in depth. We well all do hyperparamter tuning on them via `GridSearchCV()` to give everyone a fair shot. Finally, they will be put to the test to see who can predict the first round of the 2022 tournament the best."
   ]
  },
  {
   "cell_type": "code",
   "execution_count": 742,
   "id": "6a03adb3",
   "metadata": {},
   "outputs": [],
   "source": [
    "from sklearn.model_selection import train_test_split\n",
    "from sklearn.metrics import classification_report\n",
    "from sklearn.model_selection import GridSearchCV\n",
    "X_train, X_test, y_train, y_test = train_test_split(xTrain, yTrain, test_size = .3, random_state = 942)\n",
    "results = []"
   ]
  },
  {
   "cell_type": "code",
   "execution_count": 741,
   "id": "60afd493",
   "metadata": {},
   "outputs": [
    {
     "data": {
      "text/html": [
       "<div>\n",
       "<style scoped>\n",
       "    .dataframe tbody tr th:only-of-type {\n",
       "        vertical-align: middle;\n",
       "    }\n",
       "\n",
       "    .dataframe tbody tr th {\n",
       "        vertical-align: top;\n",
       "    }\n",
       "\n",
       "    .dataframe thead th {\n",
       "        text-align: right;\n",
       "    }\n",
       "</style>\n",
       "<table border=\"1\" class=\"dataframe\">\n",
       "  <thead>\n",
       "    <tr style=\"text-align: right;\">\n",
       "      <th></th>\n",
       "      <th>WTeamID</th>\n",
       "      <th>LTeamID</th>\n",
       "    </tr>\n",
       "  </thead>\n",
       "  <tbody>\n",
       "    <tr>\n",
       "      <th>0</th>\n",
       "      <td>1116</td>\n",
       "      <td>1436</td>\n",
       "    </tr>\n",
       "    <tr>\n",
       "      <th>1</th>\n",
       "      <td>1124</td>\n",
       "      <td>1313</td>\n",
       "    </tr>\n",
       "    <tr>\n",
       "      <th>2</th>\n",
       "      <td>1166</td>\n",
       "      <td>1361</td>\n",
       "    </tr>\n",
       "    <tr>\n",
       "      <th>3</th>\n",
       "      <td>1211</td>\n",
       "      <td>1209</td>\n",
       "    </tr>\n",
       "    <tr>\n",
       "      <th>4</th>\n",
       "      <td>1242</td>\n",
       "      <td>1411</td>\n",
       "    </tr>\n",
       "  </tbody>\n",
       "</table>\n",
       "</div>"
      ],
      "text/plain": [
       "   WTeamID  LTeamID\n",
       "0     1116     1436\n",
       "1     1124     1313\n",
       "2     1166     1361\n",
       "3     1211     1209\n",
       "4     1242     1411"
      ]
     },
     "execution_count": 741,
     "metadata": {},
     "output_type": "execute_result"
    }
   ],
   "source": [
    "# Making the list of First Round Games\n",
    "c1 = tourney_detailed_pd['DayNum'] == 136\n",
    "c2 = tourney_detailed_pd['DayNum'] == 137\n",
    "c3 = tourney_detailed_pd['Season'] == 2022\n",
    "first_round_2022_pd = tourney_detailed_pd[(c1 | c2) & c3]\n",
    "\n",
    "d = {'WTeamID': first_round_2022_pd['WTeamID'].tolist(),\n",
    "     'LTeamID': first_round_2022_pd['LTeamID'].tolist()\n",
    "    }\n",
    "\n",
    "first_round_2022_prediction_pd = pd.DataFrame(d)\n",
    "first_round_2022_prediction_pd.head()"
   ]
  },
  {
   "cell_type": "code",
   "execution_count": 678,
   "id": "c5c0aa3a",
   "metadata": {},
   "outputs": [],
   "source": [
    "# Functions to predict probability that Team 1 wins given both teams and the model\n",
    "def predictOutcome(w_data, l_data, model):\n",
    "    diff = [a - b for a, b in zip(w_data, l_data)]\n",
    "    diff.append(0)\n",
    "    return model.predict_proba([diff])[0]"
   ]
  },
  {
   "cell_type": "markdown",
   "id": "f54d281a",
   "metadata": {},
   "source": [
    "Furthermore, we will examine 5 games to help us choose our model for the next step. They are:\n",
    "\n",
    "1) (1)Gonzaga vs. (16)Georgia St. where Gonzaga won pretty handily. (1211 vs. 1209)\n",
    "2) (4)UCLA vs. (13)Akron where UCLA just barely survives. (1417 vs. 1103)\n",
    "3) (8)North Carolina vs. (9)Marquette where North Carolina just completely dominates (1314 vs. 1266)\n",
    "4) (11)Notre Dame vs. (6)Alabama where Notre Dame easily denies the Crimson Tide (1323 vs. 1104)\n",
    "5) (15)St. Peter's vs. (2)Kentucky where St. Peter's pulls off the greatest upset this round. (1389 vs. 1246)"
   ]
  },
  {
   "cell_type": "markdown",
   "id": "50a3220d",
   "metadata": {},
   "source": [
    "### SVC"
   ]
  },
  {
   "cell_type": "code",
   "execution_count": 679,
   "id": "f4fd4da4",
   "metadata": {},
   "outputs": [],
   "source": [
    "from sklearn.svm import SVC"
   ]
  },
  {
   "cell_type": "markdown",
   "id": "8ca04bcc",
   "metadata": {},
   "source": [
    "According to the research paper from last step, the Linear SVC gave the best accuracy. Let us see how it stands the test of time. Unfortunately, this will take a while to run, and afterwards doing some hyperparamter tuning... pass."
   ]
  },
  {
   "cell_type": "markdown",
   "id": "06d181e5",
   "metadata": {},
   "source": [
    "#### Linear SVC"
   ]
  },
  {
   "cell_type": "code",
   "execution_count": 749,
   "id": "9695501e",
   "metadata": {},
   "outputs": [
    {
     "name": "stdout",
     "output_type": "stream",
     "text": [
      "              precision    recall  f1-score   support\n",
      "\n",
      "         0.0       0.73      0.76      0.74       791\n",
      "         1.0       0.76      0.73      0.74       833\n",
      "\n",
      "    accuracy                           0.74      1624\n",
      "   macro avg       0.74      0.74      0.74      1624\n",
      "weighted avg       0.74      0.74      0.74      1624\n",
      "\n"
     ]
    },
    {
     "data": {
      "text/plain": [
       "0.742"
      ]
     },
     "execution_count": 749,
     "metadata": {},
     "output_type": "execute_result"
    }
   ],
   "source": [
    "model_SVC_linear = SVC(kernel = 'linear')\n",
    "model_SVC_linear = model_SVC_linear.fit(X_train, y_train)\n",
    "y_pred_SVC_linear = model_SVC_linear.predict(X_test)\n",
    "\n",
    "print(classification_report(y_test, y_pred_SVC_linear))\n",
    "model_SVC_accuracy_linear = accuracy_score(y_test, y_pred_SVC_linear)\n",
    "model_SVC_accuracy_linear = round(model_SVC_accuracy_linear, 4)\n",
    "model_SVC_accuracy_linear"
   ]
  },
  {
   "cell_type": "code",
   "execution_count": 693,
   "id": "710924a5",
   "metadata": {},
   "outputs": [],
   "source": [
    "model_SVC_linear_prediction_pd = first_round_2022_prediction_pd.copy()\n",
    "\n",
    "probabilities = []\n",
    "\n",
    "from sklearn.calibration import CalibratedClassifierCV\n",
    "cc_linear = CalibratedClassifierCV(model_SVC_linear)\n",
    "cc_linear.fit(X_train, y_train)\n",
    "\n",
    "for i in range(len(model_SVC_linear_prediction_pd)):\n",
    "    w_team = model_SVC_linear_prediction_pd.iloc[i, 0]\n",
    "    l_team = model_SVC_linear_prediction_pd.iloc[i, 1]\n",
    "    w_data = getSeasonData(w_team, 2022)\n",
    "    l_data = getSeasonData(l_team, 2022)\n",
    "    prob = predictOutcome(w_data, l_data, cc_linear)\n",
    "    probabilities.append(prob)"
   ]
  },
  {
   "cell_type": "code",
   "execution_count": 719,
   "id": "4bc97c7b",
   "metadata": {},
   "outputs": [
    {
     "data": {
      "text/plain": [
       "count    32.000000\n",
       "mean      0.674535\n",
       "std       0.272790\n",
       "min       0.034972\n",
       "25%       0.506967\n",
       "50%       0.727449\n",
       "75%       0.919946\n",
       "max       0.978470\n",
       "Name: Linear_SVC_Probabilites, dtype: float64"
      ]
     },
     "execution_count": 719,
     "metadata": {},
     "output_type": "execute_result"
    }
   ],
   "source": [
    "probabilites = np.array(probabilities)\n",
    "model_SVC_linear_prediction_pd['Linear_SVC_Probabilites'] = probabilites[:, 1]\n",
    "model_SVC_linear_prediction_pd['Linear_SVC_Probabilites'].describe()"
   ]
  },
  {
   "cell_type": "code",
   "execution_count": 722,
   "id": "df0934be",
   "metadata": {},
   "outputs": [
    {
     "data": {
      "image/png": "[encoded data removed]",
      "text/plain": [
       "<Figure size 640x480 with 1 Axes>"
      ]
     },
     "metadata": {},
     "output_type": "display_data"
    },
    {
     "name": "stdout",
     "output_type": "stream",
     "text": [
      "Accuracy for Predicting Round 1 is: 0.75\n"
     ]
    }
   ],
   "source": [
    "import matplotlib.pyplot as plt\n",
    "%matplotlib inline\n",
    "\n",
    "model_SVC_linear_prediction_pd['Linear_SVC_Probabilites'].hist(bins = 10)\n",
    "plt.xlabel(\"Probabilites\")\n",
    "plt.ylabel(\"Frequency\")\n",
    "plt.title(\"Distribution of Probabilites\")\n",
    "plt.show()\n",
    "model_SVC_accuracy_linear_tournament = len(model_SVC_linear_prediction_pd[model_SVC_linear_prediction_pd['Linear_SVC_Probabilites'] >= .5]) / 32\n",
    "print(\"Accuracy for Predicting Round 1 is:\", model_SVC_accuracy_linear_tournament)"
   ]
  },
  {
   "cell_type": "code",
   "execution_count": 731,
   "id": "babee6e5",
   "metadata": {},
   "outputs": [
    {
     "name": "stdout",
     "output_type": "stream",
     "text": [
      "Gonzaga vs. Georgia St. Prediction: 0.9256836804285434\n",
      "UCLA vs. Akron Prediction: 0.9180336819628374\n",
      "North Carolina vs. Marquette: 0.733227431912017\n",
      "Notre Dame vs. Alabama: 0.6255782369476646\n",
      "St. Peter's vs. Kentucky: 0.03497230919533634\n"
     ]
    }
   ],
   "source": [
    "print(\"Gonzaga vs. Georgia St. Prediction:\", model_SVC_linear_prediction_pd.iloc[3, 2])\n",
    "print(\"UCLA vs. Akron Prediction:\", model_SVC_linear_prediction_pd.iloc[15, 2])\n",
    "print(\"North Carolina vs. Marquette:\", model_SVC_linear_prediction_pd.iloc[9, 2])\n",
    "print(\"Notre Dame vs. Alabama:\", model_SVC_linear_prediction_pd.iloc[24, 2])\n",
    "print(\"St. Peter's vs. Kentucky:\", model_SVC_linear_prediction_pd.iloc[13, 2])"
   ]
  },
  {
   "cell_type": "code",
   "execution_count": 743,
   "id": "46a00808",
   "metadata": {},
   "outputs": [],
   "source": [
    "results.append({'Name': 'Linear_SVC',\n",
    "                'Training_Acc': model_SVC_accuracy_linear,\n",
    "                'Tournament_Acc': model_SVC_accuracy_linear_tournament\n",
    "               })"
   ]
  },
  {
   "cell_type": "markdown",
   "id": "f15535a3",
   "metadata": {},
   "source": [
    "It seems like the Linear SVC displayed a 74.2% accuracy on the training data. But when it came to the Tournament data, it scored a benchmark 75% accuracy. The lowest accuracy recorded was 3.497% which came from St. Peter's vs. Kentucky. The model also correctly predicted the 4 games shown just above including the upset by Notre Dame. All in all, if it were not for the runtime of SVC's we would go with them 100%."
   ]
  },
  {
   "cell_type": "code",
   "execution_count": 750,
   "id": "2880a64d",
   "metadata": {},
   "outputs": [
    {
     "name": "stdout",
     "output_type": "stream",
     "text": [
      "              precision    recall  f1-score   support\n",
      "\n",
      "         0.0       0.73      0.76      0.75       791\n",
      "         1.0       0.76      0.73      0.75       833\n",
      "\n",
      "    accuracy                           0.75      1624\n",
      "   macro avg       0.75      0.75      0.75      1624\n",
      "weighted avg       0.75      0.75      0.75      1624\n",
      "\n"
     ]
    },
    {
     "data": {
      "text/plain": [
       "0.7451"
      ]
     },
     "execution_count": 750,
     "metadata": {},
     "output_type": "execute_result"
    }
   ],
   "source": [
    "# Radial Kernel\n",
    "model_SVC_rbf = SVC(kernel = 'rbf')\n",
    "model_SVC_rbf = model_SVC_rbf.fit(X_train, y_train)\n",
    "y_pred_SVC_rbf = model_SVC_rbf.predict(X_test)\n",
    "\n",
    "print(classification_report(y_test, y_pred_SVC_rbf))\n",
    "model_SVC_accuracy_rbf = accuracy_score(y_test, y_pred_SVC_rbf)\n",
    "model_SVC_accuracy_rbf = round(model_SVC_accuracy_rbf, 4)\n",
    "model_SVC_accuracy_rbf"
   ]
  },
  {
   "cell_type": "code",
   "execution_count": 733,
   "id": "cbb2890d",
   "metadata": {},
   "outputs": [],
   "source": [
    "model_SVC_rbf_prediction_pd = first_round_2022_prediction_pd.copy()\n",
    "\n",
    "probabilities = []\n",
    "\n",
    "cc_rbf = CalibratedClassifierCV(model_SVC_rbf)\n",
    "cc_rbf.fit(X_train, y_train)\n",
    "\n",
    "for i in range(len(model_SVC_rbf_prediction_pd)):\n",
    "    w_team = model_SVC_rbf_prediction_pd.iloc[i, 0]\n",
    "    l_team = model_SVC_rbf_prediction_pd.iloc[i, 1]\n",
    "    w_data = getSeasonData(w_team, 2022)\n",
    "    l_data = getSeasonData(l_team, 2022)\n",
    "    prob = predictOutcome(w_data, l_data, cc_rbf)\n",
    "    probabilities.append(prob)"
   ]
  },
  {
   "cell_type": "code",
   "execution_count": 734,
   "id": "d65270e7",
   "metadata": {},
   "outputs": [
    {
     "data": {
      "text/plain": [
       "count    32.000000\n",
       "mean      0.631059\n",
       "std       0.203303\n",
       "min       0.202225\n",
       "25%       0.422035\n",
       "50%       0.736533\n",
       "75%       0.791780\n",
       "max       0.873147\n",
       "Name: Radial_SVC_Probabilites, dtype: float64"
      ]
     },
     "execution_count": 734,
     "metadata": {},
     "output_type": "execute_result"
    }
   ],
   "source": [
    "probabilites = np.array(probabilities)\n",
    "model_SVC_rbf_prediction_pd['Radial_SVC_Probabilites'] = probabilites[:, 1]\n",
    "model_SVC_rbf_prediction_pd['Radial_SVC_Probabilites'].describe()"
   ]
  },
  {
   "cell_type": "code",
   "execution_count": 738,
   "id": "32dd20c0",
   "metadata": {},
   "outputs": [
    {
     "data": {
      "image/png": "[encoded data removed]",
      "text/plain": [
       "<Figure size 640x480 with 1 Axes>"
      ]
     },
     "metadata": {},
     "output_type": "display_data"
    },
    {
     "name": "stdout",
     "output_type": "stream",
     "text": [
      "Accuracy for Predicting Round 1 is: 0.6875\n"
     ]
    }
   ],
   "source": [
    "model_SVC_rbf_prediction_pd['Radial_SVC_Probabilites'].hist(bins = 10)\n",
    "plt.xlabel(\"Probabilites\")\n",
    "plt.ylabel(\"Frequency\")\n",
    "plt.title(\"Distribution of Probabilites\")\n",
    "plt.show()\n",
    "model_SVC_accuracy_rbf_tournament = len(model_SVC_rbf_prediction_pd[model_SVC_rbf_prediction_pd['Radial_SVC_Probabilites'] >= .5]) / 32\n",
    "print(\"Accuracy for Predicting Round 1 is:\", model_SVC_accuracy_rbf_tournament)"
   ]
  },
  {
   "cell_type": "code",
   "execution_count": 739,
   "id": "a0961b8b",
   "metadata": {},
   "outputs": [
    {
     "name": "stdout",
     "output_type": "stream",
     "text": [
      "Gonzaga vs. Georgia St. Prediction: 0.7357289541652939\n",
      "UCLA vs. Akron Prediction: 0.8206063842196869\n",
      "North Carolina vs. Marquette: 0.805882675989535\n",
      "Notre Dame vs. Alabama: 0.7428491064723785\n",
      "St. Peter's vs. Kentucky: 0.3236485942620432\n"
     ]
    }
   ],
   "source": [
    "print(\"Gonzaga vs. Georgia St. Prediction:\", model_SVC_rbf_prediction_pd.iloc[3, 2])\n",
    "print(\"UCLA vs. Akron Prediction:\", model_SVC_rbf_prediction_pd.iloc[15, 2])\n",
    "print(\"North Carolina vs. Marquette:\", model_SVC_rbf_prediction_pd.iloc[9, 2])\n",
    "print(\"Notre Dame vs. Alabama:\", model_SVC_rbf_prediction_pd.iloc[24, 2])\n",
    "print(\"St. Peter's vs. Kentucky:\", model_SVC_rbf_prediction_pd.iloc[13, 2])"
   ]
  },
  {
   "cell_type": "code",
   "execution_count": 747,
   "id": "8413ef48",
   "metadata": {},
   "outputs": [],
   "source": [
    "results.append({'Name': 'Radial_SVC',\n",
    "                'Training_Acc': model_SVC_accuracy_rbf, \n",
    "                'Tournament_Acc': model_SVC_accuracy_rbf_tournament\n",
    "               })"
   ]
  },
  {
   "cell_type": "markdown",
   "id": "287421da",
   "metadata": {},
   "source": [
    "Despite having a slightly higher training accuracy than its linear counterpart, it did very poorly on predicting the tournament with a 68.75% accuracy. The most suprising thing, however is that it gave St. Peter's a 32.36% chance to beat Kentucky. Although we will not use this model, it was still a very good effort."
   ]
  },
  {
   "cell_type": "code",
   "execution_count": 552,
   "id": "54d94c27",
   "metadata": {},
   "outputs": [
    {
     "name": "stdout",
     "output_type": "stream",
     "text": [
      "Best: 0.738912 using {'degree': 3}\n"
     ]
    }
   ],
   "source": [
    "# Varying Degree Polynomials\n",
    "from sklearn.model_selection import GridSearchCV\n",
    "\n",
    "param_grid_SVC_poly = {'degree': [0, 2, 3, 4]}\n",
    "grid_SVC_poly = GridSearchCV(SVC(kernel = 'poly'), param_grid = param_grid_SVC_poly, cv = 3, n_jobs = -1)\n",
    "grid_SVC_poly = grid_SVC_poly.fit(X_train, y_train)\n",
    "print(\"Best: %f using %s\" % (grid_SVC_poly.best_score_, grid_SVC_poly.best_params_))"
   ]
  },
  {
   "cell_type": "code",
   "execution_count": 748,
   "id": "bb549226",
   "metadata": {},
   "outputs": [
    {
     "name": "stdout",
     "output_type": "stream",
     "text": [
      "              precision    recall  f1-score   support\n",
      "\n",
      "         0.0       0.73      0.77      0.75       791\n",
      "         1.0       0.77      0.73      0.75       833\n",
      "\n",
      "    accuracy                           0.75      1624\n",
      "   macro avg       0.75      0.75      0.75      1624\n",
      "weighted avg       0.75      0.75      0.75      1624\n",
      "\n"
     ]
    },
    {
     "data": {
      "text/plain": [
       "0.745"
      ]
     },
     "execution_count": 748,
     "metadata": {},
     "output_type": "execute_result"
    }
   ],
   "source": [
    "model_SVC_deg3 = SVC(kernel = 'poly', degree = 3)\n",
    "model_SVC_deg3 = model_SVC_deg3.fit(X_train, y_train)\n",
    "y_pred_SVC_deg3 = model_SVC_deg3.predict(X_test)\n",
    "\n",
    "print(classification_report(y_test, y_pred_SVC_deg3))\n",
    "model_SVC_accuracy_deg3 = accuracy_score(y_test, y_pred_SVC_deg3)\n",
    "model_SVC_accuracy_deg3 = round(model_SVC_accuracy_rbf, 4)\n",
    "model_SVC_accuracy_deg3"
   ]
  },
  {
   "cell_type": "code",
   "execution_count": 751,
   "id": "40b35412",
   "metadata": {},
   "outputs": [],
   "source": [
    "model_SVC_deg3_prediction_pd = first_round_2022_prediction_pd.copy()\n",
    "\n",
    "probabilities = []\n",
    "\n",
    "cc_deg3 = CalibratedClassifierCV(model_SVC_deg3)\n",
    "cc_deg3.fit(X_train, y_train)\n",
    "\n",
    "for i in range(len(model_SVC_deg3_prediction_pd)):\n",
    "    w_team = model_SVC_deg3_prediction_pd.iloc[i, 0]\n",
    "    l_team = model_SVC_deg3_prediction_pd.iloc[i, 1]\n",
    "    w_data = getSeasonData(w_team, 2022)\n",
    "    l_data = getSeasonData(l_team, 2022)\n",
    "    prob = predictOutcome(w_data, l_data, cc_deg3)\n",
    "    probabilities.append(prob)"
   ]
  },
  {
   "cell_type": "code",
   "execution_count": 752,
   "id": "2cdfebe0",
   "metadata": {},
   "outputs": [
    {
     "data": {
      "text/plain": [
       "count    32.000000\n",
       "mean      0.664924\n",
       "std       0.236200\n",
       "min       0.099157\n",
       "25%       0.457032\n",
       "50%       0.659261\n",
       "75%       0.875955\n",
       "max       0.998751\n",
       "Name: Degree3_SVC_Probabilites, dtype: float64"
      ]
     },
     "execution_count": 752,
     "metadata": {},
     "output_type": "execute_result"
    }
   ],
   "source": [
    "probabilites = np.array(probabilities)\n",
    "model_SVC_deg3_prediction_pd['Degree3_SVC_Probabilites'] = probabilites[:, 1]\n",
    "model_SVC_deg3_prediction_pd['Degree3_SVC_Probabilites'].describe()"
   ]
  },
  {
   "cell_type": "markdown",
   "id": "a5cd5867",
   "metadata": {},
   "source": [
    "### Logistic Regression"
   ]
  },
  {
   "cell_type": "markdown",
   "id": "e45fc6f8",
   "metadata": {},
   "source": [
    "Unlike SVC, `GridSearchCV` will not take forever."
   ]
  },
  {
   "cell_type": "markdown",
   "id": "90d1d99d",
   "metadata": {},
   "source": [
    "from sklearn.linear_model import LogisticRegression\n",
    "from sklearn.model_selection import GridSearchCV\n",
    "from sklearn.metrics import accuracy_score\n",
    "\n",
    "model_logreg = LogisticRegression()\n",
    "model_logreg = model_logreg.fit(X_train, y_train)\n",
    "y_pred_logreg = model_logreg.predict(X_test)\n",
    "\n",
    "print(classification_report(y_test, y_pred_logreg))\n",
    "model_logreg_accuracy = accuracy_score(y_test, y_pred_logreg)\n",
    "model_logreg_accuracy"
   ]
  },
  {
   "cell_type": "code",
   "execution_count": 546,
   "id": "ee558bcd",
   "metadata": {},
   "outputs": [
    {
     "name": "stderr",
     "output_type": "stream",
     "text": [
      "/Users/janjacob/anaconda3/lib/python3.10/site-packages/sklearn/linear_model/_logistic.py:1181: UserWarning: Setting penalty=None will ignore the C and l1_ratio parameters\n",
      "  warnings.warn(\n",
      "/Users/janjacob/anaconda3/lib/python3.10/site-packages/sklearn/linear_model/_logistic.py:1181: UserWarning: Setting penalty=None will ignore the C and l1_ratio parameters\n",
      "  warnings.warn(\n",
      "/Users/janjacob/anaconda3/lib/python3.10/site-packages/sklearn/linear_model/_logistic.py:1181: UserWarning: Setting penalty=None will ignore the C and l1_ratio parameters\n",
      "  warnings.warn(\n",
      "/Users/janjacob/anaconda3/lib/python3.10/site-packages/sklearn/linear_model/_logistic.py:1181: UserWarning: Setting penalty=None will ignore the C and l1_ratio parameters\n",
      "  warnings.warn(\n",
      "/Users/janjacob/anaconda3/lib/python3.10/site-packages/sklearn/linear_model/_logistic.py:1181: UserWarning: Setting penalty=None will ignore the C and l1_ratio parameters\n",
      "  warnings.warn(\n",
      "/Users/janjacob/anaconda3/lib/python3.10/site-packages/sklearn/linear_model/_logistic.py:1181: UserWarning: Setting penalty=None will ignore the C and l1_ratio parameters\n",
      "  warnings.warn(\n",
      "/Users/janjacob/anaconda3/lib/python3.10/site-packages/sklearn/linear_model/_logistic.py:1181: UserWarning: Setting penalty=None will ignore the C and l1_ratio parameters\n",
      "  warnings.warn(\n",
      "/Users/janjacob/anaconda3/lib/python3.10/site-packages/sklearn/linear_model/_logistic.py:1181: UserWarning: Setting penalty=None will ignore the C and l1_ratio parameters\n",
      "  warnings.warn(\n",
      "/Users/janjacob/anaconda3/lib/python3.10/site-packages/sklearn/linear_model/_logistic.py:1181: UserWarning: Setting penalty=None will ignore the C and l1_ratio parameters\n",
      "  warnings.warn(\n",
      "/Users/janjacob/anaconda3/lib/python3.10/site-packages/sklearn/linear_model/_logistic.py:1181: UserWarning: Setting penalty=None will ignore the C and l1_ratio parameters\n",
      "  warnings.warn(\n",
      "/Users/janjacob/anaconda3/lib/python3.10/site-packages/sklearn/linear_model/_logistic.py:1181: UserWarning: Setting penalty=None will ignore the C and l1_ratio parameters\n",
      "  warnings.warn(\n",
      "/Users/janjacob/anaconda3/lib/python3.10/site-packages/sklearn/linear_model/_logistic.py:1181: UserWarning: Setting penalty=None will ignore the C and l1_ratio parameters\n",
      "  warnings.warn(\n",
      "/Users/janjacob/anaconda3/lib/python3.10/site-packages/sklearn/linear_model/_logistic.py:1181: UserWarning: Setting penalty=None will ignore the C and l1_ratio parameters\n",
      "  warnings.warn(\n",
      "/Users/janjacob/anaconda3/lib/python3.10/site-packages/sklearn/linear_model/_logistic.py:1181: UserWarning: Setting penalty=None will ignore the C and l1_ratio parameters\n",
      "  warnings.warn(\n",
      "/Users/janjacob/anaconda3/lib/python3.10/site-packages/sklearn/linear_model/_logistic.py:1181: UserWarning: Setting penalty=None will ignore the C and l1_ratio parameters\n",
      "  warnings.warn(\n",
      "/Users/janjacob/anaconda3/lib/python3.10/site-packages/sklearn/linear_model/_logistic.py:1181: UserWarning: Setting penalty=None will ignore the C and l1_ratio parameters\n",
      "  warnings.warn(\n",
      "/Users/janjacob/anaconda3/lib/python3.10/site-packages/sklearn/linear_model/_logistic.py:1181: UserWarning: Setting penalty=None will ignore the C and l1_ratio parameters\n",
      "  warnings.warn(\n",
      "/Users/janjacob/anaconda3/lib/python3.10/site-packages/sklearn/linear_model/_logistic.py:1181: UserWarning: Setting penalty=None will ignore the C and l1_ratio parameters\n",
      "  warnings.warn(\n",
      "/Users/janjacob/anaconda3/lib/python3.10/site-packages/sklearn/linear_model/_logistic.py:1181: UserWarning: Setting penalty=None will ignore the C and l1_ratio parameters\n",
      "  warnings.warn(\n",
      "/Users/janjacob/anaconda3/lib/python3.10/site-packages/sklearn/linear_model/_logistic.py:1181: UserWarning: Setting penalty=None will ignore the C and l1_ratio parameters\n",
      "  warnings.warn(\n",
      "/Users/janjacob/anaconda3/lib/python3.10/site-packages/sklearn/linear_model/_logistic.py:1181: UserWarning: Setting penalty=None will ignore the C and l1_ratio parameters\n",
      "  warnings.warn(\n",
      "/Users/janjacob/anaconda3/lib/python3.10/site-packages/sklearn/linear_model/_logistic.py:1181: UserWarning: Setting penalty=None will ignore the C and l1_ratio parameters\n",
      "  warnings.warn(\n",
      "/Users/janjacob/anaconda3/lib/python3.10/site-packages/sklearn/linear_model/_logistic.py:1181: UserWarning: Setting penalty=None will ignore the C and l1_ratio parameters\n",
      "  warnings.warn(\n",
      "/Users/janjacob/anaconda3/lib/python3.10/site-packages/sklearn/linear_model/_logistic.py:1181: UserWarning: Setting penalty=None will ignore the C and l1_ratio parameters\n",
      "  warnings.warn(\n",
      "/Users/janjacob/anaconda3/lib/python3.10/site-packages/sklearn/linear_model/_logistic.py:1181: UserWarning: Setting penalty=None will ignore the C and l1_ratio parameters\n",
      "  warnings.warn(\n",
      "/Users/janjacob/anaconda3/lib/python3.10/site-packages/sklearn/linear_model/_logistic.py:1181: UserWarning: Setting penalty=None will ignore the C and l1_ratio parameters\n",
      "  warnings.warn(\n",
      "/Users/janjacob/anaconda3/lib/python3.10/site-packages/sklearn/linear_model/_logistic.py:1181: UserWarning: Setting penalty=None will ignore the C and l1_ratio parameters\n",
      "  warnings.warn(\n",
      "/Users/janjacob/anaconda3/lib/python3.10/site-packages/sklearn/linear_model/_logistic.py:1181: UserWarning: Setting penalty=None will ignore the C and l1_ratio parameters\n",
      "  warnings.warn(\n",
      "/Users/janjacob/anaconda3/lib/python3.10/site-packages/sklearn/linear_model/_logistic.py:1181: UserWarning: Setting penalty=None will ignore the C and l1_ratio parameters\n",
      "  warnings.warn(\n",
      "/Users/janjacob/anaconda3/lib/python3.10/site-packages/sklearn/linear_model/_logistic.py:1181: UserWarning: Setting penalty=None will ignore the C and l1_ratio parameters\n",
      "  warnings.warn(\n",
      "/Users/janjacob/anaconda3/lib/python3.10/site-packages/sklearn/linear_model/_logistic.py:1181: UserWarning: Setting penalty=None will ignore the C and l1_ratio parameters\n",
      "  warnings.warn(\n",
      "/Users/janjacob/anaconda3/lib/python3.10/site-packages/sklearn/linear_model/_logistic.py:1181: UserWarning: Setting penalty=None will ignore the C and l1_ratio parameters\n",
      "  warnings.warn(\n",
      "/Users/janjacob/anaconda3/lib/python3.10/site-packages/sklearn/linear_model/_logistic.py:1181: UserWarning: Setting penalty=None will ignore the C and l1_ratio parameters\n",
      "  warnings.warn(\n",
      "/Users/janjacob/anaconda3/lib/python3.10/site-packages/sklearn/linear_model/_logistic.py:1181: UserWarning: Setting penalty=None will ignore the C and l1_ratio parameters\n",
      "  warnings.warn(\n",
      "/Users/janjacob/anaconda3/lib/python3.10/site-packages/sklearn/linear_model/_logistic.py:1181: UserWarning: Setting penalty=None will ignore the C and l1_ratio parameters\n",
      "  warnings.warn(\n",
      "/Users/janjacob/anaconda3/lib/python3.10/site-packages/sklearn/linear_model/_logistic.py:1181: UserWarning: Setting penalty=None will ignore the C and l1_ratio parameters\n",
      "  warnings.warn(\n",
      "/Users/janjacob/anaconda3/lib/python3.10/site-packages/sklearn/linear_model/_logistic.py:1181: UserWarning: Setting penalty=None will ignore the C and l1_ratio parameters\n",
      "  warnings.warn(\n",
      "/Users/janjacob/anaconda3/lib/python3.10/site-packages/sklearn/linear_model/_logistic.py:1181: UserWarning: Setting penalty=None will ignore the C and l1_ratio parameters\n",
      "  warnings.warn(\n",
      "/Users/janjacob/anaconda3/lib/python3.10/site-packages/sklearn/linear_model/_logistic.py:1181: UserWarning: Setting penalty=None will ignore the C and l1_ratio parameters\n",
      "  warnings.warn(\n",
      "/Users/janjacob/anaconda3/lib/python3.10/site-packages/sklearn/linear_model/_logistic.py:1181: UserWarning: Setting penalty=None will ignore the C and l1_ratio parameters\n",
      "  warnings.warn(\n",
      "/Users/janjacob/anaconda3/lib/python3.10/site-packages/sklearn/linear_model/_logistic.py:1181: UserWarning: Setting penalty=None will ignore the C and l1_ratio parameters\n",
      "  warnings.warn(\n",
      "/Users/janjacob/anaconda3/lib/python3.10/site-packages/sklearn/linear_model/_logistic.py:1181: UserWarning: Setting penalty=None will ignore the C and l1_ratio parameters\n",
      "  warnings.warn(\n",
      "/Users/janjacob/anaconda3/lib/python3.10/site-packages/sklearn/linear_model/_logistic.py:1181: UserWarning: Setting penalty=None will ignore the C and l1_ratio parameters\n",
      "  warnings.warn(\n",
      "/Users/janjacob/anaconda3/lib/python3.10/site-packages/sklearn/linear_model/_logistic.py:1181: UserWarning: Setting penalty=None will ignore the C and l1_ratio parameters\n",
      "  warnings.warn(\n",
      "/Users/janjacob/anaconda3/lib/python3.10/site-packages/sklearn/linear_model/_logistic.py:1181: UserWarning: Setting penalty=None will ignore the C and l1_ratio parameters\n",
      "  warnings.warn(\n",
      "/Users/janjacob/anaconda3/lib/python3.10/site-packages/sklearn/linear_model/_logistic.py:1181: UserWarning: Setting penalty=None will ignore the C and l1_ratio parameters\n",
      "  warnings.warn(\n"
     ]
    },
    {
     "name": "stderr",
     "output_type": "stream",
     "text": [
      "/Users/janjacob/anaconda3/lib/python3.10/site-packages/sklearn/linear_model/_logistic.py:1181: UserWarning: Setting penalty=None will ignore the C and l1_ratio parameters\n",
      "  warnings.warn(\n",
      "/Users/janjacob/anaconda3/lib/python3.10/site-packages/sklearn/linear_model/_logistic.py:1181: UserWarning: Setting penalty=None will ignore the C and l1_ratio parameters\n",
      "  warnings.warn(\n",
      "/Users/janjacob/anaconda3/lib/python3.10/site-packages/sklearn/linear_model/_logistic.py:1181: UserWarning: Setting penalty=None will ignore the C and l1_ratio parameters\n",
      "  warnings.warn(\n",
      "/Users/janjacob/anaconda3/lib/python3.10/site-packages/sklearn/linear_model/_logistic.py:1181: UserWarning: Setting penalty=None will ignore the C and l1_ratio parameters\n",
      "  warnings.warn(\n",
      "/Users/janjacob/anaconda3/lib/python3.10/site-packages/sklearn/linear_model/_logistic.py:1181: UserWarning: Setting penalty=None will ignore the C and l1_ratio parameters\n",
      "  warnings.warn(\n",
      "/Users/janjacob/anaconda3/lib/python3.10/site-packages/sklearn/linear_model/_logistic.py:1181: UserWarning: Setting penalty=None will ignore the C and l1_ratio parameters\n",
      "  warnings.warn(\n",
      "/Users/janjacob/anaconda3/lib/python3.10/site-packages/sklearn/linear_model/_logistic.py:1181: UserWarning: Setting penalty=None will ignore the C and l1_ratio parameters\n",
      "  warnings.warn(\n",
      "/Users/janjacob/anaconda3/lib/python3.10/site-packages/sklearn/linear_model/_logistic.py:1181: UserWarning: Setting penalty=None will ignore the C and l1_ratio parameters\n",
      "  warnings.warn(\n",
      "/Users/janjacob/anaconda3/lib/python3.10/site-packages/sklearn/linear_model/_logistic.py:1181: UserWarning: Setting penalty=None will ignore the C and l1_ratio parameters\n",
      "  warnings.warn(\n",
      "/Users/janjacob/anaconda3/lib/python3.10/site-packages/sklearn/linear_model/_logistic.py:1181: UserWarning: Setting penalty=None will ignore the C and l1_ratio parameters\n",
      "  warnings.warn(\n",
      "/Users/janjacob/anaconda3/lib/python3.10/site-packages/sklearn/linear_model/_logistic.py:1181: UserWarning: Setting penalty=None will ignore the C and l1_ratio parameters\n",
      "  warnings.warn(\n",
      "/Users/janjacob/anaconda3/lib/python3.10/site-packages/sklearn/linear_model/_logistic.py:1181: UserWarning: Setting penalty=None will ignore the C and l1_ratio parameters\n",
      "  warnings.warn(\n",
      "/Users/janjacob/anaconda3/lib/python3.10/site-packages/sklearn/linear_model/_logistic.py:1181: UserWarning: Setting penalty=None will ignore the C and l1_ratio parameters\n",
      "  warnings.warn(\n",
      "/Users/janjacob/anaconda3/lib/python3.10/site-packages/sklearn/linear_model/_logistic.py:1181: UserWarning: Setting penalty=None will ignore the C and l1_ratio parameters\n",
      "  warnings.warn(\n",
      "/Users/janjacob/anaconda3/lib/python3.10/site-packages/sklearn/linear_model/_logistic.py:1181: UserWarning: Setting penalty=None will ignore the C and l1_ratio parameters\n",
      "  warnings.warn(\n",
      "/Users/janjacob/anaconda3/lib/python3.10/site-packages/sklearn/linear_model/_logistic.py:1181: UserWarning: Setting penalty=None will ignore the C and l1_ratio parameters\n",
      "  warnings.warn(\n",
      "/Users/janjacob/anaconda3/lib/python3.10/site-packages/sklearn/linear_model/_logistic.py:1181: UserWarning: Setting penalty=None will ignore the C and l1_ratio parameters\n",
      "  warnings.warn(\n",
      "/Users/janjacob/anaconda3/lib/python3.10/site-packages/sklearn/linear_model/_logistic.py:1181: UserWarning: Setting penalty=None will ignore the C and l1_ratio parameters\n",
      "  warnings.warn(\n",
      "/Users/janjacob/anaconda3/lib/python3.10/site-packages/sklearn/linear_model/_logistic.py:1181: UserWarning: Setting penalty=None will ignore the C and l1_ratio parameters\n",
      "  warnings.warn(\n",
      "/Users/janjacob/anaconda3/lib/python3.10/site-packages/sklearn/linear_model/_logistic.py:1181: UserWarning: Setting penalty=None will ignore the C and l1_ratio parameters\n",
      "  warnings.warn(\n",
      "/Users/janjacob/anaconda3/lib/python3.10/site-packages/sklearn/linear_model/_logistic.py:1181: UserWarning: Setting penalty=None will ignore the C and l1_ratio parameters\n",
      "  warnings.warn(\n",
      "/Users/janjacob/anaconda3/lib/python3.10/site-packages/sklearn/linear_model/_logistic.py:1181: UserWarning: Setting penalty=None will ignore the C and l1_ratio parameters\n",
      "  warnings.warn(\n",
      "/Users/janjacob/anaconda3/lib/python3.10/site-packages/sklearn/linear_model/_logistic.py:1181: UserWarning: Setting penalty=None will ignore the C and l1_ratio parameters\n",
      "  warnings.warn(\n",
      "/Users/janjacob/anaconda3/lib/python3.10/site-packages/sklearn/linear_model/_logistic.py:1181: UserWarning: Setting penalty=None will ignore the C and l1_ratio parameters\n",
      "  warnings.warn(\n",
      "/Users/janjacob/anaconda3/lib/python3.10/site-packages/sklearn/linear_model/_logistic.py:1181: UserWarning: Setting penalty=None will ignore the C and l1_ratio parameters\n",
      "  warnings.warn(\n",
      "/Users/janjacob/anaconda3/lib/python3.10/site-packages/sklearn/linear_model/_logistic.py:1181: UserWarning: Setting penalty=None will ignore the C and l1_ratio parameters\n",
      "  warnings.warn(\n",
      "/Users/janjacob/anaconda3/lib/python3.10/site-packages/sklearn/linear_model/_logistic.py:1181: UserWarning: Setting penalty=None will ignore the C and l1_ratio parameters\n",
      "  warnings.warn(\n",
      "/Users/janjacob/anaconda3/lib/python3.10/site-packages/sklearn/linear_model/_logistic.py:1181: UserWarning: Setting penalty=None will ignore the C and l1_ratio parameters\n",
      "  warnings.warn(\n",
      "/Users/janjacob/anaconda3/lib/python3.10/site-packages/sklearn/linear_model/_logistic.py:1181: UserWarning: Setting penalty=None will ignore the C and l1_ratio parameters\n",
      "  warnings.warn(\n",
      "/Users/janjacob/anaconda3/lib/python3.10/site-packages/sklearn/linear_model/_logistic.py:1181: UserWarning: Setting penalty=None will ignore the C and l1_ratio parameters\n",
      "  warnings.warn(\n",
      "/Users/janjacob/anaconda3/lib/python3.10/site-packages/sklearn/linear_model/_logistic.py:1181: UserWarning: Setting penalty=None will ignore the C and l1_ratio parameters\n",
      "  warnings.warn(\n",
      "/Users/janjacob/anaconda3/lib/python3.10/site-packages/sklearn/linear_model/_logistic.py:1181: UserWarning: Setting penalty=None will ignore the C and l1_ratio parameters\n",
      "  warnings.warn(\n",
      "/Users/janjacob/anaconda3/lib/python3.10/site-packages/sklearn/linear_model/_logistic.py:1181: UserWarning: Setting penalty=None will ignore the C and l1_ratio parameters\n",
      "  warnings.warn(\n",
      "/Users/janjacob/anaconda3/lib/python3.10/site-packages/sklearn/linear_model/_logistic.py:1181: UserWarning: Setting penalty=None will ignore the C and l1_ratio parameters\n",
      "  warnings.warn(\n",
      "/Users/janjacob/anaconda3/lib/python3.10/site-packages/sklearn/linear_model/_logistic.py:1181: UserWarning: Setting penalty=None will ignore the C and l1_ratio parameters\n",
      "  warnings.warn(\n",
      "/Users/janjacob/anaconda3/lib/python3.10/site-packages/sklearn/linear_model/_logistic.py:1181: UserWarning: Setting penalty=None will ignore the C and l1_ratio parameters\n",
      "  warnings.warn(\n",
      "/Users/janjacob/anaconda3/lib/python3.10/site-packages/sklearn/linear_model/_logistic.py:1181: UserWarning: Setting penalty=None will ignore the C and l1_ratio parameters\n",
      "  warnings.warn(\n",
      "/Users/janjacob/anaconda3/lib/python3.10/site-packages/sklearn/linear_model/_logistic.py:1181: UserWarning: Setting penalty=None will ignore the C and l1_ratio parameters\n",
      "  warnings.warn(\n",
      "/Users/janjacob/anaconda3/lib/python3.10/site-packages/sklearn/linear_model/_logistic.py:1181: UserWarning: Setting penalty=None will ignore the C and l1_ratio parameters\n",
      "  warnings.warn(\n",
      "/Users/janjacob/anaconda3/lib/python3.10/site-packages/sklearn/linear_model/_logistic.py:1181: UserWarning: Setting penalty=None will ignore the C and l1_ratio parameters\n",
      "  warnings.warn(\n",
      "/Users/janjacob/anaconda3/lib/python3.10/site-packages/sklearn/linear_model/_logistic.py:1181: UserWarning: Setting penalty=None will ignore the C and l1_ratio parameters\n",
      "  warnings.warn(\n",
      "/Users/janjacob/anaconda3/lib/python3.10/site-packages/sklearn/linear_model/_logistic.py:1181: UserWarning: Setting penalty=None will ignore the C and l1_ratio parameters\n",
      "  warnings.warn(\n",
      "/Users/janjacob/anaconda3/lib/python3.10/site-packages/sklearn/linear_model/_logistic.py:1181: UserWarning: Setting penalty=None will ignore the C and l1_ratio parameters\n",
      "  warnings.warn(\n",
      "/Users/janjacob/anaconda3/lib/python3.10/site-packages/sklearn/linear_model/_logistic.py:1181: UserWarning: Setting penalty=None will ignore the C and l1_ratio parameters\n",
      "  warnings.warn(\n",
      "/Users/janjacob/anaconda3/lib/python3.10/site-packages/sklearn/linear_model/_logistic.py:1181: UserWarning: Setting penalty=None will ignore the C and l1_ratio parameters\n",
      "  warnings.warn(\n",
      "/Users/janjacob/anaconda3/lib/python3.10/site-packages/sklearn/linear_model/_logistic.py:1181: UserWarning: Setting penalty=None will ignore the C and l1_ratio parameters\n",
      "  warnings.warn(\n",
      "/Users/janjacob/anaconda3/lib/python3.10/site-packages/sklearn/linear_model/_logistic.py:1181: UserWarning: Setting penalty=None will ignore the C and l1_ratio parameters\n",
      "  warnings.warn(\n",
      "/Users/janjacob/anaconda3/lib/python3.10/site-packages/sklearn/linear_model/_logistic.py:1181: UserWarning: Setting penalty=None will ignore the C and l1_ratio parameters\n",
      "  warnings.warn(\n",
      "/Users/janjacob/anaconda3/lib/python3.10/site-packages/sklearn/linear_model/_logistic.py:1181: UserWarning: Setting penalty=None will ignore the C and l1_ratio parameters\n",
      "  warnings.warn(\n",
      "/Users/janjacob/anaconda3/lib/python3.10/site-packages/sklearn/linear_model/_logistic.py:1181: UserWarning: Setting penalty=None will ignore the C and l1_ratio parameters\n",
      "  warnings.warn(\n",
      "/Users/janjacob/anaconda3/lib/python3.10/site-packages/sklearn/linear_model/_logistic.py:1181: UserWarning: Setting penalty=None will ignore the C and l1_ratio parameters\n",
      "  warnings.warn(\n",
      "/Users/janjacob/anaconda3/lib/python3.10/site-packages/sklearn/linear_model/_logistic.py:1181: UserWarning: Setting penalty=None will ignore the C and l1_ratio parameters\n",
      "  warnings.warn(\n",
      "/Users/janjacob/anaconda3/lib/python3.10/site-packages/sklearn/linear_model/_logistic.py:1181: UserWarning: Setting penalty=None will ignore the C and l1_ratio parameters\n",
      "  warnings.warn(\n",
      "/Users/janjacob/anaconda3/lib/python3.10/site-packages/sklearn/linear_model/_logistic.py:1181: UserWarning: Setting penalty=None will ignore the C and l1_ratio parameters\n",
      "  warnings.warn(\n",
      "/Users/janjacob/anaconda3/lib/python3.10/site-packages/sklearn/linear_model/_logistic.py:1181: UserWarning: Setting penalty=None will ignore the C and l1_ratio parameters\n",
      "  warnings.warn(\n",
      "/Users/janjacob/anaconda3/lib/python3.10/site-packages/sklearn/linear_model/_logistic.py:1181: UserWarning: Setting penalty=None will ignore the C and l1_ratio parameters\n",
      "  warnings.warn(\n",
      "/Users/janjacob/anaconda3/lib/python3.10/site-packages/sklearn/linear_model/_logistic.py:1181: UserWarning: Setting penalty=None will ignore the C and l1_ratio parameters\n",
      "  warnings.warn(\n",
      "/Users/janjacob/anaconda3/lib/python3.10/site-packages/sklearn/linear_model/_logistic.py:1181: UserWarning: Setting penalty=None will ignore the C and l1_ratio parameters\n",
      "  warnings.warn(\n",
      "/Users/janjacob/anaconda3/lib/python3.10/site-packages/sklearn/linear_model/_logistic.py:1181: UserWarning: Setting penalty=None will ignore the C and l1_ratio parameters\n",
      "  warnings.warn(\n",
      "/Users/janjacob/anaconda3/lib/python3.10/site-packages/sklearn/linear_model/_logistic.py:1181: UserWarning: Setting penalty=None will ignore the C and l1_ratio parameters\n",
      "  warnings.warn(\n",
      "/Users/janjacob/anaconda3/lib/python3.10/site-packages/sklearn/linear_model/_logistic.py:1181: UserWarning: Setting penalty=None will ignore the C and l1_ratio parameters\n",
      "  warnings.warn(\n"
     ]
    },
    {
     "name": "stderr",
     "output_type": "stream",
     "text": [
      "/Users/janjacob/anaconda3/lib/python3.10/site-packages/sklearn/linear_model/_logistic.py:1181: UserWarning: Setting penalty=None will ignore the C and l1_ratio parameters\n",
      "  warnings.warn(\n",
      "/Users/janjacob/anaconda3/lib/python3.10/site-packages/sklearn/linear_model/_logistic.py:1181: UserWarning: Setting penalty=None will ignore the C and l1_ratio parameters\n",
      "  warnings.warn(\n",
      "/Users/janjacob/anaconda3/lib/python3.10/site-packages/sklearn/linear_model/_logistic.py:1181: UserWarning: Setting penalty=None will ignore the C and l1_ratio parameters\n",
      "  warnings.warn(\n",
      "/Users/janjacob/anaconda3/lib/python3.10/site-packages/sklearn/linear_model/_logistic.py:1181: UserWarning: Setting penalty=None will ignore the C and l1_ratio parameters\n",
      "  warnings.warn(\n",
      "/Users/janjacob/anaconda3/lib/python3.10/site-packages/sklearn/linear_model/_logistic.py:1181: UserWarning: Setting penalty=None will ignore the C and l1_ratio parameters\n",
      "  warnings.warn(\n",
      "/Users/janjacob/anaconda3/lib/python3.10/site-packages/sklearn/linear_model/_logistic.py:1181: UserWarning: Setting penalty=None will ignore the C and l1_ratio parameters\n",
      "  warnings.warn(\n",
      "/Users/janjacob/anaconda3/lib/python3.10/site-packages/sklearn/linear_model/_logistic.py:1181: UserWarning: Setting penalty=None will ignore the C and l1_ratio parameters\n",
      "  warnings.warn(\n",
      "/Users/janjacob/anaconda3/lib/python3.10/site-packages/sklearn/linear_model/_logistic.py:1181: UserWarning: Setting penalty=None will ignore the C and l1_ratio parameters\n",
      "  warnings.warn(\n",
      "/Users/janjacob/anaconda3/lib/python3.10/site-packages/sklearn/linear_model/_logistic.py:1181: UserWarning: Setting penalty=None will ignore the C and l1_ratio parameters\n",
      "  warnings.warn(\n",
      "/Users/janjacob/anaconda3/lib/python3.10/site-packages/sklearn/linear_model/_logistic.py:1181: UserWarning: Setting penalty=None will ignore the C and l1_ratio parameters\n",
      "  warnings.warn(\n",
      "/Users/janjacob/anaconda3/lib/python3.10/site-packages/sklearn/linear_model/_logistic.py:1181: UserWarning: Setting penalty=None will ignore the C and l1_ratio parameters\n",
      "  warnings.warn(\n"
     ]
    },
    {
     "name": "stdout",
     "output_type": "stream",
     "text": [
      "Best: 0.749208 using {'C': 0.1, 'dual': False, 'fit_intercept': False, 'penalty': None, 'tol': 0.1}\n"
     ]
    },
    {
     "name": "stderr",
     "output_type": "stream",
     "text": [
      "/Users/janjacob/anaconda3/lib/python3.10/site-packages/sklearn/linear_model/_logistic.py:1181: UserWarning: Setting penalty=None will ignore the C and l1_ratio parameters\n",
      "  warnings.warn(\n",
      "/Users/janjacob/anaconda3/lib/python3.10/site-packages/sklearn/linear_model/_logistic.py:1181: UserWarning: Setting penalty=None will ignore the C and l1_ratio parameters\n",
      "  warnings.warn(\n"
     ]
    }
   ],
   "source": [
    "params_logreg = {'penalty': [None, 'l1', 'l2'],\n",
    "                 'dual': [True, False],\n",
    "                 'tol': [1, .1, .01, .001],\n",
    "                 'C': [.1, 1, 10, 100],\n",
    "                 'fit_intercept': [True, False]\n",
    "                 }\n",
    "\n",
    "grid_logreg = GridSearchCV(LogisticRegression(), param_grid = params_logreg, n_jobs = -1, cv = 5)\n",
    "grid_logreg = grid_logreg.fit(X_train, y_train)\n",
    "print(\"Best: %f using %s\" % (grid_logreg.best_score_, grid_logreg.best_params_))"
   ]
  },
  {
   "cell_type": "code",
   "execution_count": null,
   "id": "39e6c61f",
   "metadata": {},
   "outputs": [],
   "source": []
  }
 ],
 "metadata": {
  "kernelspec": {
   "display_name": "Python 3 (ipykernel)",
   "language": "python",
   "name": "python3"
  },
  "language_info": {
   "codemirror_mode": {
    "name": "ipython",
    "version": 3
   },
   "file_extension": ".py",
   "mimetype": "text/x-python",
   "name": "python",
   "nbconvert_exporter": "python",
   "pygments_lexer": "ipython3",
   "version": "3.10.9"
  }
 },
 "nbformat": 4,
 "nbformat_minor": 5
}
