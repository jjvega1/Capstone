{
 "cells": [
  {
   "cell_type": "markdown",
   "id": "971d456a",
   "metadata": {},
   "source": [
    "# Choosing the Best Model"
   ]
  },
  {
   "cell_type": "markdown",
   "id": "825400a1",
   "metadata": {},
   "source": [
    "In the previous step, we looked at an attempt to predict the 2017 Tournament and examined the SVC model. Here, we will use the most recent year, 2023 to do our model experimentation. Because of that, we will use a more extensive [dataset folder](https://www.kaggle.com/competitions/march-machine-learning-mania-2023/data)."
   ]
  },
  {
   "cell_type": "markdown",
   "id": "b41789be",
   "metadata": {},
   "source": [
    "## Data Preparation and Feature Selection"
   ]
  },
  {
   "cell_type": "markdown",
   "id": "18a6ec83",
   "metadata": {},
   "source": [
    "We mill mainly use code from the 2017 [example from before](https://github.com/adeshpande3/March-Madness-2017) and adjust it to 2023."
   ]
  },
  {
   "cell_type": "code",
   "execution_count": 934,
   "id": "e4d10028",
   "metadata": {},
   "outputs": [],
   "source": [
    "import pandas as pd\n",
    "import numpy as np\n",
    "import collections"
   ]
  },
  {
   "cell_type": "code",
   "execution_count": 935,
   "id": "b2bccc28",
   "metadata": {},
   "outputs": [],
   "source": [
    "# Regular Season Results since 1985 (Only includes who won and the points)\n",
    "reg_season_compact_pd = pd.read_csv('Data/MRegularSeasonCompactResults.csv') \\\n",
    "\n",
    "# Regular Season Results since 2003 but includes useful stats like Rebounds, Assists, etc.\n",
    "reg_season_detailed_pd = pd.read_csv('Data/MRegularSeasonDetailedResults.csv')\n",
    "\n",
    "# List of teams who are/was in Division I along with their ID\n",
    "teams_pd = pd.read_csv('Data/MTeams.csv')\n",
    "\n",
    "# Like the first two DataFrames but for the tournament\n",
    "tourney_compact_pd = pd.read_csv('Data/MNCAATourneyCompactResults.csv')\n",
    "tourney_detailed_pd = pd.read_csv('Data/MNCAATourneyDetailedResults.csv')\n",
    "\n",
    "# The Conference Tourney Detailed Results since 2003\n",
    "conference_tourney_results_pd = pd.read_csv('Data/MConferenceTourneyGames.csv')\n",
    "\n",
    "# List of Teams along with their Conferences and ID per Year\n",
    "conferences_pd = pd.read_csv('Data/MTeamConferences.csv')\n",
    "\n",
    "# Seeds \n",
    "seeds_pd = pd.read_csv('Data/MNCAATourneySeeds.csv')\n",
    "\n",
    "# List of Conference Tourney Winners since 2001\n",
    "l = []\n",
    "for i in range(len(conference_tourney_results_pd) - 1):\n",
    "    if conference_tourney_results_pd.iloc[i, 1] != conference_tourney_results_pd.iloc[i + 1, 1]:\n",
    "        season = conference_tourney_results_pd.iloc[i, 0]\n",
    "        conference = conference_tourney_results_pd.iloc[i, 1]\n",
    "        winner = conference_tourney_results_pd.iloc[i, 3]\n",
    "        l.append({'Season': season, 'Conference': conference, 'Winner': winner})\n",
    "        \n",
    "conference_tourney_winners_pd = pd.DataFrame(l)"
   ]
  },
  {
   "cell_type": "markdown",
   "id": "35d92263",
   "metadata": {},
   "source": [
    "We will unfortunately not use a lot of the features presented last time, but we will use the following:\n",
    "\n",
    "- Regular Season Wins\n",
    "- Points per game season average\n",
    "- Points per game allowed season average\n",
    "- Whether or not in Power 6 conference (ACC, Big Ten, Big 12, SEC, Pac 12, Big East) - Binary label\n",
    "- Number of 3's per game\n",
    "- Turnovers per game average\n",
    "- Assists per game average\n",
    "- Conference Tournament Championship - binary label\n",
    "- Tournament Seed\n",
    "- Rebounds per game average\n",
    "- Steals per game average\n",
    "- Number of NCAA appearances since 1985"
   ]
  },
  {
   "cell_type": "code",
   "execution_count": 937,
   "id": "49122ee7",
   "metadata": {},
   "outputs": [
    {
     "name": "stdout",
     "output_type": "stream",
     "text": [
      "ID for Baylor is 1124\n",
      "The team with ID 1124 is Baylor\n"
     ]
    }
   ],
   "source": [
    "# Get ID given Name\n",
    "def getTeamID(name):\n",
    "    return teams_pd[teams_pd['TeamName'] == name].values[0][0]\n",
    "\n",
    "# Get Name given ID\n",
    "def getTeamName(team_id):\n",
    "    return teams_pd[teams_pd['TeamID'] == team_id].values[0][1]\n",
    "\n",
    "print(\"ID for Baylor is\", getTeamID(\"Baylor\"))\n",
    "print(\"The team with ID 1124 is\", getTeamName(1124))"
   ]
  },
  {
   "cell_type": "code",
   "execution_count": 942,
   "id": "29b70c71",
   "metadata": {},
   "outputs": [
    {
     "name": "stdout",
     "output_type": "stream",
     "text": [
      "In 2022, Baylor won 26 games.\n",
      "They averaged 76.5 points per game.\n",
      "While holding opponents to 63.62 points per game.\n"
     ]
    }
   ],
   "source": [
    "# How many wins did a Team win in a given Season\n",
    "def getRegSeasonWins(team_id, year):\n",
    "    c1 = reg_season_compact_pd['WTeamID'] == team_id\n",
    "    c2 = reg_season_compact_pd['Season'] == year\n",
    "    return len(reg_season_compact_pd[c1 & c2])\n",
    "\n",
    "# What was a team's Points per Game in a given Season\n",
    "def getPPG(team_id, year):\n",
    "    ppg = 0\n",
    "    c1 = reg_season_compact_pd['WTeamID'] == team_id\n",
    "    c2 = reg_season_compact_pd['Season'] == year\n",
    "    c3 = reg_season_compact_pd['LTeamID'] == team_id\n",
    "    gamesWon = reg_season_compact_pd[c1 & c2]\n",
    "    ppg = gamesWon['WScore'].sum()\n",
    "    gamesLost = reg_season_compact_pd[c2 & c3]\n",
    "    ppg += gamesLost['LScore'].sum()\n",
    "    total_games = len(gamesWon) + len(gamesLost)\n",
    "    ppg /= total_games\n",
    "    return round(ppg, 2)\n",
    "\n",
    "# In a given season, how many points did a given team give up per game\n",
    "def getOPPG(team_id, year):\n",
    "    oppg = 0\n",
    "    c1 = reg_season_compact_pd['WTeamID'] == team_id\n",
    "    c2 = reg_season_compact_pd['Season'] == year\n",
    "    c3 = reg_season_compact_pd['LTeamID'] == team_id\n",
    "    gamesWon = reg_season_compact_pd[c1 & c2]\n",
    "    oppg = gamesWon['LScore'].sum()\n",
    "    gamesLost = reg_season_compact_pd[c2 & c3]\n",
    "    oppg += gamesLost['WScore'].sum()\n",
    "    total_games = len(gamesWon) + len(gamesLost)\n",
    "    oppg /= total_games\n",
    "    return round(oppg, 2)\n",
    "\n",
    "baylor_id = getTeamID(\"Baylor\")\n",
    "print(\"In 2022, Baylor won\", getRegSeasonWins(baylor_id, 2022), \"games.\")\n",
    "print(\"They averaged\", getPPG(baylor_id, 2022), \"points per game.\")\n",
    "print(\"While holding opponents to\", getOPPG(baylor_id, 2022), \"points per game.\")"
   ]
  },
  {
   "cell_type": "code",
   "execution_count": 944,
   "id": "2cca12a7",
   "metadata": {},
   "outputs": [
    {
     "name": "stdout",
     "output_type": "stream",
     "text": [
      "BYU is NOT in a Power 6 conference.\n",
      "Duke is in a Power 6 conference.\n"
     ]
    }
   ],
   "source": [
    "# Hardcoded the divisions as of 2022\n",
    "ACC = [1181, 1314, 1323, 1274, 1448, 1438, 1439, 1199, 1393, 1155, 1257, 1130, 1338, 1210, 1301]\n",
    "Big12 = [1242, 1124, 1403, 1400, 1395, 1329, 1235, 1328, 1243, 1452]\n",
    "BigEast = [1437, 1344, 1163, 1166, 1371, 1266, 1462, 1385, 1177, 1139, 1207]\n",
    "Big10 = [1458, 1228, 1345, 1234, 1326, 1353, 1276, 1277, 1321, 1231, 1268, 1336, 1278, 1304]\n",
    "Pac12 = [1112, 1113, 1417, 1425, 1160, 1450, 1449, 1332, 1333, 1143, 1390, 1428]\n",
    "SEC = [1120, 1397, 1246, 1116, 1401, 1261, 1196, 1376, 1104, 1280, 1435, 1281, 1279, 1208]\n",
    "\n",
    "# Quick function to check if a team's ID is in these lists\n",
    "def getPower6(team_id):\n",
    "    if team_id in ACC or team_id in Big12 or team_id in BigEast or team_id in Big10 or team_id in Pac12 or team_id in SEC:\n",
    "        return 1\n",
    "    else:\n",
    "        return 0\n",
    "\n",
    "if getPower6(getTeamID(\"BYU\")):\n",
    "    print(\"BYU is in a Power 6 conference.\")\n",
    "else:\n",
    "    print(\"BYU is NOT in a Power 6 conference.\")\n",
    "    \n",
    "if getPower6(getTeamID(\"Duke\")):\n",
    "    print(\"Duke is in a Power 6 conference.\")\n",
    "else:\n",
    "    print(\"Duke is NOT in a Power 6 conference.\")"
   ]
  },
  {
   "cell_type": "code",
   "execution_count": 945,
   "id": "6c9f55f1",
   "metadata": {},
   "outputs": [
    {
     "name": "stdout",
     "output_type": "stream",
     "text": [
      "In 2009, ETSU averaged 5.94 threes per game.\n",
      "While committing 14.0 turnovers per game.\n"
     ]
    }
   ],
   "source": [
    "# How many three's did a team make per game in a given season\n",
    "def get3PT(team_id, year):\n",
    "    if year < 2003:\n",
    "        return 0\n",
    "    threes = 0\n",
    "    c1 = reg_season_detailed_pd['WTeamID'] == team_id\n",
    "    c2 = reg_season_detailed_pd['Season'] == year\n",
    "    c3 = reg_season_detailed_pd['LTeamID'] == team_id\n",
    "    gamesWon = reg_season_detailed_pd[c1 & c2]\n",
    "    threes = gamesWon['WFGM3'].sum()\n",
    "    gamesLost = reg_season_detailed_pd[c2 & c3]\n",
    "    threes += gamesLost['LFGM3'].sum()\n",
    "    total_games = len(gamesWon) + len(gamesLost)\n",
    "    threes /= total_games\n",
    "    return round(threes, 2)\n",
    "\n",
    "# How many turnovers did a team make per game in a given season\n",
    "def getTO(team_id, year):\n",
    "    if year < 2003:\n",
    "        return 0\n",
    "    to = 0\n",
    "    c1 = reg_season_detailed_pd['WTeamID'] == team_id\n",
    "    c2 = reg_season_detailed_pd['Season'] == year\n",
    "    c3 = reg_season_detailed_pd['LTeamID'] == team_id\n",
    "    gamesWon = reg_season_detailed_pd[c1 & c2]\n",
    "    to = gamesWon['WTO'].sum()\n",
    "    gamesLost = reg_season_detailed_pd[c2 & c3]\n",
    "    to += gamesLost['LTO'].sum()\n",
    "    total_games = len(gamesWon) + len(gamesLost)\n",
    "    to /= total_games\n",
    "    return round(to, 2)\n",
    "\n",
    "ETSU_id = getTeamID(\"ETSU\")\n",
    "print(\"In 2009, ETSU averaged\", get3PT(ETSU_id, 2009), \"threes per game.\")\n",
    "print(\"While committing\", getTO(ETSU_id, 2009), \"turnovers per game.\")"
   ]
  },
  {
   "cell_type": "code",
   "execution_count": 946,
   "id": "dda01e09",
   "metadata": {},
   "outputs": [],
   "source": [
    "# How many Assists did a team make per game\n",
    "def getAST(team_id, year):\n",
    "    if year < 2003:\n",
    "        return 0\n",
    "    ast = 0\n",
    "    c1 = reg_season_detailed_pd['WTeamID'] == team_id\n",
    "    c2 = reg_season_detailed_pd['Season'] == year\n",
    "    c3 = reg_season_detailed_pd['LTeamID'] == team_id\n",
    "    gamesWon = reg_season_detailed_pd[c1 & c2]\n",
    "    ast = gamesWon['WAst'].sum()\n",
    "    gamesLost = reg_season_detailed_pd[c2 & c3]\n",
    "    ast += gamesLost['LAst'].sum()\n",
    "    total_games = len(gamesWon) + len(gamesLost)\n",
    "    ast /= total_games\n",
    "    return round(ast, 2)\n",
    "\n",
    "# Determine if a team was the conference champion in their division in a given year\n",
    "def getTourneyConferenceChampion(team_id, year):\n",
    "    if year < 2001:\n",
    "        return 0\n",
    "    conf = getConference(team_id, year)\n",
    "    c1 = conference_tourney_winners_pd['Season'] == year\n",
    "    c2 = conference_tourney_winners_pd['Conference'] == conf\n",
    "    if len(conference_tourney_winners_pd[c1 & c2]) == 0:\n",
    "        return 0\n",
    "    if team_id == conference_tourney_winners_pd[c1 & c2]['Winner'].values[0]:\n",
    "        return 1\n",
    "    else:\n",
    "        return 0"
   ]
  },
  {
   "cell_type": "code",
   "execution_count": null,
   "id": "564df47f",
   "metadata": {},
   "outputs": [],
   "source": [
    "# Easy way to get a team's conference in a given year\n",
    "def getConference(team_id, year):\n",
    "    c1 = conferences_pd['TeamID'] == team_id\n",
    "    c2 = conferences_pd['Season'] == year\n",
    "    c3 = conferences_pd[c1 & c2]\n",
    "    if len(c3) == 0:\n",
    "        return conferences_pd[c1].values[0][2]\n",
    "    return c3['ConfAbbrev'].values[0]\n",
    "\n",
    "# Get the seed of the team in a given year\n",
    "def getSeed(team_id, year):\n",
    "    c1 = seeds_pd['TeamID'] == team_id\n",
    "    c2 = seeds_pd['Season'] == year\n",
    "    if len(seeds_pd[c1 & c2]) == 0:\n",
    "        return 0\n",
    "    return int(seeds_pd[c1 & c2]['Seed'].values[0][1:3])\n",
    "\n",
    "# Get rebounds per game in a given year\n",
    "def getRPG(team_id, year):\n",
    "    if year < 2003:\n",
    "        return 0\n",
    "    reb = 0\n",
    "    c1 = reg_season_detailed_pd['WTeamID'] == team_id\n",
    "    c2 = reg_season_detailed_pd['Season'] == year\n",
    "    c3 = reg_season_detailed_pd['LTeamID'] == team_id\n",
    "    gamesWon = reg_season_detailed_pd[c1 & c2]\n",
    "    reb = gamesWon['WOR'].sum()\n",
    "    reb += gamesWon['WDR'].sum()\n",
    "    gamesLost = reg_season_detailed_pd[c2 & c3]\n",
    "    reb += gamesLost['LOR'].sum()\n",
    "    reb += gamesLost['LDR'].sum()\n",
    "    total_games = len(gamesWon) + len(gamesLost)\n",
    "    reb /= total_games\n",
    "    return round(reb, 2)"
   ]
  },
  {
   "cell_type": "code",
   "execution_count": 947,
   "id": "5a3b7ac8",
   "metadata": {},
   "outputs": [],
   "source": [
    "# Steals per game\n",
    "def getSTL(team_id, year):\n",
    "    if year < 2003:\n",
    "        return 0\n",
    "    stl = 0\n",
    "    c1 = reg_season_detailed_pd['WTeamID'] == team_id\n",
    "    c2 = reg_season_detailed_pd['Season'] == year\n",
    "    c3 = reg_season_detailed_pd['LTeamID'] == team_id\n",
    "    gamesWon = reg_season_detailed_pd[c1 & c2]\n",
    "    stl = gamesWon['WStl'].sum()\n",
    "    gamesLost = reg_season_detailed_pd[c2 & c3]\n",
    "    stl += gamesLost['LStl'].sum()\n",
    "    total_games = len(gamesWon) + len(gamesLost)\n",
    "    stl /= total_games\n",
    "    return round(stl, 2)\n",
    "\n",
    "# How many times did a team appear in the tournament as of 2022\n",
    "def getNumOfAppearances(team_id):\n",
    "    return len(seeds_pd[seeds_pd['TeamID'] == team_id])\n",
    "\n",
    "# Helper function for below\n",
    "def getHomeStat(row):\n",
    "    if (row == 'H'):\n",
    "        home = 1\n",
    "    if (row == 'A'):\n",
    "        home = -1\n",
    "    if (row == 'N'):\n",
    "        home = 0\n",
    "    return home"
   ]
  },
  {
   "cell_type": "code",
   "execution_count": 948,
   "id": "ea05eeff",
   "metadata": {},
   "outputs": [
    {
     "data": {
      "text/plain": [
       "[15, 68.86, 68.25, 0, 5.93, 12.0, 13.04, 0, 0, 32.82, 7.04, 0]"
      ]
     },
     "execution_count": 948,
     "metadata": {},
     "output_type": "execute_result"
    }
   ],
   "source": [
    "# Build the vector\n",
    "def getSeasonData(team_id, year):\n",
    "    # Check first if the team was Division 1 at the time\n",
    "    c1 = teams_pd[teams_pd['TeamID'] == team_id]['FirstD1Season'].values[0] <= year\n",
    "    c2 = teams_pd[teams_pd['TeamID'] == team_id]['LastD1Season'].values[0] >= year\n",
    "    if ~c1 or ~c2:\n",
    "        return []\n",
    "    return [getRegSeasonWins(team_id, year),\n",
    "            getPPG(team_id, year),\n",
    "            getOPPG(team_id, year),\n",
    "            getPower6(team_id),\n",
    "            get3PT(team_id, year),\n",
    "            getTO(team_id, year),\n",
    "            getAST(team_id, year),\n",
    "            getTourneyConferenceChampion(team_id, year),\n",
    "            getSeed(team_id, year),\n",
    "            getRPG(team_id, year),\n",
    "            getSTL(team_id, year),\n",
    "            getNumOfAppearances(team_id)]\n",
    "\n",
    "# Build vectors for every team in a given season\n",
    "def createSeasonDict(year):\n",
    "    seasonDictionary = collections.defaultdict(list)\n",
    "    for team in teams_pd['TeamName'].tolist():\n",
    "        team_id = teams_pd[teams_pd['TeamName'] == team].values[0][0]\n",
    "        team_vector = getSeasonData(team_id, year)\n",
    "        seasonDictionary[team_id] = team_vector\n",
    "    return seasonDictionary\n",
    "\n",
    "# Below is the season data for Toledo in 2013\n",
    "getSeasonData(1405, 2013)"
   ]
  },
  {
   "cell_type": "code",
   "execution_count": 949,
   "id": "4186c4d6",
   "metadata": {},
   "outputs": [],
   "source": [
    "# Basically run the function directly above this one on a set of years\n",
    "def createTrainingSet(years):\n",
    "    totalNumGames = 0\n",
    "    for year in years:\n",
    "        season = reg_season_compact_pd[reg_season_compact_pd['Season'] == year]\n",
    "        totalNumGames += len(season.index)\n",
    "        tourney = tourney_compact_pd[tourney_compact_pd['Season'] == year]\n",
    "        totalNumGames += len(tourney.index)\n",
    "    numFeatures = len(getSeasonData(1181,2012)) #Just choosing a random team and seeing the dimensionality of the vector\n",
    "    xTrain = np.zeros(( totalNumGames, numFeatures + 1))\n",
    "    yTrain = np.zeros(( totalNumGames ))\n",
    "    indexCounter = 0\n",
    "    for year in years:\n",
    "        team_vectors = createSeasonDict(year)\n",
    "        season = reg_season_compact_pd[reg_season_compact_pd['Season'] == year]\n",
    "        numGamesInSeason = len(season.index)\n",
    "        tourney = tourney_compact_pd[tourney_compact_pd['Season'] == year]\n",
    "        numGamesInSeason += len(tourney.index)\n",
    "        xTrainSeason = np.zeros(( numGamesInSeason, numFeatures + 1))\n",
    "        yTrainSeason = np.zeros(( numGamesInSeason ))\n",
    "        counter = 0\n",
    "        for index, row in season.iterrows():\n",
    "            w_team = row['WTeamID']\n",
    "            w_vector = team_vectors[w_team]\n",
    "            l_team = row['LTeamID']\n",
    "            l_vector = team_vectors[l_team]\n",
    "            diff = [a - b for a, b in zip(w_vector, l_vector)]\n",
    "            home = getHomeStat(row['WLoc'])\n",
    "            if (counter % 2 == 0):\n",
    "                diff.append(home) \n",
    "                xTrainSeason[counter] = diff\n",
    "                yTrainSeason[counter] = 1\n",
    "            else:\n",
    "                diff.append(-home)\n",
    "                xTrainSeason[counter] = [ -p for p in diff]\n",
    "                yTrainSeason[counter] = 0\n",
    "            counter += 1\n",
    "        for index, row in tourney.iterrows():\n",
    "            w_team = row['WTeamID']\n",
    "            w_vector = team_vectors[w_team]\n",
    "            l_team = row['LTeamID']\n",
    "            l_vector = team_vectors[l_team]\n",
    "            diff = [a - b for a, b in zip(w_vector, l_vector)]\n",
    "            home = 0 #All tournament games are neutral\n",
    "            if (counter % 2 == 0):\n",
    "                diff.append(home) \n",
    "                xTrainSeason[counter] = diff\n",
    "                yTrainSeason[counter] = 1\n",
    "            else:\n",
    "                diff.append(-home)\n",
    "                xTrainSeason[counter] = [ -p for p in diff]\n",
    "                yTrainSeason[counter] = 0\n",
    "            counter += 1\n",
    "        xTrain[indexCounter:numGamesInSeason+indexCounter] = xTrainSeason\n",
    "        yTrain[indexCounter:numGamesInSeason+indexCounter] = yTrainSeason\n",
    "        indexCounter += numGamesInSeason\n",
    "    return xTrain, yTrain"
   ]
  },
  {
   "cell_type": "markdown",
   "id": "ba58a01a",
   "metadata": {},
   "source": [
    "We will not use the entire dataset since we will be using lots of models, and that will be time consuming trying to fit those models (*cough* SVC *cough*). But we should still get a very good idea on how these models will fare for the newer data, and it should translate well historically. In Step 9 when we scale our dataset, we will use the entire dataset, but for now, we will use the previous year. "
   ]
  },
  {
   "cell_type": "code",
   "execution_count": 950,
   "id": "b22ef3db",
   "metadata": {},
   "outputs": [],
   "source": [
    "# This will take a while\n",
    "x_data, y_data = createTrainingSet([2022])\n",
    "np.save('x_dataset', x_data)\n",
    "np.save('y_dataset', y_data)"
   ]
  },
  {
   "cell_type": "code",
   "execution_count": 952,
   "id": "19d19488",
   "metadata": {},
   "outputs": [
    {
     "data": {
      "text/plain": [
       "(5412, 13)"
      ]
     },
     "execution_count": 952,
     "metadata": {},
     "output_type": "execute_result"
    }
   ],
   "source": [
    "# Load it so we do not have to run it the above cell again\n",
    "xTrain = np.load('x_dataset.npy')\n",
    "yTrain = np.load('y_dataset.npy')\n",
    "xTrain.shape"
   ]
  },
  {
   "cell_type": "markdown",
   "id": "23802b14",
   "metadata": {},
   "source": [
    "## Testing Various Models"
   ]
  },
  {
   "cell_type": "markdown",
   "id": "23af60b7",
   "metadata": {},
   "source": [
    "Now we enter the point where we look into the various classification models in depth. We well all do hyperparamter tuning on them via `GridSearchCV()` to give everyone a fair shot. Finally, they will be put to the test to see who can predict the first round of the 2022 tournament the best."
   ]
  },
  {
   "cell_type": "code",
   "execution_count": 953,
   "id": "63534686",
   "metadata": {},
   "outputs": [],
   "source": [
    "from sklearn.model_selection import train_test_split\n",
    "from sklearn.metrics import classification_report\n",
    "from sklearn.model_selection import GridSearchCV\n",
    "\n",
    "X_train, X_test, y_train, y_test = train_test_split(xTrain, yTrain, test_size = .3, random_state = 942)\n",
    "\n",
    "# We will store the model, training accuracy, and the tournament accuracy here\n",
    "results = []"
   ]
  },
  {
   "cell_type": "code",
   "execution_count": 954,
   "id": "a9256f44",
   "metadata": {},
   "outputs": [
    {
     "data": {
      "text/html": [
       "<div>\n",
       "<style scoped>\n",
       "    .dataframe tbody tr th:only-of-type {\n",
       "        vertical-align: middle;\n",
       "    }\n",
       "\n",
       "    .dataframe tbody tr th {\n",
       "        vertical-align: top;\n",
       "    }\n",
       "\n",
       "    .dataframe thead th {\n",
       "        text-align: right;\n",
       "    }\n",
       "</style>\n",
       "<table border=\"1\" class=\"dataframe\">\n",
       "  <thead>\n",
       "    <tr style=\"text-align: right;\">\n",
       "      <th></th>\n",
       "      <th>WTeamID</th>\n",
       "      <th>LTeamID</th>\n",
       "    </tr>\n",
       "  </thead>\n",
       "  <tbody>\n",
       "    <tr>\n",
       "      <th>0</th>\n",
       "      <td>1116</td>\n",
       "      <td>1436</td>\n",
       "    </tr>\n",
       "    <tr>\n",
       "      <th>1</th>\n",
       "      <td>1124</td>\n",
       "      <td>1313</td>\n",
       "    </tr>\n",
       "    <tr>\n",
       "      <th>2</th>\n",
       "      <td>1166</td>\n",
       "      <td>1361</td>\n",
       "    </tr>\n",
       "    <tr>\n",
       "      <th>3</th>\n",
       "      <td>1211</td>\n",
       "      <td>1209</td>\n",
       "    </tr>\n",
       "    <tr>\n",
       "      <th>4</th>\n",
       "      <td>1242</td>\n",
       "      <td>1411</td>\n",
       "    </tr>\n",
       "  </tbody>\n",
       "</table>\n",
       "</div>"
      ],
      "text/plain": [
       "   WTeamID  LTeamID\n",
       "0     1116     1436\n",
       "1     1124     1313\n",
       "2     1166     1361\n",
       "3     1211     1209\n",
       "4     1242     1411"
      ]
     },
     "execution_count": 954,
     "metadata": {},
     "output_type": "execute_result"
    }
   ],
   "source": [
    "# Making the list of First Round Games\n",
    "c1 = tourney_detailed_pd['DayNum'] == 136\n",
    "c2 = tourney_detailed_pd['DayNum'] == 137\n",
    "c3 = tourney_detailed_pd['Season'] == 2022\n",
    "first_round_2022_pd = tourney_detailed_pd[(c1 | c2) & c3]\n",
    "\n",
    "d = {'WTeamID': first_round_2022_pd['WTeamID'].tolist(),\n",
    "     'LTeamID': first_round_2022_pd['LTeamID'].tolist()\n",
    "    }\n",
    "\n",
    "first_round_2022_prediction_pd = pd.DataFrame(d)\n",
    "first_round_2022_prediction_pd.head()"
   ]
  },
  {
   "cell_type": "code",
   "execution_count": 955,
   "id": "a6697120",
   "metadata": {},
   "outputs": [],
   "source": [
    "# Functions to predict probability that Team 1 wins given both teams and the model\n",
    "def predictOutcome(w_data, l_data, model):\n",
    "    diff = [a - b for a, b in zip(w_data, l_data)]\n",
    "    diff.append(0)\n",
    "    return model.predict_proba([diff])[0]"
   ]
  },
  {
   "cell_type": "markdown",
   "id": "d9e5263a",
   "metadata": {},
   "source": [
    "Furthermore, we will examine 5 games to help us choose our model for the next step. They are:\n",
    "\n",
    "1) (1)Gonzaga vs. (16)Georgia St. where Gonzaga won pretty handily. (1211 vs. 1209)\n",
    "2) (4)UCLA vs. (13)Akron where UCLA just barely survives. (1417 vs. 1103)\n",
    "3) (8)North Carolina vs. (9)Marquette where North Carolina just completely dominates (1314 vs. 1266)\n",
    "4) (11)Notre Dame vs. (6)Alabama where Notre Dame easily denies the Crimson Tide (1323 vs. 1104)\n",
    "5) (15)St. Peter's vs. (2)Kentucky where St. Peter's pulls off the greatest upset this round. (1389 vs. 1246)"
   ]
  },
  {
   "cell_type": "markdown",
   "id": "71d4c45a",
   "metadata": {},
   "source": [
    "### SVC"
   ]
  },
  {
   "cell_type": "code",
   "execution_count": 956,
   "id": "02db0042",
   "metadata": {},
   "outputs": [],
   "source": [
    "from sklearn.svm import SVC"
   ]
  },
  {
   "cell_type": "markdown",
   "id": "5fb9ff6b",
   "metadata": {},
   "source": [
    "According to the research paper from last step, the Linear SVC gave the best accuracy. Let us see how it stands the test of time. Unfortunately, this will take a while to run, and afterwards doing some hyperparamter tuning... pass."
   ]
  },
  {
   "cell_type": "markdown",
   "id": "934771a2",
   "metadata": {},
   "source": [
    "#### Linear SVC"
   ]
  },
  {
   "cell_type": "code",
   "execution_count": 957,
   "id": "7d7d139d",
   "metadata": {},
   "outputs": [
    {
     "name": "stdout",
     "output_type": "stream",
     "text": [
      "              precision    recall  f1-score   support\n",
      "\n",
      "         0.0       0.73      0.76      0.74       791\n",
      "         1.0       0.76      0.73      0.74       833\n",
      "\n",
      "    accuracy                           0.74      1624\n",
      "   macro avg       0.74      0.74      0.74      1624\n",
      "weighted avg       0.74      0.74      0.74      1624\n",
      "\n"
     ]
    },
    {
     "data": {
      "text/plain": [
       "0.742"
      ]
     },
     "execution_count": 957,
     "metadata": {},
     "output_type": "execute_result"
    }
   ],
   "source": [
    "# Step 1: Build the model and examine accuracy score\n",
    "model_SVC_linear = SVC(kernel = 'linear')\n",
    "model_SVC_linear = model_SVC_linear.fit(X_train, y_train)\n",
    "y_pred_SVC_linear = model_SVC_linear.predict(X_test)\n",
    "\n",
    "print(classification_report(y_test, y_pred_SVC_linear))\n",
    "model_SVC_accuracy_linear = accuracy_score(y_test, y_pred_SVC_linear)\n",
    "model_SVC_accuracy_linear = round(model_SVC_accuracy_linear, 4)\n",
    "\n",
    "# We will store this later\n",
    "model_SVC_accuracy_linear"
   ]
  },
  {
   "cell_type": "code",
   "execution_count": 958,
   "id": "6b1e1309",
   "metadata": {},
   "outputs": [],
   "source": [
    "# Step 2: Create list of probabilities that Team 1 would win\n",
    "\n",
    "# First copy the dataframe made earlier\n",
    "model_SVC_linear_prediction_pd = first_round_2022_prediction_pd.copy()\n",
    "\n",
    "probabilities = []\n",
    "\n",
    "# We will use these for the SVC models only\n",
    "from sklearn.calibration import CalibratedClassifierCV\n",
    "cc_linear = CalibratedClassifierCV(model_SVC_linear)\n",
    "cc_linear.fit(X_train, y_train)\n",
    "\n",
    "for i in range(len(model_SVC_linear_prediction_pd)):\n",
    "    w_team = model_SVC_linear_prediction_pd.iloc[i, 0]\n",
    "    l_team = model_SVC_linear_prediction_pd.iloc[i, 1]\n",
    "    w_data = getSeasonData(w_team, 2022)\n",
    "    l_data = getSeasonData(l_team, 2022)\n",
    "    prob = predictOutcome(w_data, l_data, cc_linear)\n",
    "    probabilities.append(prob)"
   ]
  },
  {
   "cell_type": "code",
   "execution_count": 961,
   "id": "bd41bc25",
   "metadata": {},
   "outputs": [
    {
     "data": {
      "text/plain": [
       "count    32.000000\n",
       "mean      0.674535\n",
       "std       0.272790\n",
       "min       0.034972\n",
       "25%       0.506967\n",
       "50%       0.727449\n",
       "75%       0.919946\n",
       "max       0.978470\n",
       "Name: Linear_SVC_Probabilities, dtype: float64"
      ]
     },
     "execution_count": 961,
     "metadata": {},
     "output_type": "execute_result"
    }
   ],
   "source": [
    "# Step 3: Add them to the copied dataframe and examine it\n",
    "probabilites = np.array(probabilities)\n",
    "model_SVC_linear_prediction_pd['Linear_SVC_Probabilities'] = probabilites[:, 1]\n",
    "model_SVC_linear_prediction_pd['Linear_SVC_Probabilities'].describe()"
   ]
  },
  {
   "cell_type": "code",
   "execution_count": 962,
   "id": "6379386e",
   "metadata": {},
   "outputs": [
    {
     "data": {
      "image/png": "[encoded data removed]",
      "text/plain": [
       "<Figure size 640x480 with 1 Axes>"
      ]
     },
     "metadata": {},
     "output_type": "display_data"
    },
    {
     "name": "stdout",
     "output_type": "stream",
     "text": [
      "Accuracy for Predicting Round 1 is: 0.75\n"
     ]
    }
   ],
   "source": [
    "# Step 4: Plot the distribution\n",
    "import matplotlib.pyplot as plt\n",
    "%matplotlib inline\n",
    "\n",
    "model_SVC_linear_prediction_pd['Linear_SVC_Probabilities'].hist(bins = 10)\n",
    "plt.xlabel(\"Probabilities\")\n",
    "plt.ylabel(\"Frequency\")\n",
    "plt.title(\"Distribution of Probabilities\")\n",
    "plt.show()\n",
    "model_SVC_accuracy_linear_tournament = len(model_SVC_linear_prediction_pd[model_SVC_linear_prediction_pd['Linear_SVC_Probabilities'] >= .5]) / 32\n",
    "print(\"Accuracy for Predicting Round 1 is:\", model_SVC_accuracy_linear_tournament)"
   ]
  },
  {
   "cell_type": "code",
   "execution_count": 731,
   "id": "e301ea74",
   "metadata": {},
   "outputs": [
    {
     "name": "stdout",
     "output_type": "stream",
     "text": [
      "Gonzaga vs. Georgia St. Prediction: 0.9256836804285434\n",
      "UCLA vs. Akron Prediction: 0.9180336819628374\n",
      "North Carolina vs. Marquette: 0.733227431912017\n",
      "Notre Dame vs. Alabama: 0.6255782369476646\n",
      "St. Peter's vs. Kentucky: 0.03497230919533634\n"
     ]
    }
   ],
   "source": [
    "# Step 5: Examine the selected games\n",
    "print(\"Gonzaga vs. Georgia St. Prediction:\", model_SVC_linear_prediction_pd.iloc[3, 2])\n",
    "print(\"UCLA vs. Akron Prediction:\", model_SVC_linear_prediction_pd.iloc[15, 2])\n",
    "print(\"North Carolina vs. Marquette:\", model_SVC_linear_prediction_pd.iloc[9, 2])\n",
    "print(\"Notre Dame vs. Alabama:\", model_SVC_linear_prediction_pd.iloc[24, 2])\n",
    "print(\"St. Peter's vs. Kentucky:\", model_SVC_linear_prediction_pd.iloc[13, 2])"
   ]
  },
  {
   "cell_type": "code",
   "execution_count": 963,
   "id": "f378b0a2",
   "metadata": {},
   "outputs": [],
   "source": [
    "# Step 6: Add to results and make conclusions.\n",
    "results.append({'Name': 'Linear_SVC',\n",
    "                'Training_Acc': model_SVC_accuracy_linear,\n",
    "                'Tournament_Acc': model_SVC_accuracy_linear_tournament\n",
    "               })"
   ]
  },
  {
   "cell_type": "markdown",
   "id": "5c1807d8",
   "metadata": {},
   "source": [
    "It seems like the Linear SVC displayed a 74.2% accuracy on the training data. But when it came to the Tournament data, it scored a benchmark 75% accuracy. The lowest accuracy recorded was 3.497% which came from St. Peter's vs. Kentucky. The model also correctly predicted the 4 games shown just above including the upset by Notre Dame. All in all, if it were not for the runtime of SVC's we would go with them 100%."
   ]
  },
  {
   "cell_type": "markdown",
   "id": "b684c007",
   "metadata": {},
   "source": [
    "#### Radial"
   ]
  },
  {
   "cell_type": "code",
   "execution_count": 964,
   "id": "130b8dec",
   "metadata": {},
   "outputs": [
    {
     "name": "stdout",
     "output_type": "stream",
     "text": [
      "              precision    recall  f1-score   support\n",
      "\n",
      "         0.0       0.73      0.76      0.75       791\n",
      "         1.0       0.76      0.73      0.75       833\n",
      "\n",
      "    accuracy                           0.75      1624\n",
      "   macro avg       0.75      0.75      0.75      1624\n",
      "weighted avg       0.75      0.75      0.75      1624\n",
      "\n"
     ]
    },
    {
     "data": {
      "text/plain": [
       "0.7451"
      ]
     },
     "execution_count": 964,
     "metadata": {},
     "output_type": "execute_result"
    }
   ],
   "source": [
    "model_SVC_rbf = SVC(kernel = 'rbf')\n",
    "model_SVC_rbf = model_SVC_rbf.fit(X_train, y_train)\n",
    "y_pred_SVC_rbf = model_SVC_rbf.predict(X_test)\n",
    "\n",
    "print(classification_report(y_test, y_pred_SVC_rbf))\n",
    "model_SVC_accuracy_rbf = accuracy_score(y_test, y_pred_SVC_rbf)\n",
    "model_SVC_accuracy_rbf = round(model_SVC_accuracy_rbf, 4)\n",
    "model_SVC_accuracy_rbf"
   ]
  },
  {
   "cell_type": "code",
   "execution_count": 965,
   "id": "4ec8f8cb",
   "metadata": {},
   "outputs": [],
   "source": [
    "model_SVC_rbf_prediction_pd = first_round_2022_prediction_pd.copy()\n",
    "\n",
    "probabilities = []\n",
    "\n",
    "cc_rbf = CalibratedClassifierCV(model_SVC_rbf)\n",
    "cc_rbf.fit(X_train, y_train)\n",
    "\n",
    "for i in range(len(model_SVC_rbf_prediction_pd)):\n",
    "    w_team = model_SVC_rbf_prediction_pd.iloc[i, 0]\n",
    "    l_team = model_SVC_rbf_prediction_pd.iloc[i, 1]\n",
    "    w_data = getSeasonData(w_team, 2022)\n",
    "    l_data = getSeasonData(l_team, 2022)\n",
    "    prob = predictOutcome(w_data, l_data, cc_rbf)\n",
    "    probabilities.append(prob)"
   ]
  },
  {
   "cell_type": "code",
   "execution_count": 966,
   "id": "81476254",
   "metadata": {},
   "outputs": [
    {
     "data": {
      "text/plain": [
       "count    32.000000\n",
       "mean      0.631059\n",
       "std       0.203303\n",
       "min       0.202225\n",
       "25%       0.422035\n",
       "50%       0.736533\n",
       "75%       0.791780\n",
       "max       0.873147\n",
       "Name: Radial_SVC_Probabilities, dtype: float64"
      ]
     },
     "execution_count": 966,
     "metadata": {},
     "output_type": "execute_result"
    }
   ],
   "source": [
    "probabilites = np.array(probabilities)\n",
    "model_SVC_rbf_prediction_pd['Radial_SVC_Probabilities'] = probabilites[:, 1]\n",
    "model_SVC_rbf_prediction_pd['Radial_SVC_Probabilities'].describe()"
   ]
  },
  {
   "cell_type": "code",
   "execution_count": 967,
   "id": "7b0c15df",
   "metadata": {},
   "outputs": [
    {
     "data": {
      "image/png": "[encoded data removed]",
      "text/plain": [
       "<Figure size 640x480 with 1 Axes>"
      ]
     },
     "metadata": {},
     "output_type": "display_data"
    },
    {
     "name": "stdout",
     "output_type": "stream",
     "text": [
      "Accuracy for Predicting Round 1 is: 0.6875\n"
     ]
    }
   ],
   "source": [
    "model_SVC_rbf_prediction_pd['Radial_SVC_Probabilities'].hist(bins = 10)\n",
    "plt.xlabel(\"Probabilities\")\n",
    "plt.ylabel(\"Frequency\")\n",
    "plt.title(\"Distribution of Probabilities\")\n",
    "plt.show()\n",
    "model_SVC_accuracy_rbf_tournament = len(model_SVC_rbf_prediction_pd[model_SVC_rbf_prediction_pd['Radial_SVC_Probabilities'] >= .5]) / 32\n",
    "print(\"Accuracy for Predicting Round 1 is:\", model_SVC_accuracy_rbf_tournament)"
   ]
  },
  {
   "cell_type": "code",
   "execution_count": 968,
   "id": "50467b04",
   "metadata": {},
   "outputs": [
    {
     "name": "stdout",
     "output_type": "stream",
     "text": [
      "Gonzaga vs. Georgia St. Prediction: 0.7357289541652939\n",
      "UCLA vs. Akron Prediction: 0.8206063842196869\n",
      "North Carolina vs. Marquette: 0.805882675989535\n",
      "Notre Dame vs. Alabama: 0.7428491064723785\n",
      "St. Peter's vs. Kentucky: 0.3236485942620432\n"
     ]
    }
   ],
   "source": [
    "print(\"Gonzaga vs. Georgia St. Prediction:\", model_SVC_rbf_prediction_pd.iloc[3, 2])\n",
    "print(\"UCLA vs. Akron Prediction:\", model_SVC_rbf_prediction_pd.iloc[15, 2])\n",
    "print(\"North Carolina vs. Marquette:\", model_SVC_rbf_prediction_pd.iloc[9, 2])\n",
    "print(\"Notre Dame vs. Alabama:\", model_SVC_rbf_prediction_pd.iloc[24, 2])\n",
    "print(\"St. Peter's vs. Kentucky:\", model_SVC_rbf_prediction_pd.iloc[13, 2])"
   ]
  },
  {
   "cell_type": "code",
   "execution_count": 969,
   "id": "d3b8a188",
   "metadata": {},
   "outputs": [],
   "source": [
    "results.append({'Name': 'Radial_SVC',\n",
    "                'Training_Acc': model_SVC_accuracy_rbf, \n",
    "                'Tournament_Acc': model_SVC_accuracy_rbf_tournament\n",
    "               })"
   ]
  },
  {
   "cell_type": "markdown",
   "id": "d392f4ab",
   "metadata": {},
   "source": [
    "Despite having a slightly higher training accuracy than its linear counterpart, it did very poorly on predicting the tournament with a 68.75% accuracy. The most suprising thing, however is that it gave St. Peter's a 32.36% chance to beat Kentucky. Although we will not use this model, it was still a very good effort."
   ]
  },
  {
   "cell_type": "markdown",
   "id": "d3e92de1",
   "metadata": {},
   "source": [
    "#### Varying Degree "
   ]
  },
  {
   "cell_type": "code",
   "execution_count": 970,
   "id": "3a012a0d",
   "metadata": {},
   "outputs": [
    {
     "name": "stdout",
     "output_type": "stream",
     "text": [
      "Best: 0.738912 using {'degree': 3}\n"
     ]
    }
   ],
   "source": [
    "from sklearn.model_selection import GridSearchCV\n",
    "\n",
    "param_grid_SVC_poly = {'degree': [0, 2, 3, 4]}\n",
    "grid_SVC_poly = GridSearchCV(SVC(kernel = 'poly'), param_grid = param_grid_SVC_poly, cv = 3, n_jobs = -1)\n",
    "grid_SVC_poly = grid_SVC_poly.fit(X_train, y_train)\n",
    "print(\"Best: %f using %s\" % (grid_SVC_poly.best_score_, grid_SVC_poly.best_params_))"
   ]
  },
  {
   "cell_type": "code",
   "execution_count": 971,
   "id": "4ebb2e93",
   "metadata": {},
   "outputs": [
    {
     "name": "stdout",
     "output_type": "stream",
     "text": [
      "              precision    recall  f1-score   support\n",
      "\n",
      "         0.0       0.73      0.77      0.75       791\n",
      "         1.0       0.77      0.73      0.75       833\n",
      "\n",
      "    accuracy                           0.75      1624\n",
      "   macro avg       0.75      0.75      0.75      1624\n",
      "weighted avg       0.75      0.75      0.75      1624\n",
      "\n"
     ]
    },
    {
     "data": {
      "text/plain": [
       "0.7451"
      ]
     },
     "execution_count": 971,
     "metadata": {},
     "output_type": "execute_result"
    }
   ],
   "source": [
    "model_SVC_deg3 = SVC(kernel = 'poly', degree = 3)\n",
    "model_SVC_deg3 = model_SVC_deg3.fit(X_train, y_train)\n",
    "y_pred_SVC_deg3 = model_SVC_deg3.predict(X_test)\n",
    "\n",
    "print(classification_report(y_test, y_pred_SVC_deg3))\n",
    "model_SVC_accuracy_deg3 = accuracy_score(y_test, y_pred_SVC_deg3)\n",
    "model_SVC_accuracy_deg3 = round(model_SVC_accuracy_rbf, 4)\n",
    "model_SVC_accuracy_deg3"
   ]
  },
  {
   "cell_type": "code",
   "execution_count": 972,
   "id": "6ff3aa07",
   "metadata": {},
   "outputs": [],
   "source": [
    "model_SVC_deg3_prediction_pd = first_round_2022_prediction_pd.copy()\n",
    "\n",
    "probabilities = []\n",
    "\n",
    "cc_deg3 = CalibratedClassifierCV(model_SVC_deg3)\n",
    "cc_deg3.fit(X_train, y_train)\n",
    "\n",
    "for i in range(len(model_SVC_deg3_prediction_pd)):\n",
    "    w_team = model_SVC_deg3_prediction_pd.iloc[i, 0]\n",
    "    l_team = model_SVC_deg3_prediction_pd.iloc[i, 1]\n",
    "    w_data = getSeasonData(w_team, 2022)\n",
    "    l_data = getSeasonData(l_team, 2022)\n",
    "    prob = predictOutcome(w_data, l_data, cc_deg3)\n",
    "    probabilities.append(prob)"
   ]
  },
  {
   "cell_type": "code",
   "execution_count": 973,
   "id": "9d38f398",
   "metadata": {},
   "outputs": [
    {
     "data": {
      "text/plain": [
       "count    32.000000\n",
       "mean      0.664924\n",
       "std       0.236200\n",
       "min       0.099157\n",
       "25%       0.457032\n",
       "50%       0.659261\n",
       "75%       0.875955\n",
       "max       0.998751\n",
       "Name: Degree3_SVC_Probabilites, dtype: float64"
      ]
     },
     "execution_count": 973,
     "metadata": {},
     "output_type": "execute_result"
    }
   ],
   "source": [
    "probabilites = np.array(probabilities)\n",
    "model_SVC_deg3_prediction_pd['Degree3_SVC_Probabilities'] = probabilites[:, 1]\n",
    "model_SVC_deg3_prediction_pd['Degree3_SVC_Probabilities'].describe()"
   ]
  },
  {
   "cell_type": "code",
   "execution_count": 753,
   "id": "9b507074",
   "metadata": {},
   "outputs": [
    {
     "data": {
      "image/png": "[encoded data removed]",
      "text/plain": [
       "<Figure size 640x480 with 1 Axes>"
      ]
     },
     "metadata": {},
     "output_type": "display_data"
    },
    {
     "name": "stdout",
     "output_type": "stream",
     "text": [
      "Accuracy for Predicting Round 1 is: 0.6875\n"
     ]
    }
   ],
   "source": [
    "model_SVC_deg3_prediction_pd['Degree3_SVC_Probabilities'].hist(bins = 10)\n",
    "plt.xlabel(\"Probabilities\")\n",
    "plt.ylabel(\"Frequency\")\n",
    "plt.title(\"Distribution of Probabilities\")\n",
    "plt.show()\n",
    "model_SVC_accuracy_deg3_tournament = len(model_SVC_deg3_prediction_pd[model_SVC_deg3_prediction_pd['Degree3_SVC_Probabilities'] >= .5]) / 32\n",
    "print(\"Accuracy for Predicting Round 1 is:\", model_SVC_accuracy_deg3_tournament)"
   ]
  },
  {
   "cell_type": "code",
   "execution_count": 974,
   "id": "f99c074b",
   "metadata": {},
   "outputs": [
    {
     "name": "stdout",
     "output_type": "stream",
     "text": [
      "Gonzaga vs. Georgia St. Prediction: 0.9925521548604805\n",
      "UCLA vs. Akron Prediction: 0.8673933876868498\n",
      "North Carolina vs. Marquette: 0.6300594400193097\n",
      "Notre Dame vs. Alabama: 0.6599729313302045\n",
      "St. Peter's vs. Kentucky: 0.09915663921182566\n"
     ]
    }
   ],
   "source": [
    "print(\"Gonzaga vs. Georgia St. Prediction:\", model_SVC_deg3_prediction_pd.iloc[3, 2])\n",
    "print(\"UCLA vs. Akron Prediction:\", model_SVC_deg3_prediction_pd.iloc[15, 2])\n",
    "print(\"North Carolina vs. Marquette:\", model_SVC_deg3_prediction_pd.iloc[9, 2])\n",
    "print(\"Notre Dame vs. Alabama:\", model_SVC_deg3_prediction_pd.iloc[24, 2])\n",
    "print(\"St. Peter's vs. Kentucky:\", model_SVC_deg3_prediction_pd.iloc[13, 2])"
   ]
  },
  {
   "cell_type": "code",
   "execution_count": 975,
   "id": "a433642e",
   "metadata": {},
   "outputs": [],
   "source": [
    "results.append({'Name': 'Degree3_SVC',\n",
    "                'Training_Acc': model_SVC_accuracy_deg3, \n",
    "                'Tournament_Acc': model_SVC_accuracy_deg3_tournament\n",
    "               })"
   ]
  },
  {
   "cell_type": "markdown",
   "id": "239e0661",
   "metadata": {},
   "source": [
    "Like the Radial Kernel, it boasts a respectful training accuracy, but has the same tournament accuracy. Like the linear kernel, it did not expect St. Peter's to upset while also predicting with very high chances that UCLA would win. "
   ]
  },
  {
   "cell_type": "markdown",
   "id": "0475ff3b",
   "metadata": {},
   "source": [
    "### Logistic Regression"
   ]
  },
  {
   "cell_type": "code",
   "execution_count": 976,
   "id": "a62402ba",
   "metadata": {},
   "outputs": [],
   "source": [
    "from sklearn.linear_model import LogisticRegression"
   ]
  },
  {
   "cell_type": "markdown",
   "id": "b08a2237",
   "metadata": {},
   "source": [
    "Unlike SVC, `GridSearchCV` will not take forever."
   ]
  },
  {
   "cell_type": "markdown",
   "id": "e5aaed32",
   "metadata": {},
   "source": [
    "#### Default Parameters"
   ]
  },
  {
   "cell_type": "code",
   "execution_count": 761,
   "id": "04b08b8a",
   "metadata": {},
   "outputs": [
    {
     "name": "stdout",
     "output_type": "stream",
     "text": [
      "              precision    recall  f1-score   support\n",
      "\n",
      "         0.0       0.74      0.75      0.75       791\n",
      "         1.0       0.76      0.74      0.75       833\n",
      "\n",
      "    accuracy                           0.75      1624\n",
      "   macro avg       0.75      0.75      0.75      1624\n",
      "weighted avg       0.75      0.75      0.75      1624\n",
      "\n"
     ]
    },
    {
     "data": {
      "text/plain": [
       "0.7487684729064039"
      ]
     },
     "execution_count": 761,
     "metadata": {},
     "output_type": "execute_result"
    }
   ],
   "source": [
    "model_logreg = LogisticRegression()\n",
    "model_logreg = model_logreg.fit(X_train, y_train)\n",
    "y_pred_logreg = model_logreg.predict(X_test)\n",
    "\n",
    "print(classification_report(y_test, y_pred_logreg))\n",
    "model_logreg_accuracy = accuracy_score(y_test, y_pred_logreg)\n",
    "model_logreg_accuracy"
   ]
  },
  {
   "cell_type": "code",
   "execution_count": 977,
   "id": "a7388949",
   "metadata": {},
   "outputs": [],
   "source": [
    "model_logreg_prediction_pd = first_round_2022_prediction_pd.copy()\n",
    "\n",
    "probabilities = []\n",
    "\n",
    "for i in range(len(model_logreg_prediction_pd)):\n",
    "    w_team = model_logreg_prediction_pd.iloc[i, 0]\n",
    "    l_team = model_logreg_prediction_pd.iloc[i, 1]\n",
    "    w_data = getSeasonData(w_team, 2022)\n",
    "    l_data = getSeasonData(l_team, 2022)\n",
    "    prob = predictOutcome(w_data, l_data, model_logreg)\n",
    "    probabilities.append(prob)"
   ]
  },
  {
   "cell_type": "code",
   "execution_count": 981,
   "id": "706e21cb",
   "metadata": {},
   "outputs": [
    {
     "data": {
      "text/plain": [
       "count    32.000000\n",
       "mean      0.681566\n",
       "std       0.280324\n",
       "min       0.029835\n",
       "25%       0.514691\n",
       "50%       0.745162\n",
       "75%       0.929867\n",
       "max       0.984415\n",
       "Name: LogReg_Probabilities, dtype: float64"
      ]
     },
     "execution_count": 981,
     "metadata": {},
     "output_type": "execute_result"
    }
   ],
   "source": [
    "probabilites = np.array(probabilities)\n",
    "model_logreg_prediction_pd['LogReg_Probabilities'] = probabilites[:, 1]\n",
    "model_logreg_prediction_pd['LogReg_Probabilities'].describe()"
   ]
  },
  {
   "cell_type": "code",
   "execution_count": 982,
   "id": "73c2270f",
   "metadata": {},
   "outputs": [
    {
     "data": {
      "image/png": "[encoded data removed]",
      "text/plain": [
       "<Figure size 640x480 with 1 Axes>"
      ]
     },
     "metadata": {},
     "output_type": "display_data"
    },
    {
     "name": "stdout",
     "output_type": "stream",
     "text": [
      "Accuracy for Predicting Round 1 is: 0.75\n"
     ]
    }
   ],
   "source": [
    "model_logreg_prediction_pd['LogReg_Probabilities'].hist(bins = 10)\n",
    "plt.xlabel(\"Probabilities\")\n",
    "plt.ylabel(\"Frequency\")\n",
    "plt.title(\"Distribution of Probabilities\")\n",
    "plt.show()\n",
    "model_logreg_accuracy_tournament = len(model_logreg_prediction_pd[model_logreg_prediction_pd['LogReg_Probabilities'] >= .5]) / 32\n",
    "print(\"Accuracy for Predicting Round 1 is:\", model_logreg_accuracy_tournament)"
   ]
  },
  {
   "cell_type": "code",
   "execution_count": 983,
   "id": "5f289998",
   "metadata": {},
   "outputs": [
    {
     "name": "stdout",
     "output_type": "stream",
     "text": [
      "Gonzaga vs. Georgia St. Prediction: 0.9329235137432769\n",
      "UCLA vs. Akron Prediction: 0.9287667111082085\n",
      "North Carolina vs. Marquette: 0.7444060270444116\n",
      "Notre Dame vs. Alabama: 0.6150840267777412\n",
      "St. Peter's vs. Kentucky: 0.029834833500692888\n"
     ]
    }
   ],
   "source": [
    "print(\"Gonzaga vs. Georgia St. Prediction:\", model_logreg_prediction_pd.iloc[3, 2])\n",
    "print(\"UCLA vs. Akron Prediction:\", model_logreg_prediction_pd.iloc[15, 2])\n",
    "print(\"North Carolina vs. Marquette:\", model_logreg_prediction_pd.iloc[9, 2])\n",
    "print(\"Notre Dame vs. Alabama:\", model_logreg_prediction_pd.iloc[24, 2])\n",
    "print(\"St. Peter's vs. Kentucky:\", model_logreg_prediction_pd.iloc[13, 2])"
   ]
  },
  {
   "cell_type": "code",
   "execution_count": 984,
   "id": "61ac9f98",
   "metadata": {},
   "outputs": [],
   "source": [
    "results.append({'Name': 'Logistic_Regression',\n",
    "                'Training_Acc': model_logreg_accuracy, \n",
    "                'Tournament_Acc': model_logreg_accuracy_tournament\n",
    "               })"
   ]
  },
  {
   "cell_type": "markdown",
   "id": "0743fd7f",
   "metadata": {},
   "source": [
    "The histogram shown above is very similar to the radial kernel, but once again fails to predict St. Peter's winning with a measly 3% percent. However, it did predict a 75% accuracy rate in the tournament data with a lot of 90% confidence probabilities. Maybe Logistic Regression is too confident in their picks."
   ]
  },
  {
   "cell_type": "markdown",
   "id": "17a52e1e",
   "metadata": {},
   "source": [
    "#### Hyperparameter Tuned"
   ]
  },
  {
   "cell_type": "code",
   "execution_count": 985,
   "id": "40dc815d",
   "metadata": {},
   "outputs": [
    {
     "name": "stderr",
     "output_type": "stream",
     "text": [
      "/Users/janjacob/anaconda3/lib/python3.10/site-packages/sklearn/linear_model/_logistic.py:1181: UserWarning: Setting penalty=None will ignore the C and l1_ratio parameters\n",
      "  warnings.warn(\n",
      "/Users/janjacob/anaconda3/lib/python3.10/site-packages/sklearn/linear_model/_logistic.py:1181: UserWarning: Setting penalty=None will ignore the C and l1_ratio parameters\n",
      "  warnings.warn(\n",
      "/Users/janjacob/anaconda3/lib/python3.10/site-packages/sklearn/linear_model/_logistic.py:1181: UserWarning: Setting penalty=None will ignore the C and l1_ratio parameters\n",
      "  warnings.warn(\n",
      "/Users/janjacob/anaconda3/lib/python3.10/site-packages/sklearn/linear_model/_logistic.py:1181: UserWarning: Setting penalty=None will ignore the C and l1_ratio parameters\n",
      "  warnings.warn(\n",
      "/Users/janjacob/anaconda3/lib/python3.10/site-packages/sklearn/linear_model/_logistic.py:1181: UserWarning: Setting penalty=None will ignore the C and l1_ratio parameters\n",
      "  warnings.warn(\n",
      "/Users/janjacob/anaconda3/lib/python3.10/site-packages/sklearn/linear_model/_logistic.py:1181: UserWarning: Setting penalty=None will ignore the C and l1_ratio parameters\n",
      "  warnings.warn(\n",
      "/Users/janjacob/anaconda3/lib/python3.10/site-packages/sklearn/linear_model/_logistic.py:1181: UserWarning: Setting penalty=None will ignore the C and l1_ratio parameters\n",
      "  warnings.warn(\n",
      "/Users/janjacob/anaconda3/lib/python3.10/site-packages/sklearn/linear_model/_logistic.py:1181: UserWarning: Setting penalty=None will ignore the C and l1_ratio parameters\n",
      "  warnings.warn(\n",
      "/Users/janjacob/anaconda3/lib/python3.10/site-packages/sklearn/linear_model/_logistic.py:1181: UserWarning: Setting penalty=None will ignore the C and l1_ratio parameters\n",
      "  warnings.warn(\n",
      "/Users/janjacob/anaconda3/lib/python3.10/site-packages/sklearn/linear_model/_logistic.py:1181: UserWarning: Setting penalty=None will ignore the C and l1_ratio parameters\n",
      "  warnings.warn(\n",
      "/Users/janjacob/anaconda3/lib/python3.10/site-packages/sklearn/linear_model/_logistic.py:1181: UserWarning: Setting penalty=None will ignore the C and l1_ratio parameters\n",
      "  warnings.warn(\n",
      "/Users/janjacob/anaconda3/lib/python3.10/site-packages/sklearn/linear_model/_logistic.py:1181: UserWarning: Setting penalty=None will ignore the C and l1_ratio parameters\n",
      "  warnings.warn(\n",
      "/Users/janjacob/anaconda3/lib/python3.10/site-packages/sklearn/linear_model/_logistic.py:1181: UserWarning: Setting penalty=None will ignore the C and l1_ratio parameters\n",
      "  warnings.warn(\n",
      "/Users/janjacob/anaconda3/lib/python3.10/site-packages/sklearn/linear_model/_logistic.py:1181: UserWarning: Setting penalty=None will ignore the C and l1_ratio parameters\n",
      "  warnings.warn(\n",
      "/Users/janjacob/anaconda3/lib/python3.10/site-packages/sklearn/linear_model/_logistic.py:1181: UserWarning: Setting penalty=None will ignore the C and l1_ratio parameters\n",
      "  warnings.warn(\n",
      "/Users/janjacob/anaconda3/lib/python3.10/site-packages/sklearn/linear_model/_logistic.py:1181: UserWarning: Setting penalty=None will ignore the C and l1_ratio parameters\n",
      "  warnings.warn(\n",
      "/Users/janjacob/anaconda3/lib/python3.10/site-packages/sklearn/linear_model/_logistic.py:1181: UserWarning: Setting penalty=None will ignore the C and l1_ratio parameters\n",
      "  warnings.warn(\n",
      "/Users/janjacob/anaconda3/lib/python3.10/site-packages/sklearn/linear_model/_logistic.py:1181: UserWarning: Setting penalty=None will ignore the C and l1_ratio parameters\n",
      "  warnings.warn(\n",
      "/Users/janjacob/anaconda3/lib/python3.10/site-packages/sklearn/linear_model/_logistic.py:1181: UserWarning: Setting penalty=None will ignore the C and l1_ratio parameters\n",
      "  warnings.warn(\n",
      "/Users/janjacob/anaconda3/lib/python3.10/site-packages/sklearn/linear_model/_logistic.py:1181: UserWarning: Setting penalty=None will ignore the C and l1_ratio parameters\n",
      "  warnings.warn(\n",
      "/Users/janjacob/anaconda3/lib/python3.10/site-packages/sklearn/linear_model/_logistic.py:1181: UserWarning: Setting penalty=None will ignore the C and l1_ratio parameters\n",
      "  warnings.warn(\n",
      "/Users/janjacob/anaconda3/lib/python3.10/site-packages/sklearn/linear_model/_logistic.py:1181: UserWarning: Setting penalty=None will ignore the C and l1_ratio parameters\n",
      "  warnings.warn(\n",
      "/Users/janjacob/anaconda3/lib/python3.10/site-packages/sklearn/linear_model/_logistic.py:1181: UserWarning: Setting penalty=None will ignore the C and l1_ratio parameters\n",
      "  warnings.warn(\n",
      "/Users/janjacob/anaconda3/lib/python3.10/site-packages/sklearn/linear_model/_logistic.py:1181: UserWarning: Setting penalty=None will ignore the C and l1_ratio parameters\n",
      "  warnings.warn(\n",
      "/Users/janjacob/anaconda3/lib/python3.10/site-packages/sklearn/linear_model/_logistic.py:1181: UserWarning: Setting penalty=None will ignore the C and l1_ratio parameters\n",
      "  warnings.warn(\n",
      "/Users/janjacob/anaconda3/lib/python3.10/site-packages/sklearn/linear_model/_logistic.py:1181: UserWarning: Setting penalty=None will ignore the C and l1_ratio parameters\n",
      "  warnings.warn(\n",
      "/Users/janjacob/anaconda3/lib/python3.10/site-packages/sklearn/linear_model/_logistic.py:1181: UserWarning: Setting penalty=None will ignore the C and l1_ratio parameters\n",
      "  warnings.warn(\n",
      "/Users/janjacob/anaconda3/lib/python3.10/site-packages/sklearn/linear_model/_logistic.py:1181: UserWarning: Setting penalty=None will ignore the C and l1_ratio parameters\n",
      "  warnings.warn(\n",
      "/Users/janjacob/anaconda3/lib/python3.10/site-packages/sklearn/linear_model/_logistic.py:1181: UserWarning: Setting penalty=None will ignore the C and l1_ratio parameters\n",
      "  warnings.warn(\n",
      "/Users/janjacob/anaconda3/lib/python3.10/site-packages/sklearn/linear_model/_logistic.py:1181: UserWarning: Setting penalty=None will ignore the C and l1_ratio parameters\n",
      "  warnings.warn(\n",
      "/Users/janjacob/anaconda3/lib/python3.10/site-packages/sklearn/linear_model/_logistic.py:1181: UserWarning: Setting penalty=None will ignore the C and l1_ratio parameters\n",
      "  warnings.warn(\n",
      "/Users/janjacob/anaconda3/lib/python3.10/site-packages/sklearn/linear_model/_logistic.py:1181: UserWarning: Setting penalty=None will ignore the C and l1_ratio parameters\n",
      "  warnings.warn(\n",
      "/Users/janjacob/anaconda3/lib/python3.10/site-packages/sklearn/linear_model/_logistic.py:1181: UserWarning: Setting penalty=None will ignore the C and l1_ratio parameters\n",
      "  warnings.warn(\n",
      "/Users/janjacob/anaconda3/lib/python3.10/site-packages/sklearn/linear_model/_logistic.py:1181: UserWarning: Setting penalty=None will ignore the C and l1_ratio parameters\n",
      "  warnings.warn(\n",
      "/Users/janjacob/anaconda3/lib/python3.10/site-packages/sklearn/linear_model/_logistic.py:1181: UserWarning: Setting penalty=None will ignore the C and l1_ratio parameters\n",
      "  warnings.warn(\n",
      "/Users/janjacob/anaconda3/lib/python3.10/site-packages/sklearn/linear_model/_logistic.py:1181: UserWarning: Setting penalty=None will ignore the C and l1_ratio parameters\n",
      "  warnings.warn(\n",
      "/Users/janjacob/anaconda3/lib/python3.10/site-packages/sklearn/linear_model/_logistic.py:1181: UserWarning: Setting penalty=None will ignore the C and l1_ratio parameters\n",
      "  warnings.warn(\n",
      "/Users/janjacob/anaconda3/lib/python3.10/site-packages/sklearn/linear_model/_logistic.py:1181: UserWarning: Setting penalty=None will ignore the C and l1_ratio parameters\n",
      "  warnings.warn(\n",
      "/Users/janjacob/anaconda3/lib/python3.10/site-packages/sklearn/linear_model/_logistic.py:1181: UserWarning: Setting penalty=None will ignore the C and l1_ratio parameters\n",
      "  warnings.warn(\n",
      "/Users/janjacob/anaconda3/lib/python3.10/site-packages/sklearn/linear_model/_logistic.py:1181: UserWarning: Setting penalty=None will ignore the C and l1_ratio parameters\n",
      "  warnings.warn(\n",
      "/Users/janjacob/anaconda3/lib/python3.10/site-packages/sklearn/linear_model/_logistic.py:1181: UserWarning: Setting penalty=None will ignore the C and l1_ratio parameters\n",
      "  warnings.warn(\n",
      "/Users/janjacob/anaconda3/lib/python3.10/site-packages/sklearn/linear_model/_logistic.py:1181: UserWarning: Setting penalty=None will ignore the C and l1_ratio parameters\n",
      "  warnings.warn(\n",
      "/Users/janjacob/anaconda3/lib/python3.10/site-packages/sklearn/linear_model/_logistic.py:1181: UserWarning: Setting penalty=None will ignore the C and l1_ratio parameters\n",
      "  warnings.warn(\n",
      "/Users/janjacob/anaconda3/lib/python3.10/site-packages/sklearn/linear_model/_logistic.py:1181: UserWarning: Setting penalty=None will ignore the C and l1_ratio parameters\n",
      "  warnings.warn(\n",
      "/Users/janjacob/anaconda3/lib/python3.10/site-packages/sklearn/linear_model/_logistic.py:1181: UserWarning: Setting penalty=None will ignore the C and l1_ratio parameters\n",
      "  warnings.warn(\n",
      "/Users/janjacob/anaconda3/lib/python3.10/site-packages/sklearn/linear_model/_logistic.py:1181: UserWarning: Setting penalty=None will ignore the C and l1_ratio parameters\n",
      "  warnings.warn(\n",
      "/Users/janjacob/anaconda3/lib/python3.10/site-packages/sklearn/linear_model/_logistic.py:1181: UserWarning: Setting penalty=None will ignore the C and l1_ratio parameters\n",
      "  warnings.warn(\n",
      "/Users/janjacob/anaconda3/lib/python3.10/site-packages/sklearn/linear_model/_logistic.py:1181: UserWarning: Setting penalty=None will ignore the C and l1_ratio parameters\n",
      "  warnings.warn(\n",
      "/Users/janjacob/anaconda3/lib/python3.10/site-packages/sklearn/linear_model/_logistic.py:1181: UserWarning: Setting penalty=None will ignore the C and l1_ratio parameters\n",
      "  warnings.warn(\n",
      "/Users/janjacob/anaconda3/lib/python3.10/site-packages/sklearn/linear_model/_logistic.py:1181: UserWarning: Setting penalty=None will ignore the C and l1_ratio parameters\n",
      "  warnings.warn(\n",
      "/Users/janjacob/anaconda3/lib/python3.10/site-packages/sklearn/linear_model/_logistic.py:1181: UserWarning: Setting penalty=None will ignore the C and l1_ratio parameters\n",
      "  warnings.warn(\n",
      "/Users/janjacob/anaconda3/lib/python3.10/site-packages/sklearn/linear_model/_logistic.py:1181: UserWarning: Setting penalty=None will ignore the C and l1_ratio parameters\n",
      "  warnings.warn(\n",
      "/Users/janjacob/anaconda3/lib/python3.10/site-packages/sklearn/linear_model/_logistic.py:1181: UserWarning: Setting penalty=None will ignore the C and l1_ratio parameters\n",
      "  warnings.warn(\n",
      "/Users/janjacob/anaconda3/lib/python3.10/site-packages/sklearn/linear_model/_logistic.py:1181: UserWarning: Setting penalty=None will ignore the C and l1_ratio parameters\n",
      "  warnings.warn(\n",
      "/Users/janjacob/anaconda3/lib/python3.10/site-packages/sklearn/linear_model/_logistic.py:1181: UserWarning: Setting penalty=None will ignore the C and l1_ratio parameters\n",
      "  warnings.warn(\n",
      "/Users/janjacob/anaconda3/lib/python3.10/site-packages/sklearn/linear_model/_logistic.py:1181: UserWarning: Setting penalty=None will ignore the C and l1_ratio parameters\n",
      "  warnings.warn(\n",
      "/Users/janjacob/anaconda3/lib/python3.10/site-packages/sklearn/linear_model/_logistic.py:1181: UserWarning: Setting penalty=None will ignore the C and l1_ratio parameters\n",
      "  warnings.warn(\n",
      "/Users/janjacob/anaconda3/lib/python3.10/site-packages/sklearn/linear_model/_logistic.py:1181: UserWarning: Setting penalty=None will ignore the C and l1_ratio parameters\n",
      "  warnings.warn(\n",
      "/Users/janjacob/anaconda3/lib/python3.10/site-packages/sklearn/linear_model/_logistic.py:1181: UserWarning: Setting penalty=None will ignore the C and l1_ratio parameters\n",
      "  warnings.warn(\n",
      "/Users/janjacob/anaconda3/lib/python3.10/site-packages/sklearn/linear_model/_logistic.py:1181: UserWarning: Setting penalty=None will ignore the C and l1_ratio parameters\n",
      "  warnings.warn(\n",
      "/Users/janjacob/anaconda3/lib/python3.10/site-packages/sklearn/linear_model/_logistic.py:1181: UserWarning: Setting penalty=None will ignore the C and l1_ratio parameters\n",
      "  warnings.warn(\n",
      "/Users/janjacob/anaconda3/lib/python3.10/site-packages/sklearn/linear_model/_logistic.py:1181: UserWarning: Setting penalty=None will ignore the C and l1_ratio parameters\n",
      "  warnings.warn(\n",
      "/Users/janjacob/anaconda3/lib/python3.10/site-packages/sklearn/linear_model/_logistic.py:1181: UserWarning: Setting penalty=None will ignore the C and l1_ratio parameters\n",
      "  warnings.warn(\n",
      "/Users/janjacob/anaconda3/lib/python3.10/site-packages/sklearn/linear_model/_logistic.py:1181: UserWarning: Setting penalty=None will ignore the C and l1_ratio parameters\n",
      "  warnings.warn(\n",
      "/Users/janjacob/anaconda3/lib/python3.10/site-packages/sklearn/linear_model/_logistic.py:1181: UserWarning: Setting penalty=None will ignore the C and l1_ratio parameters\n",
      "  warnings.warn(\n",
      "/Users/janjacob/anaconda3/lib/python3.10/site-packages/sklearn/linear_model/_logistic.py:1181: UserWarning: Setting penalty=None will ignore the C and l1_ratio parameters\n",
      "  warnings.warn(\n",
      "/Users/janjacob/anaconda3/lib/python3.10/site-packages/sklearn/linear_model/_logistic.py:1181: UserWarning: Setting penalty=None will ignore the C and l1_ratio parameters\n",
      "  warnings.warn(\n",
      "/Users/janjacob/anaconda3/lib/python3.10/site-packages/sklearn/linear_model/_logistic.py:1181: UserWarning: Setting penalty=None will ignore the C and l1_ratio parameters\n",
      "  warnings.warn(\n",
      "/Users/janjacob/anaconda3/lib/python3.10/site-packages/sklearn/linear_model/_logistic.py:1181: UserWarning: Setting penalty=None will ignore the C and l1_ratio parameters\n",
      "  warnings.warn(\n",
      "/Users/janjacob/anaconda3/lib/python3.10/site-packages/sklearn/linear_model/_logistic.py:1181: UserWarning: Setting penalty=None will ignore the C and l1_ratio parameters\n",
      "  warnings.warn(\n",
      "/Users/janjacob/anaconda3/lib/python3.10/site-packages/sklearn/linear_model/_logistic.py:1181: UserWarning: Setting penalty=None will ignore the C and l1_ratio parameters\n",
      "  warnings.warn(\n",
      "/Users/janjacob/anaconda3/lib/python3.10/site-packages/sklearn/linear_model/_logistic.py:1181: UserWarning: Setting penalty=None will ignore the C and l1_ratio parameters\n",
      "  warnings.warn(\n",
      "/Users/janjacob/anaconda3/lib/python3.10/site-packages/sklearn/linear_model/_logistic.py:1181: UserWarning: Setting penalty=None will ignore the C and l1_ratio parameters\n",
      "  warnings.warn(\n",
      "/Users/janjacob/anaconda3/lib/python3.10/site-packages/sklearn/linear_model/_logistic.py:1181: UserWarning: Setting penalty=None will ignore the C and l1_ratio parameters\n",
      "  warnings.warn(\n",
      "/Users/janjacob/anaconda3/lib/python3.10/site-packages/sklearn/linear_model/_logistic.py:1181: UserWarning: Setting penalty=None will ignore the C and l1_ratio parameters\n",
      "  warnings.warn(\n",
      "/Users/janjacob/anaconda3/lib/python3.10/site-packages/sklearn/linear_model/_logistic.py:1181: UserWarning: Setting penalty=None will ignore the C and l1_ratio parameters\n",
      "  warnings.warn(\n",
      "/Users/janjacob/anaconda3/lib/python3.10/site-packages/sklearn/linear_model/_logistic.py:1181: UserWarning: Setting penalty=None will ignore the C and l1_ratio parameters\n",
      "  warnings.warn(\n",
      "/Users/janjacob/anaconda3/lib/python3.10/site-packages/sklearn/linear_model/_logistic.py:1181: UserWarning: Setting penalty=None will ignore the C and l1_ratio parameters\n",
      "  warnings.warn(\n",
      "/Users/janjacob/anaconda3/lib/python3.10/site-packages/sklearn/linear_model/_logistic.py:1181: UserWarning: Setting penalty=None will ignore the C and l1_ratio parameters\n",
      "  warnings.warn(\n",
      "/Users/janjacob/anaconda3/lib/python3.10/site-packages/sklearn/linear_model/_logistic.py:1181: UserWarning: Setting penalty=None will ignore the C and l1_ratio parameters\n",
      "  warnings.warn(\n",
      "/Users/janjacob/anaconda3/lib/python3.10/site-packages/sklearn/linear_model/_logistic.py:1181: UserWarning: Setting penalty=None will ignore the C and l1_ratio parameters\n",
      "  warnings.warn(\n",
      "/Users/janjacob/anaconda3/lib/python3.10/site-packages/sklearn/linear_model/_logistic.py:1181: UserWarning: Setting penalty=None will ignore the C and l1_ratio parameters\n",
      "  warnings.warn(\n",
      "/Users/janjacob/anaconda3/lib/python3.10/site-packages/sklearn/linear_model/_logistic.py:1181: UserWarning: Setting penalty=None will ignore the C and l1_ratio parameters\n",
      "  warnings.warn(\n",
      "/Users/janjacob/anaconda3/lib/python3.10/site-packages/sklearn/linear_model/_logistic.py:1181: UserWarning: Setting penalty=None will ignore the C and l1_ratio parameters\n",
      "  warnings.warn(\n",
      "/Users/janjacob/anaconda3/lib/python3.10/site-packages/sklearn/linear_model/_logistic.py:1181: UserWarning: Setting penalty=None will ignore the C and l1_ratio parameters\n",
      "  warnings.warn(\n",
      "/Users/janjacob/anaconda3/lib/python3.10/site-packages/sklearn/linear_model/_logistic.py:1181: UserWarning: Setting penalty=None will ignore the C and l1_ratio parameters\n",
      "  warnings.warn(\n",
      "/Users/janjacob/anaconda3/lib/python3.10/site-packages/sklearn/linear_model/_logistic.py:1181: UserWarning: Setting penalty=None will ignore the C and l1_ratio parameters\n",
      "  warnings.warn(\n",
      "/Users/janjacob/anaconda3/lib/python3.10/site-packages/sklearn/linear_model/_logistic.py:1181: UserWarning: Setting penalty=None will ignore the C and l1_ratio parameters\n",
      "  warnings.warn(\n",
      "/Users/janjacob/anaconda3/lib/python3.10/site-packages/sklearn/linear_model/_logistic.py:1181: UserWarning: Setting penalty=None will ignore the C and l1_ratio parameters\n",
      "  warnings.warn(\n",
      "/Users/janjacob/anaconda3/lib/python3.10/site-packages/sklearn/linear_model/_logistic.py:1181: UserWarning: Setting penalty=None will ignore the C and l1_ratio parameters\n",
      "  warnings.warn(\n",
      "/Users/janjacob/anaconda3/lib/python3.10/site-packages/sklearn/linear_model/_logistic.py:1181: UserWarning: Setting penalty=None will ignore the C and l1_ratio parameters\n",
      "  warnings.warn(\n",
      "/Users/janjacob/anaconda3/lib/python3.10/site-packages/sklearn/linear_model/_logistic.py:1181: UserWarning: Setting penalty=None will ignore the C and l1_ratio parameters\n",
      "  warnings.warn(\n",
      "/Users/janjacob/anaconda3/lib/python3.10/site-packages/sklearn/linear_model/_logistic.py:1181: UserWarning: Setting penalty=None will ignore the C and l1_ratio parameters\n",
      "  warnings.warn(\n",
      "/Users/janjacob/anaconda3/lib/python3.10/site-packages/sklearn/linear_model/_logistic.py:1181: UserWarning: Setting penalty=None will ignore the C and l1_ratio parameters\n",
      "  warnings.warn(\n",
      "/Users/janjacob/anaconda3/lib/python3.10/site-packages/sklearn/linear_model/_logistic.py:1181: UserWarning: Setting penalty=None will ignore the C and l1_ratio parameters\n",
      "  warnings.warn(\n"
     ]
    },
    {
     "name": "stderr",
     "output_type": "stream",
     "text": [
      "/Users/janjacob/anaconda3/lib/python3.10/site-packages/sklearn/linear_model/_logistic.py:1181: UserWarning: Setting penalty=None will ignore the C and l1_ratio parameters\n",
      "  warnings.warn(\n",
      "/Users/janjacob/anaconda3/lib/python3.10/site-packages/sklearn/linear_model/_logistic.py:1181: UserWarning: Setting penalty=None will ignore the C and l1_ratio parameters\n",
      "  warnings.warn(\n",
      "/Users/janjacob/anaconda3/lib/python3.10/site-packages/sklearn/linear_model/_logistic.py:1181: UserWarning: Setting penalty=None will ignore the C and l1_ratio parameters\n",
      "  warnings.warn(\n",
      "/Users/janjacob/anaconda3/lib/python3.10/site-packages/sklearn/linear_model/_logistic.py:1181: UserWarning: Setting penalty=None will ignore the C and l1_ratio parameters\n",
      "  warnings.warn(\n",
      "/Users/janjacob/anaconda3/lib/python3.10/site-packages/sklearn/linear_model/_logistic.py:1181: UserWarning: Setting penalty=None will ignore the C and l1_ratio parameters\n",
      "  warnings.warn(\n",
      "/Users/janjacob/anaconda3/lib/python3.10/site-packages/sklearn/linear_model/_logistic.py:1181: UserWarning: Setting penalty=None will ignore the C and l1_ratio parameters\n",
      "  warnings.warn(\n",
      "/Users/janjacob/anaconda3/lib/python3.10/site-packages/sklearn/linear_model/_logistic.py:1181: UserWarning: Setting penalty=None will ignore the C and l1_ratio parameters\n",
      "  warnings.warn(\n",
      "/Users/janjacob/anaconda3/lib/python3.10/site-packages/sklearn/linear_model/_logistic.py:1181: UserWarning: Setting penalty=None will ignore the C and l1_ratio parameters\n",
      "  warnings.warn(\n",
      "/Users/janjacob/anaconda3/lib/python3.10/site-packages/sklearn/linear_model/_logistic.py:1181: UserWarning: Setting penalty=None will ignore the C and l1_ratio parameters\n",
      "  warnings.warn(\n",
      "/Users/janjacob/anaconda3/lib/python3.10/site-packages/sklearn/linear_model/_logistic.py:1181: UserWarning: Setting penalty=None will ignore the C and l1_ratio parameters\n",
      "  warnings.warn(\n",
      "/Users/janjacob/anaconda3/lib/python3.10/site-packages/sklearn/linear_model/_logistic.py:1181: UserWarning: Setting penalty=None will ignore the C and l1_ratio parameters\n",
      "  warnings.warn(\n",
      "/Users/janjacob/anaconda3/lib/python3.10/site-packages/sklearn/linear_model/_logistic.py:1181: UserWarning: Setting penalty=None will ignore the C and l1_ratio parameters\n",
      "  warnings.warn(\n",
      "/Users/janjacob/anaconda3/lib/python3.10/site-packages/sklearn/linear_model/_logistic.py:1181: UserWarning: Setting penalty=None will ignore the C and l1_ratio parameters\n",
      "  warnings.warn(\n",
      "/Users/janjacob/anaconda3/lib/python3.10/site-packages/sklearn/linear_model/_logistic.py:1181: UserWarning: Setting penalty=None will ignore the C and l1_ratio parameters\n",
      "  warnings.warn(\n",
      "/Users/janjacob/anaconda3/lib/python3.10/site-packages/sklearn/linear_model/_logistic.py:1181: UserWarning: Setting penalty=None will ignore the C and l1_ratio parameters\n",
      "  warnings.warn(\n",
      "/Users/janjacob/anaconda3/lib/python3.10/site-packages/sklearn/linear_model/_logistic.py:1181: UserWarning: Setting penalty=None will ignore the C and l1_ratio parameters\n",
      "  warnings.warn(\n",
      "/Users/janjacob/anaconda3/lib/python3.10/site-packages/sklearn/linear_model/_logistic.py:1181: UserWarning: Setting penalty=None will ignore the C and l1_ratio parameters\n",
      "  warnings.warn(\n",
      "/Users/janjacob/anaconda3/lib/python3.10/site-packages/sklearn/linear_model/_logistic.py:1181: UserWarning: Setting penalty=None will ignore the C and l1_ratio parameters\n",
      "  warnings.warn(\n",
      "/Users/janjacob/anaconda3/lib/python3.10/site-packages/sklearn/linear_model/_logistic.py:1181: UserWarning: Setting penalty=None will ignore the C and l1_ratio parameters\n",
      "  warnings.warn(\n",
      "/Users/janjacob/anaconda3/lib/python3.10/site-packages/sklearn/linear_model/_logistic.py:1181: UserWarning: Setting penalty=None will ignore the C and l1_ratio parameters\n",
      "  warnings.warn(\n",
      "/Users/janjacob/anaconda3/lib/python3.10/site-packages/sklearn/linear_model/_logistic.py:1181: UserWarning: Setting penalty=None will ignore the C and l1_ratio parameters\n",
      "  warnings.warn(\n",
      "/Users/janjacob/anaconda3/lib/python3.10/site-packages/sklearn/linear_model/_logistic.py:1181: UserWarning: Setting penalty=None will ignore the C and l1_ratio parameters\n",
      "  warnings.warn(\n",
      "/Users/janjacob/anaconda3/lib/python3.10/site-packages/sklearn/linear_model/_logistic.py:1181: UserWarning: Setting penalty=None will ignore the C and l1_ratio parameters\n",
      "  warnings.warn(\n",
      "/Users/janjacob/anaconda3/lib/python3.10/site-packages/sklearn/linear_model/_logistic.py:1181: UserWarning: Setting penalty=None will ignore the C and l1_ratio parameters\n",
      "  warnings.warn(\n",
      "/Users/janjacob/anaconda3/lib/python3.10/site-packages/sklearn/linear_model/_logistic.py:1181: UserWarning: Setting penalty=None will ignore the C and l1_ratio parameters\n",
      "  warnings.warn(\n",
      "/Users/janjacob/anaconda3/lib/python3.10/site-packages/sklearn/linear_model/_logistic.py:1181: UserWarning: Setting penalty=None will ignore the C and l1_ratio parameters\n",
      "  warnings.warn(\n",
      "/Users/janjacob/anaconda3/lib/python3.10/site-packages/sklearn/linear_model/_logistic.py:1181: UserWarning: Setting penalty=None will ignore the C and l1_ratio parameters\n",
      "  warnings.warn(\n",
      "/Users/janjacob/anaconda3/lib/python3.10/site-packages/sklearn/linear_model/_logistic.py:1181: UserWarning: Setting penalty=None will ignore the C and l1_ratio parameters\n",
      "  warnings.warn(\n",
      "/Users/janjacob/anaconda3/lib/python3.10/site-packages/sklearn/linear_model/_logistic.py:1181: UserWarning: Setting penalty=None will ignore the C and l1_ratio parameters\n",
      "  warnings.warn(\n",
      "/Users/janjacob/anaconda3/lib/python3.10/site-packages/sklearn/linear_model/_logistic.py:1181: UserWarning: Setting penalty=None will ignore the C and l1_ratio parameters\n",
      "  warnings.warn(\n",
      "/Users/janjacob/anaconda3/lib/python3.10/site-packages/sklearn/linear_model/_logistic.py:1181: UserWarning: Setting penalty=None will ignore the C and l1_ratio parameters\n",
      "  warnings.warn(\n",
      "/Users/janjacob/anaconda3/lib/python3.10/site-packages/sklearn/linear_model/_logistic.py:1181: UserWarning: Setting penalty=None will ignore the C and l1_ratio parameters\n",
      "  warnings.warn(\n",
      "/Users/janjacob/anaconda3/lib/python3.10/site-packages/sklearn/linear_model/_logistic.py:1181: UserWarning: Setting penalty=None will ignore the C and l1_ratio parameters\n",
      "  warnings.warn(\n",
      "/Users/janjacob/anaconda3/lib/python3.10/site-packages/sklearn/linear_model/_logistic.py:1181: UserWarning: Setting penalty=None will ignore the C and l1_ratio parameters\n",
      "  warnings.warn(\n",
      "/Users/janjacob/anaconda3/lib/python3.10/site-packages/sklearn/linear_model/_logistic.py:1181: UserWarning: Setting penalty=None will ignore the C and l1_ratio parameters\n",
      "  warnings.warn(\n",
      "/Users/janjacob/anaconda3/lib/python3.10/site-packages/sklearn/linear_model/_logistic.py:1181: UserWarning: Setting penalty=None will ignore the C and l1_ratio parameters\n",
      "  warnings.warn(\n",
      "/Users/janjacob/anaconda3/lib/python3.10/site-packages/sklearn/linear_model/_logistic.py:1181: UserWarning: Setting penalty=None will ignore the C and l1_ratio parameters\n",
      "  warnings.warn(\n",
      "/Users/janjacob/anaconda3/lib/python3.10/site-packages/sklearn/linear_model/_logistic.py:1181: UserWarning: Setting penalty=None will ignore the C and l1_ratio parameters\n",
      "  warnings.warn(\n",
      "/Users/janjacob/anaconda3/lib/python3.10/site-packages/sklearn/linear_model/_logistic.py:1181: UserWarning: Setting penalty=None will ignore the C and l1_ratio parameters\n",
      "  warnings.warn(\n",
      "/Users/janjacob/anaconda3/lib/python3.10/site-packages/sklearn/linear_model/_logistic.py:1181: UserWarning: Setting penalty=None will ignore the C and l1_ratio parameters\n",
      "  warnings.warn(\n",
      "/Users/janjacob/anaconda3/lib/python3.10/site-packages/sklearn/linear_model/_logistic.py:1181: UserWarning: Setting penalty=None will ignore the C and l1_ratio parameters\n",
      "  warnings.warn(\n",
      "/Users/janjacob/anaconda3/lib/python3.10/site-packages/sklearn/linear_model/_logistic.py:1181: UserWarning: Setting penalty=None will ignore the C and l1_ratio parameters\n",
      "  warnings.warn(\n",
      "/Users/janjacob/anaconda3/lib/python3.10/site-packages/sklearn/linear_model/_logistic.py:1181: UserWarning: Setting penalty=None will ignore the C and l1_ratio parameters\n",
      "  warnings.warn(\n",
      "/Users/janjacob/anaconda3/lib/python3.10/site-packages/sklearn/linear_model/_logistic.py:1181: UserWarning: Setting penalty=None will ignore the C and l1_ratio parameters\n",
      "  warnings.warn(\n",
      "/Users/janjacob/anaconda3/lib/python3.10/site-packages/sklearn/linear_model/_logistic.py:1181: UserWarning: Setting penalty=None will ignore the C and l1_ratio parameters\n",
      "  warnings.warn(\n",
      "/Users/janjacob/anaconda3/lib/python3.10/site-packages/sklearn/linear_model/_logistic.py:1181: UserWarning: Setting penalty=None will ignore the C and l1_ratio parameters\n",
      "  warnings.warn(\n",
      "/Users/janjacob/anaconda3/lib/python3.10/site-packages/sklearn/linear_model/_logistic.py:1181: UserWarning: Setting penalty=None will ignore the C and l1_ratio parameters\n",
      "  warnings.warn(\n",
      "/Users/janjacob/anaconda3/lib/python3.10/site-packages/sklearn/linear_model/_logistic.py:1181: UserWarning: Setting penalty=None will ignore the C and l1_ratio parameters\n",
      "  warnings.warn(\n",
      "/Users/janjacob/anaconda3/lib/python3.10/site-packages/sklearn/linear_model/_logistic.py:1181: UserWarning: Setting penalty=None will ignore the C and l1_ratio parameters\n",
      "  warnings.warn(\n",
      "/Users/janjacob/anaconda3/lib/python3.10/site-packages/sklearn/linear_model/_logistic.py:1181: UserWarning: Setting penalty=None will ignore the C and l1_ratio parameters\n",
      "  warnings.warn(\n"
     ]
    },
    {
     "name": "stderr",
     "output_type": "stream",
     "text": [
      "/Users/janjacob/anaconda3/lib/python3.10/site-packages/sklearn/linear_model/_logistic.py:1181: UserWarning: Setting penalty=None will ignore the C and l1_ratio parameters\n",
      "  warnings.warn(\n",
      "/Users/janjacob/anaconda3/lib/python3.10/site-packages/sklearn/linear_model/_logistic.py:1181: UserWarning: Setting penalty=None will ignore the C and l1_ratio parameters\n",
      "  warnings.warn(\n",
      "/Users/janjacob/anaconda3/lib/python3.10/site-packages/sklearn/linear_model/_logistic.py:1181: UserWarning: Setting penalty=None will ignore the C and l1_ratio parameters\n",
      "  warnings.warn(\n",
      "/Users/janjacob/anaconda3/lib/python3.10/site-packages/sklearn/linear_model/_logistic.py:1181: UserWarning: Setting penalty=None will ignore the C and l1_ratio parameters\n",
      "  warnings.warn(\n",
      "/Users/janjacob/anaconda3/lib/python3.10/site-packages/sklearn/linear_model/_logistic.py:1181: UserWarning: Setting penalty=None will ignore the C and l1_ratio parameters\n",
      "  warnings.warn(\n",
      "/Users/janjacob/anaconda3/lib/python3.10/site-packages/sklearn/linear_model/_logistic.py:1181: UserWarning: Setting penalty=None will ignore the C and l1_ratio parameters\n",
      "  warnings.warn(\n",
      "/Users/janjacob/anaconda3/lib/python3.10/site-packages/sklearn/linear_model/_logistic.py:1181: UserWarning: Setting penalty=None will ignore the C and l1_ratio parameters\n",
      "  warnings.warn(\n",
      "/Users/janjacob/anaconda3/lib/python3.10/site-packages/sklearn/linear_model/_logistic.py:1181: UserWarning: Setting penalty=None will ignore the C and l1_ratio parameters\n",
      "  warnings.warn(\n",
      "/Users/janjacob/anaconda3/lib/python3.10/site-packages/sklearn/linear_model/_logistic.py:1181: UserWarning: Setting penalty=None will ignore the C and l1_ratio parameters\n",
      "  warnings.warn(\n",
      "/Users/janjacob/anaconda3/lib/python3.10/site-packages/sklearn/linear_model/_logistic.py:1181: UserWarning: Setting penalty=None will ignore the C and l1_ratio parameters\n",
      "  warnings.warn(\n",
      "/Users/janjacob/anaconda3/lib/python3.10/site-packages/sklearn/linear_model/_logistic.py:1181: UserWarning: Setting penalty=None will ignore the C and l1_ratio parameters\n",
      "  warnings.warn(\n",
      "/Users/janjacob/anaconda3/lib/python3.10/site-packages/sklearn/linear_model/_logistic.py:1181: UserWarning: Setting penalty=None will ignore the C and l1_ratio parameters\n",
      "  warnings.warn(\n",
      "/Users/janjacob/anaconda3/lib/python3.10/site-packages/sklearn/linear_model/_logistic.py:1181: UserWarning: Setting penalty=None will ignore the C and l1_ratio parameters\n",
      "  warnings.warn(\n",
      "/Users/janjacob/anaconda3/lib/python3.10/site-packages/sklearn/linear_model/_logistic.py:1181: UserWarning: Setting penalty=None will ignore the C and l1_ratio parameters\n",
      "  warnings.warn(\n",
      "/Users/janjacob/anaconda3/lib/python3.10/site-packages/sklearn/linear_model/_logistic.py:1181: UserWarning: Setting penalty=None will ignore the C and l1_ratio parameters\n",
      "  warnings.warn(\n",
      "/Users/janjacob/anaconda3/lib/python3.10/site-packages/sklearn/linear_model/_logistic.py:1181: UserWarning: Setting penalty=None will ignore the C and l1_ratio parameters\n",
      "  warnings.warn(\n",
      "/Users/janjacob/anaconda3/lib/python3.10/site-packages/sklearn/linear_model/_logistic.py:1181: UserWarning: Setting penalty=None will ignore the C and l1_ratio parameters\n",
      "  warnings.warn(\n",
      "/Users/janjacob/anaconda3/lib/python3.10/site-packages/sklearn/linear_model/_logistic.py:1181: UserWarning: Setting penalty=None will ignore the C and l1_ratio parameters\n",
      "  warnings.warn(\n",
      "/Users/janjacob/anaconda3/lib/python3.10/site-packages/sklearn/linear_model/_logistic.py:1181: UserWarning: Setting penalty=None will ignore the C and l1_ratio parameters\n",
      "  warnings.warn(\n",
      "/Users/janjacob/anaconda3/lib/python3.10/site-packages/sklearn/linear_model/_logistic.py:1181: UserWarning: Setting penalty=None will ignore the C and l1_ratio parameters\n",
      "  warnings.warn(\n",
      "/Users/janjacob/anaconda3/lib/python3.10/site-packages/sklearn/linear_model/_logistic.py:1181: UserWarning: Setting penalty=None will ignore the C and l1_ratio parameters\n",
      "  warnings.warn(\n",
      "/Users/janjacob/anaconda3/lib/python3.10/site-packages/sklearn/linear_model/_logistic.py:1181: UserWarning: Setting penalty=None will ignore the C and l1_ratio parameters\n",
      "  warnings.warn(\n",
      "/Users/janjacob/anaconda3/lib/python3.10/site-packages/sklearn/linear_model/_logistic.py:1181: UserWarning: Setting penalty=None will ignore the C and l1_ratio parameters\n",
      "  warnings.warn(\n",
      "/Users/janjacob/anaconda3/lib/python3.10/site-packages/sklearn/linear_model/_logistic.py:1181: UserWarning: Setting penalty=None will ignore the C and l1_ratio parameters\n",
      "  warnings.warn(\n",
      "/Users/janjacob/anaconda3/lib/python3.10/site-packages/sklearn/linear_model/_logistic.py:1181: UserWarning: Setting penalty=None will ignore the C and l1_ratio parameters\n",
      "  warnings.warn(\n",
      "/Users/janjacob/anaconda3/lib/python3.10/site-packages/sklearn/linear_model/_logistic.py:1181: UserWarning: Setting penalty=None will ignore the C and l1_ratio parameters\n",
      "  warnings.warn(\n",
      "/Users/janjacob/anaconda3/lib/python3.10/site-packages/sklearn/linear_model/_logistic.py:1181: UserWarning: Setting penalty=None will ignore the C and l1_ratio parameters\n",
      "  warnings.warn(\n",
      "/Users/janjacob/anaconda3/lib/python3.10/site-packages/sklearn/linear_model/_logistic.py:1181: UserWarning: Setting penalty=None will ignore the C and l1_ratio parameters\n",
      "  warnings.warn(\n",
      "/Users/janjacob/anaconda3/lib/python3.10/site-packages/sklearn/linear_model/_logistic.py:1181: UserWarning: Setting penalty=None will ignore the C and l1_ratio parameters\n",
      "  warnings.warn(\n",
      "/Users/janjacob/anaconda3/lib/python3.10/site-packages/sklearn/linear_model/_logistic.py:1181: UserWarning: Setting penalty=None will ignore the C and l1_ratio parameters\n",
      "  warnings.warn(\n",
      "/Users/janjacob/anaconda3/lib/python3.10/site-packages/sklearn/linear_model/_logistic.py:1181: UserWarning: Setting penalty=None will ignore the C and l1_ratio parameters\n",
      "  warnings.warn(\n",
      "/Users/janjacob/anaconda3/lib/python3.10/site-packages/sklearn/linear_model/_logistic.py:1181: UserWarning: Setting penalty=None will ignore the C and l1_ratio parameters\n",
      "  warnings.warn(\n",
      "/Users/janjacob/anaconda3/lib/python3.10/site-packages/sklearn/linear_model/_logistic.py:1181: UserWarning: Setting penalty=None will ignore the C and l1_ratio parameters\n",
      "  warnings.warn(\n",
      "/Users/janjacob/anaconda3/lib/python3.10/site-packages/sklearn/linear_model/_logistic.py:1181: UserWarning: Setting penalty=None will ignore the C and l1_ratio parameters\n",
      "  warnings.warn(\n",
      "/Users/janjacob/anaconda3/lib/python3.10/site-packages/sklearn/linear_model/_logistic.py:1181: UserWarning: Setting penalty=None will ignore the C and l1_ratio parameters\n",
      "  warnings.warn(\n",
      "/Users/janjacob/anaconda3/lib/python3.10/site-packages/sklearn/linear_model/_logistic.py:1181: UserWarning: Setting penalty=None will ignore the C and l1_ratio parameters\n",
      "  warnings.warn(\n",
      "/Users/janjacob/anaconda3/lib/python3.10/site-packages/sklearn/linear_model/_logistic.py:1181: UserWarning: Setting penalty=None will ignore the C and l1_ratio parameters\n",
      "  warnings.warn(\n",
      "/Users/janjacob/anaconda3/lib/python3.10/site-packages/sklearn/linear_model/_logistic.py:1181: UserWarning: Setting penalty=None will ignore the C and l1_ratio parameters\n",
      "  warnings.warn(\n",
      "/Users/janjacob/anaconda3/lib/python3.10/site-packages/sklearn/linear_model/_logistic.py:1181: UserWarning: Setting penalty=None will ignore the C and l1_ratio parameters\n",
      "  warnings.warn(\n",
      "/Users/janjacob/anaconda3/lib/python3.10/site-packages/sklearn/linear_model/_logistic.py:1181: UserWarning: Setting penalty=None will ignore the C and l1_ratio parameters\n",
      "  warnings.warn(\n",
      "/Users/janjacob/anaconda3/lib/python3.10/site-packages/sklearn/linear_model/_logistic.py:1181: UserWarning: Setting penalty=None will ignore the C and l1_ratio parameters\n",
      "  warnings.warn(\n",
      "/Users/janjacob/anaconda3/lib/python3.10/site-packages/sklearn/linear_model/_logistic.py:1181: UserWarning: Setting penalty=None will ignore the C and l1_ratio parameters\n",
      "  warnings.warn(\n",
      "/Users/janjacob/anaconda3/lib/python3.10/site-packages/sklearn/linear_model/_logistic.py:1181: UserWarning: Setting penalty=None will ignore the C and l1_ratio parameters\n",
      "  warnings.warn(\n",
      "/Users/janjacob/anaconda3/lib/python3.10/site-packages/sklearn/linear_model/_logistic.py:1181: UserWarning: Setting penalty=None will ignore the C and l1_ratio parameters\n",
      "  warnings.warn(\n",
      "/Users/janjacob/anaconda3/lib/python3.10/site-packages/sklearn/linear_model/_logistic.py:1181: UserWarning: Setting penalty=None will ignore the C and l1_ratio parameters\n",
      "  warnings.warn(\n",
      "/Users/janjacob/anaconda3/lib/python3.10/site-packages/sklearn/linear_model/_logistic.py:1181: UserWarning: Setting penalty=None will ignore the C and l1_ratio parameters\n",
      "  warnings.warn(\n",
      "/Users/janjacob/anaconda3/lib/python3.10/site-packages/sklearn/linear_model/_logistic.py:1181: UserWarning: Setting penalty=None will ignore the C and l1_ratio parameters\n",
      "  warnings.warn(\n",
      "/Users/janjacob/anaconda3/lib/python3.10/site-packages/sklearn/linear_model/_logistic.py:1181: UserWarning: Setting penalty=None will ignore the C and l1_ratio parameters\n",
      "  warnings.warn(\n",
      "/Users/janjacob/anaconda3/lib/python3.10/site-packages/sklearn/linear_model/_logistic.py:1181: UserWarning: Setting penalty=None will ignore the C and l1_ratio parameters\n",
      "  warnings.warn(\n",
      "/Users/janjacob/anaconda3/lib/python3.10/site-packages/sklearn/linear_model/_logistic.py:1181: UserWarning: Setting penalty=None will ignore the C and l1_ratio parameters\n",
      "  warnings.warn(\n",
      "/Users/janjacob/anaconda3/lib/python3.10/site-packages/sklearn/linear_model/_logistic.py:1181: UserWarning: Setting penalty=None will ignore the C and l1_ratio parameters\n",
      "  warnings.warn(\n",
      "/Users/janjacob/anaconda3/lib/python3.10/site-packages/sklearn/linear_model/_logistic.py:1181: UserWarning: Setting penalty=None will ignore the C and l1_ratio parameters\n",
      "  warnings.warn(\n",
      "/Users/janjacob/anaconda3/lib/python3.10/site-packages/sklearn/linear_model/_logistic.py:1181: UserWarning: Setting penalty=None will ignore the C and l1_ratio parameters\n",
      "  warnings.warn(\n",
      "/Users/janjacob/anaconda3/lib/python3.10/site-packages/sklearn/linear_model/_logistic.py:1181: UserWarning: Setting penalty=None will ignore the C and l1_ratio parameters\n",
      "  warnings.warn(\n",
      "/Users/janjacob/anaconda3/lib/python3.10/site-packages/sklearn/linear_model/_logistic.py:1181: UserWarning: Setting penalty=None will ignore the C and l1_ratio parameters\n",
      "  warnings.warn(\n",
      "/Users/janjacob/anaconda3/lib/python3.10/site-packages/sklearn/linear_model/_logistic.py:1181: UserWarning: Setting penalty=None will ignore the C and l1_ratio parameters\n",
      "  warnings.warn(\n"
     ]
    },
    {
     "name": "stderr",
     "output_type": "stream",
     "text": [
      "/Users/janjacob/anaconda3/lib/python3.10/site-packages/sklearn/linear_model/_logistic.py:1181: UserWarning: Setting penalty=None will ignore the C and l1_ratio parameters\n",
      "  warnings.warn(\n",
      "/Users/janjacob/anaconda3/lib/python3.10/site-packages/sklearn/linear_model/_logistic.py:1181: UserWarning: Setting penalty=None will ignore the C and l1_ratio parameters\n",
      "  warnings.warn(\n",
      "/Users/janjacob/anaconda3/lib/python3.10/site-packages/sklearn/linear_model/_logistic.py:1181: UserWarning: Setting penalty=None will ignore the C and l1_ratio parameters\n",
      "  warnings.warn(\n",
      "/Users/janjacob/anaconda3/lib/python3.10/site-packages/sklearn/linear_model/_logistic.py:1181: UserWarning: Setting penalty=None will ignore the C and l1_ratio parameters\n",
      "  warnings.warn(\n",
      "/Users/janjacob/anaconda3/lib/python3.10/site-packages/sklearn/linear_model/_logistic.py:1181: UserWarning: Setting penalty=None will ignore the C and l1_ratio parameters\n",
      "  warnings.warn(\n",
      "/Users/janjacob/anaconda3/lib/python3.10/site-packages/sklearn/linear_model/_logistic.py:1181: UserWarning: Setting penalty=None will ignore the C and l1_ratio parameters\n",
      "  warnings.warn(\n",
      "/Users/janjacob/anaconda3/lib/python3.10/site-packages/sklearn/linear_model/_logistic.py:1181: UserWarning: Setting penalty=None will ignore the C and l1_ratio parameters\n",
      "  warnings.warn(\n",
      "/Users/janjacob/anaconda3/lib/python3.10/site-packages/sklearn/linear_model/_logistic.py:1181: UserWarning: Setting penalty=None will ignore the C and l1_ratio parameters\n",
      "  warnings.warn(\n",
      "/Users/janjacob/anaconda3/lib/python3.10/site-packages/sklearn/linear_model/_logistic.py:1181: UserWarning: Setting penalty=None will ignore the C and l1_ratio parameters\n",
      "  warnings.warn(\n",
      "/Users/janjacob/anaconda3/lib/python3.10/site-packages/sklearn/linear_model/_logistic.py:1181: UserWarning: Setting penalty=None will ignore the C and l1_ratio parameters\n",
      "  warnings.warn(\n",
      "/Users/janjacob/anaconda3/lib/python3.10/site-packages/sklearn/linear_model/_logistic.py:1181: UserWarning: Setting penalty=None will ignore the C and l1_ratio parameters\n",
      "  warnings.warn(\n",
      "/Users/janjacob/anaconda3/lib/python3.10/site-packages/sklearn/linear_model/_logistic.py:1181: UserWarning: Setting penalty=None will ignore the C and l1_ratio parameters\n",
      "  warnings.warn(\n",
      "/Users/janjacob/anaconda3/lib/python3.10/site-packages/sklearn/linear_model/_logistic.py:1181: UserWarning: Setting penalty=None will ignore the C and l1_ratio parameters\n",
      "  warnings.warn(\n",
      "/Users/janjacob/anaconda3/lib/python3.10/site-packages/sklearn/linear_model/_logistic.py:1181: UserWarning: Setting penalty=None will ignore the C and l1_ratio parameters\n",
      "  warnings.warn(\n",
      "/Users/janjacob/anaconda3/lib/python3.10/site-packages/sklearn/linear_model/_logistic.py:1181: UserWarning: Setting penalty=None will ignore the C and l1_ratio parameters\n",
      "  warnings.warn(\n",
      "/Users/janjacob/anaconda3/lib/python3.10/site-packages/sklearn/linear_model/_logistic.py:1181: UserWarning: Setting penalty=None will ignore the C and l1_ratio parameters\n",
      "  warnings.warn(\n",
      "/Users/janjacob/anaconda3/lib/python3.10/site-packages/sklearn/linear_model/_logistic.py:1181: UserWarning: Setting penalty=None will ignore the C and l1_ratio parameters\n",
      "  warnings.warn(\n",
      "/Users/janjacob/anaconda3/lib/python3.10/site-packages/sklearn/linear_model/_logistic.py:1181: UserWarning: Setting penalty=None will ignore the C and l1_ratio parameters\n",
      "  warnings.warn(\n",
      "/Users/janjacob/anaconda3/lib/python3.10/site-packages/sklearn/linear_model/_logistic.py:1181: UserWarning: Setting penalty=None will ignore the C and l1_ratio parameters\n",
      "  warnings.warn(\n",
      "/Users/janjacob/anaconda3/lib/python3.10/site-packages/sklearn/linear_model/_logistic.py:1181: UserWarning: Setting penalty=None will ignore the C and l1_ratio parameters\n",
      "  warnings.warn(\n",
      "/Users/janjacob/anaconda3/lib/python3.10/site-packages/sklearn/linear_model/_logistic.py:1181: UserWarning: Setting penalty=None will ignore the C and l1_ratio parameters\n",
      "  warnings.warn(\n",
      "/Users/janjacob/anaconda3/lib/python3.10/site-packages/sklearn/linear_model/_logistic.py:1181: UserWarning: Setting penalty=None will ignore the C and l1_ratio parameters\n",
      "  warnings.warn(\n",
      "/Users/janjacob/anaconda3/lib/python3.10/site-packages/sklearn/linear_model/_logistic.py:1181: UserWarning: Setting penalty=None will ignore the C and l1_ratio parameters\n",
      "  warnings.warn(\n",
      "/Users/janjacob/anaconda3/lib/python3.10/site-packages/sklearn/linear_model/_logistic.py:1181: UserWarning: Setting penalty=None will ignore the C and l1_ratio parameters\n",
      "  warnings.warn(\n",
      "/Users/janjacob/anaconda3/lib/python3.10/site-packages/sklearn/linear_model/_logistic.py:1181: UserWarning: Setting penalty=None will ignore the C and l1_ratio parameters\n",
      "  warnings.warn(\n",
      "/Users/janjacob/anaconda3/lib/python3.10/site-packages/sklearn/linear_model/_logistic.py:1181: UserWarning: Setting penalty=None will ignore the C and l1_ratio parameters\n",
      "  warnings.warn(\n",
      "/Users/janjacob/anaconda3/lib/python3.10/site-packages/sklearn/linear_model/_logistic.py:1181: UserWarning: Setting penalty=None will ignore the C and l1_ratio parameters\n",
      "  warnings.warn(\n",
      "/Users/janjacob/anaconda3/lib/python3.10/site-packages/sklearn/linear_model/_logistic.py:1181: UserWarning: Setting penalty=None will ignore the C and l1_ratio parameters\n",
      "  warnings.warn(\n",
      "/Users/janjacob/anaconda3/lib/python3.10/site-packages/sklearn/linear_model/_logistic.py:1181: UserWarning: Setting penalty=None will ignore the C and l1_ratio parameters\n",
      "  warnings.warn(\n",
      "/Users/janjacob/anaconda3/lib/python3.10/site-packages/sklearn/linear_model/_logistic.py:1181: UserWarning: Setting penalty=None will ignore the C and l1_ratio parameters\n",
      "  warnings.warn(\n",
      "/Users/janjacob/anaconda3/lib/python3.10/site-packages/sklearn/linear_model/_logistic.py:1181: UserWarning: Setting penalty=None will ignore the C and l1_ratio parameters\n",
      "  warnings.warn(\n",
      "/Users/janjacob/anaconda3/lib/python3.10/site-packages/sklearn/linear_model/_logistic.py:1181: UserWarning: Setting penalty=None will ignore the C and l1_ratio parameters\n",
      "  warnings.warn(\n",
      "/Users/janjacob/anaconda3/lib/python3.10/site-packages/sklearn/linear_model/_logistic.py:1181: UserWarning: Setting penalty=None will ignore the C and l1_ratio parameters\n",
      "  warnings.warn(\n",
      "/Users/janjacob/anaconda3/lib/python3.10/site-packages/sklearn/linear_model/_logistic.py:1181: UserWarning: Setting penalty=None will ignore the C and l1_ratio parameters\n",
      "  warnings.warn(\n",
      "/Users/janjacob/anaconda3/lib/python3.10/site-packages/sklearn/linear_model/_logistic.py:1181: UserWarning: Setting penalty=None will ignore the C and l1_ratio parameters\n",
      "  warnings.warn(\n",
      "/Users/janjacob/anaconda3/lib/python3.10/site-packages/sklearn/linear_model/_logistic.py:1181: UserWarning: Setting penalty=None will ignore the C and l1_ratio parameters\n",
      "  warnings.warn(\n",
      "/Users/janjacob/anaconda3/lib/python3.10/site-packages/sklearn/linear_model/_logistic.py:1181: UserWarning: Setting penalty=None will ignore the C and l1_ratio parameters\n",
      "  warnings.warn(\n",
      "/Users/janjacob/anaconda3/lib/python3.10/site-packages/sklearn/linear_model/_logistic.py:1181: UserWarning: Setting penalty=None will ignore the C and l1_ratio parameters\n",
      "  warnings.warn(\n",
      "/Users/janjacob/anaconda3/lib/python3.10/site-packages/sklearn/linear_model/_logistic.py:1181: UserWarning: Setting penalty=None will ignore the C and l1_ratio parameters\n",
      "  warnings.warn(\n",
      "/Users/janjacob/anaconda3/lib/python3.10/site-packages/sklearn/linear_model/_logistic.py:1181: UserWarning: Setting penalty=None will ignore the C and l1_ratio parameters\n",
      "  warnings.warn(\n",
      "/Users/janjacob/anaconda3/lib/python3.10/site-packages/sklearn/linear_model/_logistic.py:1181: UserWarning: Setting penalty=None will ignore the C and l1_ratio parameters\n",
      "  warnings.warn(\n",
      "/Users/janjacob/anaconda3/lib/python3.10/site-packages/sklearn/linear_model/_logistic.py:1181: UserWarning: Setting penalty=None will ignore the C and l1_ratio parameters\n",
      "  warnings.warn(\n",
      "/Users/janjacob/anaconda3/lib/python3.10/site-packages/sklearn/linear_model/_logistic.py:1181: UserWarning: Setting penalty=None will ignore the C and l1_ratio parameters\n",
      "  warnings.warn(\n",
      "/Users/janjacob/anaconda3/lib/python3.10/site-packages/sklearn/linear_model/_logistic.py:1181: UserWarning: Setting penalty=None will ignore the C and l1_ratio parameters\n",
      "  warnings.warn(\n",
      "/Users/janjacob/anaconda3/lib/python3.10/site-packages/sklearn/linear_model/_logistic.py:1181: UserWarning: Setting penalty=None will ignore the C and l1_ratio parameters\n",
      "  warnings.warn(\n"
     ]
    },
    {
     "name": "stderr",
     "output_type": "stream",
     "text": [
      "/Users/janjacob/anaconda3/lib/python3.10/site-packages/sklearn/linear_model/_logistic.py:1181: UserWarning: Setting penalty=None will ignore the C and l1_ratio parameters\n",
      "  warnings.warn(\n",
      "/Users/janjacob/anaconda3/lib/python3.10/site-packages/sklearn/linear_model/_logistic.py:1181: UserWarning: Setting penalty=None will ignore the C and l1_ratio parameters\n",
      "  warnings.warn(\n",
      "/Users/janjacob/anaconda3/lib/python3.10/site-packages/sklearn/linear_model/_logistic.py:1181: UserWarning: Setting penalty=None will ignore the C and l1_ratio parameters\n",
      "  warnings.warn(\n",
      "/Users/janjacob/anaconda3/lib/python3.10/site-packages/sklearn/linear_model/_logistic.py:1181: UserWarning: Setting penalty=None will ignore the C and l1_ratio parameters\n",
      "  warnings.warn(\n",
      "/Users/janjacob/anaconda3/lib/python3.10/site-packages/sklearn/linear_model/_logistic.py:1181: UserWarning: Setting penalty=None will ignore the C and l1_ratio parameters\n",
      "  warnings.warn(\n",
      "/Users/janjacob/anaconda3/lib/python3.10/site-packages/sklearn/linear_model/_logistic.py:1181: UserWarning: Setting penalty=None will ignore the C and l1_ratio parameters\n",
      "  warnings.warn(\n",
      "/Users/janjacob/anaconda3/lib/python3.10/site-packages/sklearn/linear_model/_logistic.py:1181: UserWarning: Setting penalty=None will ignore the C and l1_ratio parameters\n",
      "  warnings.warn(\n",
      "/Users/janjacob/anaconda3/lib/python3.10/site-packages/sklearn/linear_model/_logistic.py:1181: UserWarning: Setting penalty=None will ignore the C and l1_ratio parameters\n",
      "  warnings.warn(\n",
      "/Users/janjacob/anaconda3/lib/python3.10/site-packages/sklearn/linear_model/_logistic.py:1181: UserWarning: Setting penalty=None will ignore the C and l1_ratio parameters\n",
      "  warnings.warn(\n",
      "/Users/janjacob/anaconda3/lib/python3.10/site-packages/sklearn/linear_model/_logistic.py:1181: UserWarning: Setting penalty=None will ignore the C and l1_ratio parameters\n",
      "  warnings.warn(\n",
      "/Users/janjacob/anaconda3/lib/python3.10/site-packages/sklearn/linear_model/_logistic.py:1181: UserWarning: Setting penalty=None will ignore the C and l1_ratio parameters\n",
      "  warnings.warn(\n",
      "/Users/janjacob/anaconda3/lib/python3.10/site-packages/sklearn/linear_model/_logistic.py:1181: UserWarning: Setting penalty=None will ignore the C and l1_ratio parameters\n",
      "  warnings.warn(\n",
      "/Users/janjacob/anaconda3/lib/python3.10/site-packages/sklearn/linear_model/_logistic.py:1181: UserWarning: Setting penalty=None will ignore the C and l1_ratio parameters\n",
      "  warnings.warn(\n",
      "/Users/janjacob/anaconda3/lib/python3.10/site-packages/sklearn/linear_model/_logistic.py:1181: UserWarning: Setting penalty=None will ignore the C and l1_ratio parameters\n",
      "  warnings.warn(\n",
      "/Users/janjacob/anaconda3/lib/python3.10/site-packages/sklearn/linear_model/_logistic.py:1181: UserWarning: Setting penalty=None will ignore the C and l1_ratio parameters\n",
      "  warnings.warn(\n",
      "/Users/janjacob/anaconda3/lib/python3.10/site-packages/sklearn/linear_model/_logistic.py:1181: UserWarning: Setting penalty=None will ignore the C and l1_ratio parameters\n",
      "  warnings.warn(\n",
      "/Users/janjacob/anaconda3/lib/python3.10/site-packages/sklearn/linear_model/_logistic.py:1181: UserWarning: Setting penalty=None will ignore the C and l1_ratio parameters\n",
      "  warnings.warn(\n",
      "/Users/janjacob/anaconda3/lib/python3.10/site-packages/sklearn/linear_model/_logistic.py:1181: UserWarning: Setting penalty=None will ignore the C and l1_ratio parameters\n",
      "  warnings.warn(\n",
      "/Users/janjacob/anaconda3/lib/python3.10/site-packages/sklearn/linear_model/_logistic.py:1181: UserWarning: Setting penalty=None will ignore the C and l1_ratio parameters\n",
      "  warnings.warn(\n",
      "/Users/janjacob/anaconda3/lib/python3.10/site-packages/sklearn/linear_model/_logistic.py:1181: UserWarning: Setting penalty=None will ignore the C and l1_ratio parameters\n",
      "  warnings.warn(\n",
      "/Users/janjacob/anaconda3/lib/python3.10/site-packages/sklearn/linear_model/_logistic.py:1181: UserWarning: Setting penalty=None will ignore the C and l1_ratio parameters\n",
      "  warnings.warn(\n",
      "/Users/janjacob/anaconda3/lib/python3.10/site-packages/sklearn/linear_model/_logistic.py:1181: UserWarning: Setting penalty=None will ignore the C and l1_ratio parameters\n",
      "  warnings.warn(\n",
      "/Users/janjacob/anaconda3/lib/python3.10/site-packages/sklearn/linear_model/_logistic.py:1181: UserWarning: Setting penalty=None will ignore the C and l1_ratio parameters\n",
      "  warnings.warn(\n",
      "/Users/janjacob/anaconda3/lib/python3.10/site-packages/sklearn/linear_model/_logistic.py:1181: UserWarning: Setting penalty=None will ignore the C and l1_ratio parameters\n",
      "  warnings.warn(\n",
      "/Users/janjacob/anaconda3/lib/python3.10/site-packages/sklearn/linear_model/_logistic.py:1181: UserWarning: Setting penalty=None will ignore the C and l1_ratio parameters\n",
      "  warnings.warn(\n",
      "/Users/janjacob/anaconda3/lib/python3.10/site-packages/sklearn/linear_model/_logistic.py:1181: UserWarning: Setting penalty=None will ignore the C and l1_ratio parameters\n",
      "  warnings.warn(\n",
      "/Users/janjacob/anaconda3/lib/python3.10/site-packages/sklearn/linear_model/_logistic.py:1181: UserWarning: Setting penalty=None will ignore the C and l1_ratio parameters\n",
      "  warnings.warn(\n",
      "/Users/janjacob/anaconda3/lib/python3.10/site-packages/sklearn/linear_model/_logistic.py:1181: UserWarning: Setting penalty=None will ignore the C and l1_ratio parameters\n",
      "  warnings.warn(\n",
      "/Users/janjacob/anaconda3/lib/python3.10/site-packages/sklearn/linear_model/_logistic.py:1181: UserWarning: Setting penalty=None will ignore the C and l1_ratio parameters\n",
      "  warnings.warn(\n",
      "/Users/janjacob/anaconda3/lib/python3.10/site-packages/sklearn/linear_model/_logistic.py:1181: UserWarning: Setting penalty=None will ignore the C and l1_ratio parameters\n",
      "  warnings.warn(\n",
      "/Users/janjacob/anaconda3/lib/python3.10/site-packages/sklearn/linear_model/_logistic.py:1181: UserWarning: Setting penalty=None will ignore the C and l1_ratio parameters\n",
      "  warnings.warn(\n",
      "/Users/janjacob/anaconda3/lib/python3.10/site-packages/sklearn/linear_model/_logistic.py:1181: UserWarning: Setting penalty=None will ignore the C and l1_ratio parameters\n",
      "  warnings.warn(\n",
      "/Users/janjacob/anaconda3/lib/python3.10/site-packages/sklearn/linear_model/_logistic.py:1181: UserWarning: Setting penalty=None will ignore the C and l1_ratio parameters\n",
      "  warnings.warn(\n",
      "/Users/janjacob/anaconda3/lib/python3.10/site-packages/sklearn/linear_model/_logistic.py:1181: UserWarning: Setting penalty=None will ignore the C and l1_ratio parameters\n",
      "  warnings.warn(\n",
      "/Users/janjacob/anaconda3/lib/python3.10/site-packages/sklearn/linear_model/_logistic.py:1181: UserWarning: Setting penalty=None will ignore the C and l1_ratio parameters\n",
      "  warnings.warn(\n",
      "/Users/janjacob/anaconda3/lib/python3.10/site-packages/sklearn/linear_model/_logistic.py:1181: UserWarning: Setting penalty=None will ignore the C and l1_ratio parameters\n",
      "  warnings.warn(\n",
      "/Users/janjacob/anaconda3/lib/python3.10/site-packages/sklearn/linear_model/_logistic.py:1181: UserWarning: Setting penalty=None will ignore the C and l1_ratio parameters\n",
      "  warnings.warn(\n",
      "/Users/janjacob/anaconda3/lib/python3.10/site-packages/sklearn/linear_model/_logistic.py:1181: UserWarning: Setting penalty=None will ignore the C and l1_ratio parameters\n",
      "  warnings.warn(\n",
      "/Users/janjacob/anaconda3/lib/python3.10/site-packages/sklearn/linear_model/_logistic.py:1181: UserWarning: Setting penalty=None will ignore the C and l1_ratio parameters\n",
      "  warnings.warn(\n",
      "/Users/janjacob/anaconda3/lib/python3.10/site-packages/sklearn/linear_model/_logistic.py:1181: UserWarning: Setting penalty=None will ignore the C and l1_ratio parameters\n",
      "  warnings.warn(\n",
      "/Users/janjacob/anaconda3/lib/python3.10/site-packages/sklearn/linear_model/_logistic.py:1181: UserWarning: Setting penalty=None will ignore the C and l1_ratio parameters\n",
      "  warnings.warn(\n",
      "/Users/janjacob/anaconda3/lib/python3.10/site-packages/sklearn/linear_model/_logistic.py:1181: UserWarning: Setting penalty=None will ignore the C and l1_ratio parameters\n",
      "  warnings.warn(\n",
      "/Users/janjacob/anaconda3/lib/python3.10/site-packages/sklearn/linear_model/_logistic.py:1181: UserWarning: Setting penalty=None will ignore the C and l1_ratio parameters\n",
      "  warnings.warn(\n",
      "/Users/janjacob/anaconda3/lib/python3.10/site-packages/sklearn/linear_model/_logistic.py:1181: UserWarning: Setting penalty=None will ignore the C and l1_ratio parameters\n",
      "  warnings.warn(\n",
      "/Users/janjacob/anaconda3/lib/python3.10/site-packages/sklearn/linear_model/_logistic.py:1181: UserWarning: Setting penalty=None will ignore the C and l1_ratio parameters\n",
      "  warnings.warn(\n",
      "/Users/janjacob/anaconda3/lib/python3.10/site-packages/sklearn/linear_model/_logistic.py:1181: UserWarning: Setting penalty=None will ignore the C and l1_ratio parameters\n",
      "  warnings.warn(\n",
      "/Users/janjacob/anaconda3/lib/python3.10/site-packages/sklearn/linear_model/_logistic.py:1181: UserWarning: Setting penalty=None will ignore the C and l1_ratio parameters\n",
      "  warnings.warn(\n",
      "/Users/janjacob/anaconda3/lib/python3.10/site-packages/sklearn/linear_model/_logistic.py:1181: UserWarning: Setting penalty=None will ignore the C and l1_ratio parameters\n",
      "  warnings.warn(\n",
      "/Users/janjacob/anaconda3/lib/python3.10/site-packages/sklearn/linear_model/_logistic.py:1181: UserWarning: Setting penalty=None will ignore the C and l1_ratio parameters\n",
      "  warnings.warn(\n",
      "/Users/janjacob/anaconda3/lib/python3.10/site-packages/sklearn/linear_model/_logistic.py:1181: UserWarning: Setting penalty=None will ignore the C and l1_ratio parameters\n",
      "  warnings.warn(\n",
      "/Users/janjacob/anaconda3/lib/python3.10/site-packages/sklearn/linear_model/_logistic.py:1181: UserWarning: Setting penalty=None will ignore the C and l1_ratio parameters\n",
      "  warnings.warn(\n",
      "/Users/janjacob/anaconda3/lib/python3.10/site-packages/sklearn/linear_model/_logistic.py:1181: UserWarning: Setting penalty=None will ignore the C and l1_ratio parameters\n",
      "  warnings.warn(\n",
      "/Users/janjacob/anaconda3/lib/python3.10/site-packages/sklearn/linear_model/_logistic.py:1181: UserWarning: Setting penalty=None will ignore the C and l1_ratio parameters\n",
      "  warnings.warn(\n",
      "/Users/janjacob/anaconda3/lib/python3.10/site-packages/sklearn/linear_model/_logistic.py:1181: UserWarning: Setting penalty=None will ignore the C and l1_ratio parameters\n",
      "  warnings.warn(\n"
     ]
    },
    {
     "name": "stdout",
     "output_type": "stream",
     "text": [
      "Best: 0.749738 using {'C': 0.001, 'dual': False, 'fit_intercept': True, 'penalty': 'l2', 'tol': 100}\n"
     ]
    }
   ],
   "source": [
    "params_logreg = {'penalty': [None, 'l1', 'l2'],\n",
    "                 'dual': [True, False],\n",
    "                 'tol': [.001, .01, .1, 1, 10, 100],\n",
    "                 'C': [.001, .01, .1, 1, 10, 100],\n",
    "                 'fit_intercept': [True, False]\n",
    "                 }\n",
    "\n",
    "grid_logreg = GridSearchCV(LogisticRegression(), param_grid = params_logreg, n_jobs = -1, cv = 5)\n",
    "grid_logreg = grid_logreg.fit(X_train, y_train)\n",
    "print(\"Best: %f using %s\" % (grid_logreg.best_score_, grid_logreg.best_params_))"
   ]
  },
  {
   "cell_type": "code",
   "execution_count": 986,
   "id": "6d03a221",
   "metadata": {},
   "outputs": [
    {
     "name": "stdout",
     "output_type": "stream",
     "text": [
      "              precision    recall  f1-score   support\n",
      "\n",
      "         0.0       0.73      0.75      0.74       791\n",
      "         1.0       0.76      0.74      0.75       833\n",
      "\n",
      "    accuracy                           0.74      1624\n",
      "   macro avg       0.74      0.74      0.74      1624\n",
      "weighted avg       0.74      0.74      0.74      1624\n",
      "\n"
     ]
    },
    {
     "data": {
      "text/plain": [
       "0.7438423645320197"
      ]
     },
     "execution_count": 986,
     "metadata": {},
     "output_type": "execute_result"
    }
   ],
   "source": [
    "y_pred_logreg_grid = grid_logreg.predict(X_test)\n",
    "\n",
    "print(classification_report(y_test, y_pred_logreg_grid))\n",
    "model_logreg_accuracy_grid = accuracy_score(y_test, y_pred_logreg_grid)\n",
    "model_logreg_accuracy_grid"
   ]
  },
  {
   "cell_type": "code",
   "execution_count": 987,
   "id": "5cc9ea0f",
   "metadata": {},
   "outputs": [],
   "source": [
    "model_grid_logreg_prediction_pd = first_round_2022_prediction_pd.copy()\n",
    "\n",
    "probabilities = []\n",
    "\n",
    "for i in range(len(model_grid_logreg_prediction_pd)):\n",
    "    w_team = model_grid_logreg_prediction_pd.iloc[i, 0]\n",
    "    l_team = model_grid_logreg_prediction_pd.iloc[i, 1]\n",
    "    w_data = getSeasonData(w_team, 2022)\n",
    "    l_data = getSeasonData(l_team, 2022)\n",
    "    prob = predictOutcome(w_data, l_data, grid_logreg)\n",
    "    probabilities.append(prob)"
   ]
  },
  {
   "cell_type": "code",
   "execution_count": 988,
   "id": "8080bcf5",
   "metadata": {},
   "outputs": [
    {
     "data": {
      "text/plain": [
       "count    32.000000\n",
       "mean      0.623574\n",
       "std       0.238004\n",
       "min       0.069938\n",
       "25%       0.442234\n",
       "50%       0.626679\n",
       "75%       0.817988\n",
       "max       0.964116\n",
       "Name: Grid_LogReg_Probabilities, dtype: float64"
      ]
     },
     "execution_count": 988,
     "metadata": {},
     "output_type": "execute_result"
    }
   ],
   "source": [
    "probabilites = np.array(probabilities)\n",
    "model_grid_logreg_prediction_pd['Grid_LogReg_Probabilities'] = probabilites[:, 1]\n",
    "model_grid_logreg_prediction_pd['Grid_LogReg_Probabilities'].describe()"
   ]
  },
  {
   "cell_type": "code",
   "execution_count": 992,
   "id": "7d8f89eb",
   "metadata": {},
   "outputs": [
    {
     "data": {
      "image/png": "[encoded data removed]",
      "text/plain": [
       "<Figure size 640x480 with 1 Axes>"
      ]
     },
     "metadata": {},
     "output_type": "display_data"
    },
    {
     "name": "stdout",
     "output_type": "stream",
     "text": [
      "Accuracy for Predicting Round 1 is: 0.65625\n"
     ]
    }
   ],
   "source": [
    "model_grid_logreg_prediction_pd['Grid_LogReg_Probabilities'].hist(bins = 10)\n",
    "plt.xlabel(\"Probabilities\")\n",
    "plt.ylabel(\"Frequency\")\n",
    "plt.title(\"Distribution of Probabilities\")\n",
    "plt.show()\n",
    "model_grid_logreg_accuracy_tournament = len(model_grid_logreg_prediction_pd[model_grid_logreg_prediction_pd['Grid_LogReg_Probabilities'] >= .5]) / 32\n",
    "print(\"Accuracy for Predicting Round 1 is:\", model_grid_logreg_accuracy_tournament)"
   ]
  },
  {
   "cell_type": "code",
   "execution_count": 993,
   "id": "706bc110",
   "metadata": {},
   "outputs": [
    {
     "name": "stdout",
     "output_type": "stream",
     "text": [
      "Gonzaga vs. Georgia St. Prediction: 0.956976319976059\n",
      "UCLA vs. Akron Prediction: 0.8473478639845353\n",
      "North Carolina vs. Marquette: 0.7859891478829071\n",
      "Notre Dame vs. Alabama: 0.6012375903938659\n",
      "St. Peter's vs. Kentucky: 0.06993826632170393\n"
     ]
    }
   ],
   "source": [
    "print(\"Gonzaga vs. Georgia St. Prediction:\", model_grid_logreg_prediction_pd.iloc[3, 2])\n",
    "print(\"UCLA vs. Akron Prediction:\", model_grid_logreg_prediction_pd.iloc[15, 2])\n",
    "print(\"North Carolina vs. Marquette:\", model_grid_logreg_prediction_pd.iloc[9, 2])\n",
    "print(\"Notre Dame vs. Alabama:\", model_grid_logreg_prediction_pd.iloc[24, 2])\n",
    "print(\"St. Peter's vs. Kentucky:\", model_grid_logreg_prediction_pd.iloc[13, 2])"
   ]
  },
  {
   "cell_type": "code",
   "execution_count": 994,
   "id": "f80b8dc5",
   "metadata": {},
   "outputs": [],
   "source": [
    "results.append({'Name': 'Logistic_Regression_HTuned',\n",
    "                'Training_Acc': model_logreg_accuracy_grid, \n",
    "                'Tournament_Acc': model_grid_logreg_accuracy_tournament\n",
    "               })"
   ]
  },
  {
   "cell_type": "markdown",
   "id": "72d5469d",
   "metadata": {},
   "source": [
    "Ironically, hyperparameter tuning was worse than the default. It had a lower mean percentage of probabilities and worst off all, a worse tournament prediction accuracy. This could be since we did not choose every hyperparamter, but we still chose a lot. Things be weird."
   ]
  },
  {
   "cell_type": "markdown",
   "id": "e95865dd",
   "metadata": {},
   "source": [
    "### KNN"
   ]
  },
  {
   "cell_type": "code",
   "execution_count": 995,
   "id": "663a64b0",
   "metadata": {},
   "outputs": [],
   "source": [
    "from sklearn.neighbors import KNeighborsClassifier"
   ]
  },
  {
   "cell_type": "markdown",
   "id": "97f4289e",
   "metadata": {},
   "source": [
    "In theory, KNN would be the best model for predicting March Madness. The only problem is, you would have to find the best *n* or keep changing *n* to optimize results. We can start with the best *n* with default parameters."
   ]
  },
  {
   "cell_type": "markdown",
   "id": "354ac973",
   "metadata": {},
   "source": [
    "#### The Best N"
   ]
  },
  {
   "cell_type": "code",
   "execution_count": 996,
   "id": "24797f0a",
   "metadata": {},
   "outputs": [],
   "source": [
    "# We will use AUC and ROC curve to pick out the best N. Again, will take a while\n",
    "from sklearn.metrics import roc_curve, auc\n",
    "\n",
    "ns = list(range(25, 300))\n",
    "n_result = []\n",
    "for n in ns:\n",
    "    model = KNeighborsClassifier(n_neighbors = n)\n",
    "    model.fit(X_train, y_train)\n",
    "    y_pred = model.predict(X_test)\n",
    "    \n",
    "    fpr, tpr, thresholds = roc_curve(y_test, y_pred)\n",
    "    roc_auc = auc(fpr, tpr)\n",
    "    n_result.append(roc_auc)"
   ]
  },
  {
   "cell_type": "code",
   "execution_count": 997,
   "id": "314012aa",
   "metadata": {},
   "outputs": [
    {
     "data": {
      "image/png": "[encoded data removed]",
      "text/plain": [
       "<Figure size 640x480 with 1 Axes>"
      ]
     },
     "metadata": {},
     "output_type": "display_data"
    },
    {
     "name": "stdout",
     "output_type": "stream",
     "text": [
      "Best Accuracy: 0.7481647526267143 at N = 242\n"
     ]
    }
   ],
   "source": [
    "plt.plot(ns, n_result)\n",
    "plt.xlabel(\"Number of Neighbors\")\n",
    "plt.ylabel(\"AUC Score\")\n",
    "plt.title(\"Finding the Best N\")\n",
    "plt.show()\n",
    "# Because Index 0 is n = 25, Index 1 is n = 26, and so forth\n",
    "print(\"Best Accuracy:\", max(n_result), \"at N =\", n_result.index(max(n_result)) + 25)"
   ]
  },
  {
   "cell_type": "code",
   "execution_count": 998,
   "id": "b2dcf913",
   "metadata": {},
   "outputs": [
    {
     "name": "stdout",
     "output_type": "stream",
     "text": [
      "              precision    recall  f1-score   support\n",
      "\n",
      "         0.0       0.73      0.77      0.75       791\n",
      "         1.0       0.77      0.72      0.75       833\n",
      "\n",
      "    accuracy                           0.75      1624\n",
      "   macro avg       0.75      0.75      0.75      1624\n",
      "weighted avg       0.75      0.75      0.75      1624\n",
      "\n"
     ]
    },
    {
     "data": {
      "text/plain": [
       "0.7475369458128078"
      ]
     },
     "execution_count": 998,
     "metadata": {},
     "output_type": "execute_result"
    }
   ],
   "source": [
    "model_knn242 = KNeighborsClassifier(242)\n",
    "model_knn242 = model_knn242.fit(X_train, y_train)\n",
    "y_pred_knn242 = model_knn242.predict(X_test)\n",
    "\n",
    "print(classification_report(y_test, y_pred_knn242))\n",
    "model_knn242_accuracy = accuracy_score(y_test, y_pred_knn242)\n",
    "model_knn242_accuracy"
   ]
  },
  {
   "cell_type": "code",
   "execution_count": 999,
   "id": "e4b20db1",
   "metadata": {},
   "outputs": [],
   "source": [
    "model_knn242_prediction_pd = first_round_2022_prediction_pd.copy()\n",
    "\n",
    "probabilities = []\n",
    "\n",
    "for i in range(len(model_knn242_prediction_pd)):\n",
    "    w_team = model_knn242_prediction_pd.iloc[i, 0]\n",
    "    l_team = model_knn242_prediction_pd.iloc[i, 1]\n",
    "    w_data = getSeasonData(w_team, 2022)\n",
    "    l_data = getSeasonData(l_team, 2022)\n",
    "    prob = predictOutcome(w_data, l_data, model_knn242)\n",
    "    probabilities.append(prob)"
   ]
  },
  {
   "cell_type": "code",
   "execution_count": 1000,
   "id": "635685d2",
   "metadata": {},
   "outputs": [
    {
     "data": {
      "text/plain": [
       "count    32.000000\n",
       "mean      0.580708\n",
       "std       0.183861\n",
       "min       0.210744\n",
       "25%       0.429752\n",
       "50%       0.597107\n",
       "75%       0.716942\n",
       "max       0.863636\n",
       "Name: KNN242_Probabilities, dtype: float64"
      ]
     },
     "execution_count": 1000,
     "metadata": {},
     "output_type": "execute_result"
    }
   ],
   "source": [
    "probabilites = np.array(probabilities)\n",
    "model_knn242_prediction_pd['KNN242_Probabilities'] = probabilites[:, 1]\n",
    "model_knn242_prediction_pd['KNN242_Probabilities'].describe()"
   ]
  },
  {
   "cell_type": "code",
   "execution_count": 1001,
   "id": "1efafdc9",
   "metadata": {},
   "outputs": [
    {
     "data": {
      "image/png": "[encoded data removed]",
      "text/plain": [
       "<Figure size 640x480 with 1 Axes>"
      ]
     },
     "metadata": {},
     "output_type": "display_data"
    },
    {
     "name": "stdout",
     "output_type": "stream",
     "text": [
      "Accuracy for Predicting Round 1 is: 0.59375\n"
     ]
    }
   ],
   "source": [
    "model_knn242_prediction_pd['KNN242_Probabilities'].hist(bins = 10)\n",
    "plt.xlabel(\"Probabilities\")\n",
    "plt.ylabel(\"Frequency\")\n",
    "plt.title(\"Distribution of Probabilities\")\n",
    "plt.show()\n",
    "model_knn242_accuracy_tournament = len(model_knn242_prediction_pd[model_knn242_prediction_pd['KNN242_Probabilities'] >= .5]) / 32\n",
    "print(\"Accuracy for Predicting Round 1 is:\", model_knn242_accuracy_tournament)"
   ]
  },
  {
   "cell_type": "code",
   "execution_count": 1002,
   "id": "11a20adc",
   "metadata": {},
   "outputs": [
    {
     "name": "stdout",
     "output_type": "stream",
     "text": [
      "Gonzaga vs. Georgia St. Prediction: 0.8471074380165289\n",
      "UCLA vs. Akron Prediction: 0.7644628099173554\n",
      "North Carolina vs. Marquette: 0.7396694214876033\n",
      "Notre Dame vs. Alabama: 0.5537190082644629\n",
      "St. Peter's vs. Kentucky: 0.21074380165289255\n"
     ]
    }
   ],
   "source": [
    "print(\"Gonzaga vs. Georgia St. Prediction:\", model_knn242_prediction_pd.iloc[3, 2])\n",
    "print(\"UCLA vs. Akron Prediction:\", model_knn242_prediction_pd.iloc[15, 2])\n",
    "print(\"North Carolina vs. Marquette:\", model_knn242_prediction_pd.iloc[9, 2])\n",
    "print(\"Notre Dame vs. Alabama:\", model_knn242_prediction_pd.iloc[24, 2])\n",
    "print(\"St. Peter's vs. Kentucky:\", model_knn242_prediction_pd.iloc[13, 2])"
   ]
  },
  {
   "cell_type": "code",
   "execution_count": 1003,
   "id": "8e9fbf02",
   "metadata": {},
   "outputs": [],
   "source": [
    "results.append({'Name': 'KNN242',\n",
    "                'Training_Acc': model_knn242_accuracy, \n",
    "                'Tournament_Acc': model_knn242_accuracy_tournament\n",
    "               })"
   ]
  },
  {
   "cell_type": "markdown",
   "id": "f5a9ca8d",
   "metadata": {},
   "source": [
    "The worst performer on the tourney analysis so far with a sub 60% accuracy. It did not make up for the fact that it still could not predict St. Peter's upset, so this is definitely out of the picture. Or we can try tuning it a little."
   ]
  },
  {
   "cell_type": "markdown",
   "id": "2544f41e",
   "metadata": {},
   "source": [
    "#### With Some Tuning"
   ]
  },
  {
   "cell_type": "markdown",
   "id": "c4370237",
   "metadata": {},
   "source": [
    "I would like to note that running the cell directly below this one will give different results each time it is run. If we were to choose this as our prototype, we will run this exact cell and roll with it."
   ]
  },
  {
   "cell_type": "code",
   "execution_count": 1005,
   "id": "cac94778",
   "metadata": {},
   "outputs": [
    {
     "name": "stdout",
     "output_type": "stream",
     "text": [
      "Best: 0.747889 using {'weights': 'uniform', 'p': 1, 'n_neighbors': 361, 'leaf_size': 15, 'algorithm': 'brute'}\n"
     ]
    }
   ],
   "source": [
    "# Because GridSearchCV is so slow\n",
    "from sklearn.model_selection import RandomizedSearchCV\n",
    "                  \n",
    "params_knn_best = {'n_neighbors': list(range(1, 300)),\n",
    "                 'weights': ['uniform', 'distance'],\n",
    "                 'algorithm': ['auto', 'ball_tree', 'kd_tree', 'brute'],\n",
    "                 'leaf_size': [10, 20, 30, 50, 100, 200],\n",
    "                 'p': [1, 2, 3, 4]}\n",
    "\n",
    "random_knn_best = RandomizedSearchCV(KNeighborsClassifier(), param_distributions = params_knn242, n_jobs = -1, cv = 5)\n",
    "random_knn_best = grid_knn242.fit(X_train, y_train)\n",
    "print(\"Best: %f using %s\" % (grid_knn242.best_score_, grid_knn242.best_params_))"
   ]
  },
  {
   "cell_type": "code",
   "execution_count": 1006,
   "id": "5c61e14f",
   "metadata": {},
   "outputs": [
    {
     "name": "stdout",
     "output_type": "stream",
     "text": [
      "              precision    recall  f1-score   support\n",
      "\n",
      "         0.0       0.73      0.76      0.74       791\n",
      "         1.0       0.76      0.73      0.74       833\n",
      "\n",
      "    accuracy                           0.74      1624\n",
      "   macro avg       0.74      0.74      0.74      1624\n",
      "weighted avg       0.74      0.74      0.74      1624\n",
      "\n"
     ]
    },
    {
     "data": {
      "text/plain": [
       "0.7438423645320197"
      ]
     },
     "execution_count": 1006,
     "metadata": {},
     "output_type": "execute_result"
    }
   ],
   "source": [
    "y_pred_knn_random = random_knn_best.predict(X_test)\n",
    "\n",
    "print(classification_report(y_test, y_pred_knn_random))\n",
    "model_knn_accuracy_random = accuracy_score(y_test, y_pred_logreg_grid)\n",
    "model_knn_accuracy_random"
   ]
  },
  {
   "cell_type": "code",
   "execution_count": 1007,
   "id": "1c69d086",
   "metadata": {},
   "outputs": [],
   "source": [
    "model_random_knn_prediction_pd = first_round_2022_prediction_pd.copy()\n",
    "\n",
    "probabilities = []\n",
    "\n",
    "for i in range(len(model_random_knn_prediction_pd)):\n",
    "    w_team = model_random_knn_prediction_pd.iloc[i, 0]\n",
    "    l_team = model_random_knn_prediction_pd.iloc[i, 1]\n",
    "    w_data = getSeasonData(w_team, 2022)\n",
    "    l_data = getSeasonData(l_team, 2022)\n",
    "    prob = predictOutcome(w_data, l_data, random_knn_best)\n",
    "    probabilities.append(prob)"
   ]
  },
  {
   "cell_type": "code",
   "execution_count": 1011,
   "id": "79a8fa6a",
   "metadata": {},
   "outputs": [
    {
     "data": {
      "text/plain": [
       "count    32.000000\n",
       "mean      0.571330\n",
       "std       0.176863\n",
       "min       0.182825\n",
       "25%       0.423823\n",
       "50%       0.560942\n",
       "75%       0.725069\n",
       "max       0.847645\n",
       "Name: KNN_Best_Probabilities, dtype: float64"
      ]
     },
     "execution_count": 1011,
     "metadata": {},
     "output_type": "execute_result"
    }
   ],
   "source": [
    "probabilites = np.array(probabilities)\n",
    "model_random_knn_prediction_pd['KNN_Best_Probabilities'] = probabilites[:, 1]\n",
    "model_random_knn_prediction_pd['KNN_Best_Probabilities'].describe()"
   ]
  },
  {
   "cell_type": "code",
   "execution_count": 1012,
   "id": "88087fe0",
   "metadata": {},
   "outputs": [
    {
     "data": {
      "image/png": "[encoded data removed]",
      "text/plain": [
       "<Figure size 640x480 with 1 Axes>"
      ]
     },
     "metadata": {},
     "output_type": "display_data"
    },
    {
     "name": "stdout",
     "output_type": "stream",
     "text": [
      "Accuracy for Predicting Round 1 is: 0.59375\n"
     ]
    }
   ],
   "source": [
    "model_random_knn_prediction_pd['KNN_Best_Probabilities'].hist(bins = 10)\n",
    "plt.xlabel(\"Probabilities\")\n",
    "plt.ylabel(\"Frequency\")\n",
    "plt.title(\"Distribution of Probabilities\")\n",
    "plt.show()\n",
    "model_random_knn_accuracy_tournament = len(model_random_knn_prediction_pd[model_random_knn_prediction_pd['KNN_Best_Probabilities'] >= .5]) / 32\n",
    "print(\"Accuracy for Predicting Round 1 is:\", model_random_knn_accuracy_tournament)"
   ]
  },
  {
   "cell_type": "code",
   "execution_count": 1013,
   "id": "da8a477e",
   "metadata": {},
   "outputs": [
    {
     "name": "stdout",
     "output_type": "stream",
     "text": [
      "Gonzaga vs. Georgia St. Prediction: 0.8476454293628809\n",
      "UCLA vs. Akron Prediction: 0.7313019390581718\n",
      "North Carolina vs. Marquette: 0.7063711911357341\n",
      "Notre Dame vs. Alabama: 0.5844875346260388\n",
      "St. Peter's vs. Kentucky: 0.18282548476454294\n"
     ]
    }
   ],
   "source": [
    "print(\"Gonzaga vs. Georgia St. Prediction:\", model_random_knn_prediction_pd.iloc[3, 2])\n",
    "print(\"UCLA vs. Akron Prediction:\", model_random_knn_prediction_pd.iloc[15, 2])\n",
    "print(\"North Carolina vs. Marquette:\", model_random_knn_prediction_pd.iloc[9, 2])\n",
    "print(\"Notre Dame vs. Alabama:\", model_random_knn_prediction_pd.iloc[24, 2])\n",
    "print(\"St. Peter's vs. Kentucky:\", model_random_knn_prediction_pd.iloc[13, 2])"
   ]
  },
  {
   "cell_type": "code",
   "execution_count": 1014,
   "id": "ff4625d4",
   "metadata": {},
   "outputs": [],
   "source": [
    "results.append({'Name': 'KNN_Best',\n",
    "                'Training_Acc': model_knn_accuracy_random, \n",
    "                'Tournament_Acc': model_random_knn_accuracy_tournament\n",
    "               })"
   ]
  },
  {
   "cell_type": "markdown",
   "id": "bb0006cc",
   "metadata": {},
   "source": [
    "Well, not much different to N = 242, so yeah..."
   ]
  },
  {
   "cell_type": "markdown",
   "id": "5eb1f643",
   "metadata": {},
   "source": [
    "###  XGBoost"
   ]
  },
  {
   "cell_type": "code",
   "execution_count": 1015,
   "id": "f7474489",
   "metadata": {},
   "outputs": [],
   "source": [
    "import xgboost as xgb"
   ]
  },
  {
   "cell_type": "markdown",
   "id": "0d5b0b1b",
   "metadata": {},
   "source": [
    "Finally we will look at XGBoost, one of the main Boosting techniques. Because Decision Trees and Random Forest do really bad for this type of problem, it is not worth looking at. There will also be no need to hyperparameter tune."
   ]
  },
  {
   "cell_type": "code",
   "execution_count": 1016,
   "id": "880f6ce9",
   "metadata": {},
   "outputs": [
    {
     "name": "stdout",
     "output_type": "stream",
     "text": [
      "[23:58:16] WARNING: ../src/learner.cc:1115: Starting in XGBoost 1.3.0, the default evaluation metric used with the objective 'binary:logistic' was changed from 'error' to 'logloss'. Explicitly set eval_metric if you'd like to restore the old behavior.\n",
      "              precision    recall  f1-score   support\n",
      "\n",
      "         0.0       0.69      0.70      0.69       791\n",
      "         1.0       0.71      0.70      0.70       833\n",
      "\n",
      "    accuracy                           0.70      1624\n",
      "   macro avg       0.70      0.70      0.70      1624\n",
      "weighted avg       0.70      0.70      0.70      1624\n",
      "\n",
      "Test error: 0.301\n"
     ]
    }
   ],
   "source": [
    "model_xgb = xgb.XGBClassifier(seed = 1424, nthread = 1)\n",
    "model_xgb = model_xgb.fit(X_train, y_train, verbose = 10)\n",
    "\n",
    "y_pred_xgb = model_xgb.predict(X_test)\n",
    "model_xgb_accuracy = accuracy_score(y_test, y_pred_xgb)\n",
    "print(classification_report(y_test, y_pred_xgb))\n",
    "print(\"Test error: {:.3f}\".format(1 - model_xgb_accuracy))"
   ]
  },
  {
   "cell_type": "code",
   "execution_count": 1017,
   "id": "e6665b4c",
   "metadata": {},
   "outputs": [],
   "source": [
    "model_xgb_prediction_pd = first_round_2022_prediction_pd.copy()\n",
    "\n",
    "probabilities = []\n",
    "\n",
    "for i in range(len(model_xgb_prediction_pd)):\n",
    "    w_team = model_xgb_prediction_pd.iloc[i, 0]\n",
    "    l_team = model_xgb_prediction_pd.iloc[i, 1]\n",
    "    w_data = getSeasonData(w_team, 2022)\n",
    "    l_data = getSeasonData(l_team, 2022)\n",
    "    prob = predictOutcome(w_data, l_data, model_xgb)\n",
    "    probabilities.append(prob)"
   ]
  },
  {
   "cell_type": "code",
   "execution_count": 1018,
   "id": "0535e656",
   "metadata": {},
   "outputs": [
    {
     "data": {
      "text/plain": [
       "count    32.000000\n",
       "mean      0.721195\n",
       "std       0.318925\n",
       "min       0.087549\n",
       "25%       0.512458\n",
       "50%       0.895675\n",
       "75%       0.984893\n",
       "max       0.999582\n",
       "Name: XGB_Probabilities, dtype: float64"
      ]
     },
     "execution_count": 1018,
     "metadata": {},
     "output_type": "execute_result"
    }
   ],
   "source": [
    "probabilites = np.array(probabilities)\n",
    "model_xgb_prediction_pd['XGB_Probabilities'] = probabilites[:, 1]\n",
    "model_xgb_prediction_pd['XGB_Probabilities'].describe()"
   ]
  },
  {
   "cell_type": "code",
   "execution_count": 1019,
   "id": "801a46f9",
   "metadata": {},
   "outputs": [
    {
     "data": {
      "image/png": "[encoded data removed]",
      "text/plain": [
       "<Figure size 640x480 with 1 Axes>"
      ]
     },
     "metadata": {},
     "output_type": "display_data"
    },
    {
     "name": "stdout",
     "output_type": "stream",
     "text": [
      "Accuracy for Predicting Round 1 is: 0.75\n"
     ]
    }
   ],
   "source": [
    "model_xgb_prediction_pd['XGB_Probabilities'].hist(bins = 10)\n",
    "plt.xlabel(\"Probabilities\")\n",
    "plt.ylabel(\"Frequency\")\n",
    "plt.title(\"Distribution of Probabilities\")\n",
    "plt.show()\n",
    "model_xgb_accuracy_tournament = len(model_xgb_prediction_pd[model_xgb_prediction_pd['XGB_Probabilities'] >= .5]) / 32\n",
    "print(\"Accuracy for Predicting Round 1 is:\", model_xgb_accuracy_tournament)"
   ]
  },
  {
   "cell_type": "code",
   "execution_count": 1020,
   "id": "2f605d26",
   "metadata": {},
   "outputs": [
    {
     "name": "stdout",
     "output_type": "stream",
     "text": [
      "Gonzaga vs. Georgia St. Prediction: 0.98473674\n",
      "UCLA vs. Akron Prediction: 0.9853607\n",
      "North Carolina vs. Marquette: 0.47195742\n",
      "Notre Dame vs. Alabama: 0.46739092\n",
      "St. Peter's vs. Kentucky: 0.8772055\n"
     ]
    }
   ],
   "source": [
    "print(\"Gonzaga vs. Georgia St. Prediction:\", model_xgb_prediction_pd.iloc[3, 2])\n",
    "print(\"UCLA vs. Akron Prediction:\", model_xgb_prediction_pd.iloc[15, 2])\n",
    "print(\"North Carolina vs. Marquette:\", model_xgb_prediction_pd.iloc[9, 2])\n",
    "print(\"Notre Dame vs. Alabama:\", model_xgb_prediction_pd.iloc[24, 2])\n",
    "print(\"St. Peter's vs. Kentucky:\", model_xgb_prediction_pd.iloc[13, 2])"
   ]
  },
  {
   "cell_type": "code",
   "execution_count": 1021,
   "id": "ba734c10",
   "metadata": {},
   "outputs": [],
   "source": [
    "results.append({'Name': 'XGB',\n",
    "                'Training_Acc': model_xgb_accuracy, \n",
    "                'Tournament_Acc': model_xgb_accuracy_tournament\n",
    "               })"
   ]
  },
  {
   "cell_type": "markdown",
   "id": "1f7ff675",
   "metadata": {},
   "source": [
    "Very, very interesting. Although it only predict 3 games correctly, we see that it correctly predicted St. Peter's victory; however, it was not able to predict Notre Dame winning and even worse North Carolina (a finalist in the tournament). Different does not always mean better, but it does show that a lower training accuracy does not mean a lower tournament accuracy."
   ]
  },
  {
   "cell_type": "code",
   "execution_count": 1022,
   "id": "059d9958",
   "metadata": {},
   "outputs": [
    {
     "data": {
      "text/plain": [
       "[{'Name': 'Linear_SVC', 'Training_Acc': 0.742, 'Tournament_Acc': 0.75},\n",
       " {'Name': 'Radial_SVC', 'Training_Acc': 0.7451, 'Tournament_Acc': 0.6875},\n",
       " {'Name': 'Degree3_SVC', 'Training_Acc': 0.7451, 'Tournament_Acc': 0.6875},\n",
       " {'Name': 'Logistic_Regression',\n",
       "  'Training_Acc': 0.7487684729064039,\n",
       "  'Tournament_Acc': 0.75},\n",
       " {'Name': 'Logistic_Regression_HTuned',\n",
       "  'Training_Acc': 0.7438423645320197,\n",
       "  'Tournament_Acc': 0.65625},\n",
       " {'Name': 'KNN242',\n",
       "  'Training_Acc': 0.7475369458128078,\n",
       "  'Tournament_Acc': 0.59375},\n",
       " {'Name': 'KNN_Best',\n",
       "  'Training_Acc': 0.7438423645320197,\n",
       "  'Tournament_Acc': 0.59375},\n",
       " {'Name': 'KNN_Best',\n",
       "  'Training_Acc': 0.7438423645320197,\n",
       "  'Tournament_Acc': 0.59375},\n",
       " {'Name': 'XGB', 'Training_Acc': 0.6988916256157636, 'Tournament_Acc': 0.75}]"
      ]
     },
     "execution_count": 1022,
     "metadata": {},
     "output_type": "execute_result"
    }
   ],
   "source": [
    "results"
   ]
  },
  {
   "cell_type": "markdown",
   "id": "47ffe2a2",
   "metadata": {},
   "source": [
    "## Conclusion"
   ]
  },
  {
   "cell_type": "markdown",
   "id": "03120cbd",
   "metadata": {},
   "source": [
    "After examining a couple of models (and their slight derivatives), I have come to the conclusion that a **Logistic Regression** model would suffice. Although it is the most basic one, it was the only one to have both a respectabe training accuracy and a tournament accuracy.\n",
    "\n",
    "If not Logistic Regression, I would choose the Radial SVC. The only problem what that (and all SVC's) is the runtime. When I scale this to include all 38 seasons plus the training set for 2023, say goodbye to my i5 processor.\n",
    "\n",
    "XGBoost did a really good job predicting those upsets as we can see with the lower training accuracy and a higher tournament accuracy. Two problems arise here. If it is upset heavy, then we would have an awful bracket. Sure we willg get the upsets, but the goal is to select the upsets carefully. If it got lucky and picked soley St. Peter's to be a huge upset, how will we know it will predict Princeton (2023) to upset Arizona?\n",
    "\n",
    "Lastly and certainly the least, KNN did a very good job in the training set, but like Purdue in the past 3 years, crumbles under the pressure. It seems like it does not take in to account the seed feature well. "
   ]
  },
  {
   "cell_type": "code",
   "execution_count": null,
   "id": "63cec134",
   "metadata": {},
   "outputs": [],
   "source": []
  }
 ],
 "metadata": {
  "kernelspec": {
   "display_name": "Python 3 (ipykernel)",
   "language": "python",
   "name": "python3"
  },
  "language_info": {
   "codemirror_mode": {
    "name": "ipython",
    "version": 3
   },
   "file_extension": ".py",
   "mimetype": "text/x-python",
   "name": "python",
   "nbconvert_exporter": "python",
   "pygments_lexer": "ipython3",
   "version": "3.10.9"
  }
 },
 "nbformat": 4,
 "nbformat_minor": 5
}
